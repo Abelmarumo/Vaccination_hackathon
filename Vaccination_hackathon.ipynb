{
 "cells": [
  {
   "cell_type": "code",
   "execution_count": 1,
   "metadata": {},
   "outputs": [],
   "source": [
    "import pandas as pd\n",
    "import matplotlib.pyplot as plt"
   ]
  },
  {
   "cell_type": "code",
   "execution_count": 2,
   "metadata": {},
   "outputs": [],
   "source": [
    "import spacy"
   ]
  },
  {
   "cell_type": "code",
   "execution_count": 3,
   "metadata": {},
   "outputs": [],
   "source": [
    "nlp = spacy.load('en_core_web_lg')"
   ]
  },
  {
   "cell_type": "code",
   "execution_count": 4,
   "metadata": {},
   "outputs": [],
   "source": [
    "##loading the data\n",
    "df_train =pd.read_csv('Train.csv')\n",
    "df_test = pd.read_csv('Test.csv')"
   ]
  },
  {
   "cell_type": "code",
   "execution_count": 5,
   "metadata": {},
   "outputs": [
    {
     "data": {
      "text/html": [
       "<div>\n",
       "<style scoped>\n",
       "    .dataframe tbody tr th:only-of-type {\n",
       "        vertical-align: middle;\n",
       "    }\n",
       "\n",
       "    .dataframe tbody tr th {\n",
       "        vertical-align: top;\n",
       "    }\n",
       "\n",
       "    .dataframe thead th {\n",
       "        text-align: right;\n",
       "    }\n",
       "</style>\n",
       "<table border=\"1\" class=\"dataframe\">\n",
       "  <thead>\n",
       "    <tr style=\"text-align: right;\">\n",
       "      <th></th>\n",
       "      <th>tweet_id</th>\n",
       "      <th>safe_text</th>\n",
       "      <th>label</th>\n",
       "      <th>agreement</th>\n",
       "    </tr>\n",
       "  </thead>\n",
       "  <tbody>\n",
       "    <tr>\n",
       "      <th>0</th>\n",
       "      <td>CL1KWCMY</td>\n",
       "      <td>Me &amp;amp; The Big Homie meanboy3000 #MEANBOY #M...</td>\n",
       "      <td>0.0</td>\n",
       "      <td>1.0</td>\n",
       "    </tr>\n",
       "    <tr>\n",
       "      <th>1</th>\n",
       "      <td>E3303EME</td>\n",
       "      <td>I'm 100% thinking of devoting my career to pro...</td>\n",
       "      <td>1.0</td>\n",
       "      <td>1.0</td>\n",
       "    </tr>\n",
       "    <tr>\n",
       "      <th>2</th>\n",
       "      <td>M4IVFSMS</td>\n",
       "      <td>#whatcausesautism VACCINES, DO NOT VACCINATE Y...</td>\n",
       "      <td>-1.0</td>\n",
       "      <td>1.0</td>\n",
       "    </tr>\n",
       "    <tr>\n",
       "      <th>3</th>\n",
       "      <td>1DR6ROZ4</td>\n",
       "      <td>I mean if they immunize my kid with something ...</td>\n",
       "      <td>-1.0</td>\n",
       "      <td>1.0</td>\n",
       "    </tr>\n",
       "    <tr>\n",
       "      <th>4</th>\n",
       "      <td>J77ENIIE</td>\n",
       "      <td>Thanks to &lt;user&gt; Catch me performing at La Nui...</td>\n",
       "      <td>0.0</td>\n",
       "      <td>1.0</td>\n",
       "    </tr>\n",
       "  </tbody>\n",
       "</table>\n",
       "</div>"
      ],
      "text/plain": [
       "   tweet_id                                          safe_text  label  \\\n",
       "0  CL1KWCMY  Me &amp; The Big Homie meanboy3000 #MEANBOY #M...    0.0   \n",
       "1  E3303EME  I'm 100% thinking of devoting my career to pro...    1.0   \n",
       "2  M4IVFSMS  #whatcausesautism VACCINES, DO NOT VACCINATE Y...   -1.0   \n",
       "3  1DR6ROZ4  I mean if they immunize my kid with something ...   -1.0   \n",
       "4  J77ENIIE  Thanks to <user> Catch me performing at La Nui...    0.0   \n",
       "\n",
       "   agreement  \n",
       "0        1.0  \n",
       "1        1.0  \n",
       "2        1.0  \n",
       "3        1.0  \n",
       "4        1.0  "
      ]
     },
     "execution_count": 5,
     "metadata": {},
     "output_type": "execute_result"
    }
   ],
   "source": [
    "##displaying the data\n",
    "df_train.head()"
   ]
  },
  {
   "cell_type": "code",
   "execution_count": 6,
   "metadata": {},
   "outputs": [
    {
     "data": {
      "text/plain": [
       "1.000000    5866\n",
       "0.666667    3894\n",
       "0.333333     239\n",
       "Name: agreement, dtype: int64"
      ]
     },
     "execution_count": 6,
     "metadata": {},
     "output_type": "execute_result"
    }
   ],
   "source": [
    "##checking the distribution of the agreement\n",
    "df_train['agreement'].value_counts()"
   ]
  },
  {
   "cell_type": "code",
   "execution_count": 7,
   "metadata": {},
   "outputs": [
    {
     "data": {
      "text/plain": [
       " 0.000000    4908\n",
       " 1.000000    4053\n",
       "-1.000000    1038\n",
       " 0.666667       1\n",
       "Name: label, dtype: int64"
      ]
     },
     "execution_count": 7,
     "metadata": {},
     "output_type": "execute_result"
    }
   ],
   "source": [
    "##checking the distribution of the label\n",
    "df_train['label'].value_counts()"
   ]
  },
  {
   "cell_type": "code",
   "execution_count": 8,
   "metadata": {},
   "outputs": [],
   "source": [
    "df_train_modified=df_train[df_train['label'].values==0.666667].copy()"
   ]
  },
  {
   "cell_type": "code",
   "execution_count": 9,
   "metadata": {},
   "outputs": [
    {
     "data": {
      "text/plain": [
       "0"
      ]
     },
     "execution_count": 9,
     "metadata": {},
     "output_type": "execute_result"
    }
   ],
   "source": [
    "len(df_train_modified)"
   ]
  },
  {
   "cell_type": "code",
   "execution_count": 10,
   "metadata": {},
   "outputs": [
    {
     "data": {
      "text/plain": [
       "Series([], Name: label, dtype: int64)"
      ]
     },
     "execution_count": 10,
     "metadata": {},
     "output_type": "execute_result"
    }
   ],
   "source": [
    "df_train_modified['label'].value_counts()"
   ]
  },
  {
   "cell_type": "code",
   "execution_count": 11,
   "metadata": {},
   "outputs": [
    {
     "data": {
      "text/plain": [
       "10001"
      ]
     },
     "execution_count": 11,
     "metadata": {},
     "output_type": "execute_result"
    }
   ],
   "source": [
    "##checking the length\n",
    "len(df_train)"
   ]
  },
  {
   "cell_type": "code",
   "execution_count": 12,
   "metadata": {},
   "outputs": [
    {
     "data": {
      "text/html": [
       "<div>\n",
       "<style scoped>\n",
       "    .dataframe tbody tr th:only-of-type {\n",
       "        vertical-align: middle;\n",
       "    }\n",
       "\n",
       "    .dataframe tbody tr th {\n",
       "        vertical-align: top;\n",
       "    }\n",
       "\n",
       "    .dataframe thead th {\n",
       "        text-align: right;\n",
       "    }\n",
       "</style>\n",
       "<table border=\"1\" class=\"dataframe\">\n",
       "  <thead>\n",
       "    <tr style=\"text-align: right;\">\n",
       "      <th></th>\n",
       "      <th>tweet_id</th>\n",
       "      <th>safe_text</th>\n",
       "    </tr>\n",
       "  </thead>\n",
       "  <tbody>\n",
       "    <tr>\n",
       "      <th>0</th>\n",
       "      <td>00BHHHP1</td>\n",
       "      <td>&lt;user&gt; &lt;user&gt; ... &amp;amp; 4 a vaccine given 2 he...</td>\n",
       "    </tr>\n",
       "    <tr>\n",
       "      <th>1</th>\n",
       "      <td>00UNMD0E</td>\n",
       "      <td>Students starting school without whooping coug...</td>\n",
       "    </tr>\n",
       "    <tr>\n",
       "      <th>2</th>\n",
       "      <td>01AXPTJF</td>\n",
       "      <td>I'm kinda over every ep of &lt;user&gt; being \"rippe...</td>\n",
       "    </tr>\n",
       "    <tr>\n",
       "      <th>3</th>\n",
       "      <td>01HOEQJW</td>\n",
       "      <td>How many innocent children die for lack of vac...</td>\n",
       "    </tr>\n",
       "    <tr>\n",
       "      <th>4</th>\n",
       "      <td>01JUKMAO</td>\n",
       "      <td>CDC eyeing bird flu vaccine for humans, though...</td>\n",
       "    </tr>\n",
       "  </tbody>\n",
       "</table>\n",
       "</div>"
      ],
      "text/plain": [
       "   tweet_id                                          safe_text\n",
       "0  00BHHHP1  <user> <user> ... &amp; 4 a vaccine given 2 he...\n",
       "1  00UNMD0E  Students starting school without whooping coug...\n",
       "2  01AXPTJF  I'm kinda over every ep of <user> being \"rippe...\n",
       "3  01HOEQJW  How many innocent children die for lack of vac...\n",
       "4  01JUKMAO  CDC eyeing bird flu vaccine for humans, though..."
      ]
     },
     "execution_count": 12,
     "metadata": {},
     "output_type": "execute_result"
    }
   ],
   "source": [
    "df_test.head()"
   ]
  },
  {
   "cell_type": "code",
   "execution_count": 13,
   "metadata": {},
   "outputs": [
    {
     "data": {
      "text/plain": [
       "[Pandas(Index=0, tweet_id='CL1KWCMY', safe_text='Me &amp; The Big Homie meanboy3000 #MEANBOY #MB #MBS #MMR #STEGMANLIFE @ Stegman St. <url>', label=0.0, agreement=1.0),\n",
       " Pandas(Index=1, tweet_id='E3303EME', safe_text=\"I'm 100% thinking of devoting my career to proving autism isn't caused by vaccines due to the IDIOTIC posts I've seen about World Autism Day\", label=1.0, agreement=1.0),\n",
       " Pandas(Index=2, tweet_id='M4IVFSMS', safe_text='#whatcausesautism VACCINES, DO NOT VACCINATE YOUR CHILD', label=-1.0, agreement=1.0),\n",
       " Pandas(Index=3, tweet_id='1DR6ROZ4', safe_text=\"I mean if they immunize my kid with something that won't secretly kill him years down the line then I'm all for it, but I don't trust that\", label=-1.0, agreement=1.0),\n",
       " Pandas(Index=4, tweet_id='J77ENIIE', safe_text='Thanks to <user> Catch me performing at La Nuit NYC 1134 1st ave. Show starts at 6! #jennifair #mmr… <url>', label=0.0, agreement=1.0),\n",
       " Pandas(Index=5, tweet_id='OVNPOAUX', safe_text='<user> a nearly 67 year old study when mental health studies and vaccines were relatively in their infancies that has been refuted?', label=1.0, agreement=0.6666666666666666),\n",
       " Pandas(Index=6, tweet_id='JDA2QDV5', safe_text='Study of more than 95,000 kids finds no link between MMR vaccine and autism <url>', label=1.0, agreement=0.6666666666666666),\n",
       " Pandas(Index=7, tweet_id='S6UKR4OJ', safe_text='psa: VACCINATE YOUR FUCKING KIDS', label=1.0, agreement=1.0),\n",
       " Pandas(Index=8, tweet_id='V6IJATBE', safe_text='Coughing extra on the shuttle and everyone thinks I have the measles. 😂 #VaccinateYourKids', label=1.0, agreement=0.6666666666666666),\n",
       " Pandas(Index=9, tweet_id='VB25IDQK', safe_text='AIDS vaccine created at Oregon Health &amp; Science University may clear virus from body - <url> <url>', label=1.0, agreement=0.6666666666666666),\n",
       " Pandas(Index=10, tweet_id='PEM9KSVV', safe_text=\"<user> @ this point I have 2 text, butw/Bon Jovi cover playin @ Alibi's hope U can come out 2 MMR BBQ<user> will b there!\", label=0.0, agreement=1.0),\n",
       " Pandas(Index=11, tweet_id='TTLQWD2R', safe_text='My prediction, vaccine exemption in Arizona will end soon. To much money is being lost by big pharma.', label=0.0, agreement=0.6666666666666666),\n",
       " Pandas(Index=12, tweet_id='0STNE2MG', safe_text='Getting my vaccines ! #china #nervous #moving .. With Cheryl (@ Southern Nevada Health District) <url>', label=1.0, agreement=1.0),\n",
       " Pandas(Index=13, tweet_id='9SCBVTZP', safe_text='1$Mug Noche <user> #mmr #mixmasterrod #dcdj #mmr   @ Mad Hatter <url>', label=0.0, agreement=1.0),\n",
       " Pandas(Index=14, tweet_id='H31NBXJW', safe_text='Got my Influenza Vaccine! (@ Purdue University Student Health (PUSH) - <user> <url>', label=1.0, agreement=0.6666666666666666),\n",
       " Pandas(Index=15, tweet_id='HN8KBV0K', safe_text='SB121 [Enroll] Meningococcal disease-pupils to be immunized against at recommended age <url>', label=0.0, agreement=0.6666666666666666),\n",
       " Pandas(Index=16, tweet_id='NLNBQ85U', safe_text='Increasing number of parents skip vaccinations for their children-Columbia Missourian #Columbia <url>', label=0.0, agreement=1.0),\n",
       " Pandas(Index=17, tweet_id='XLA9CL37', safe_text='<user> Thank you for standing with CA parents and their children in support of <user> #vaccineswork', label=1.0, agreement=1.0),\n",
       " Pandas(Index=18, tweet_id='KVQBJBAU', safe_text=\"Dude idc if Disney Land has the measles, that means shorter lines for rides so I'm driving down there rn\", label=0.0, agreement=1.0),\n",
       " Pandas(Index=19, tweet_id='CDFY1QGD', safe_text='BeefTalk: Start your calf vaccinations now <url> via <user> \\nGood article on herd health!', label=1.0, agreement=1.0),\n",
       " Pandas(Index=20, tweet_id='GSCVSPAA', safe_text=\"I don't care what <user> says, you should probably get your kids vaccinated.\", label=1.0, agreement=1.0),\n",
       " Pandas(Index=21, tweet_id='QW2SH0OJ', safe_text='#ACR13 small study shows in 10 pts with lupus shingles vaccine safe. Needs to be confirmed with larger study <url>', label=1.0, agreement=0.6666666666666666),\n",
       " Pandas(Index=22, tweet_id='Y15Y0XOB', safe_text='CDC: Measles epidemic poses travel risks usat.ly/ixdtv1\\nYes, very true but what about the Zombie Epidemic closing in on us?', label=0.0, agreement=1.0),\n",
       " Pandas(Index=23, tweet_id='XYUPPEQ4', safe_text='Every time I see the \"to vaccinate or not\" debate, I wonder if those on one side of the argument should even have children.', label=1.0, agreement=1.0),\n",
       " Pandas(Index=24, tweet_id='89AB846O', safe_text='<user> #CDC lied and hid data that black boys have an 340% uncreased risk of developing autism after MMR #CDCwhistleblower help!?!?', label=-1.0, agreement=1.0),\n",
       " Pandas(Index=25, tweet_id='XSXFN1C8', safe_text='<user> vaccines causing autism', label=-1.0, agreement=1.0),\n",
       " Pandas(Index=26, tweet_id='ZKURTNG4', safe_text='“<user> I rarely see arguments about over vaccination.” Which is actually a big deal', label=0.0, agreement=0.6666666666666666),\n",
       " Pandas(Index=27, tweet_id='UR48VF6W', safe_text=\"I'm not obsessed w Ebola, just following an outbreak of world's deadliest disease that has no vaccine, no cure, &amp; up to 90% death rate.\", label=1.0, agreement=0.6666666666666666),\n",
       " Pandas(Index=28, tweet_id='V24T47DJ', safe_text=\"<user> Joshthenewt I suck at the game, haha well some people say I don't but my mmr is eh\", label=0.0, agreement=1.0),\n",
       " Pandas(Index=29, tweet_id='QZX6OHD9', safe_text=\"Don't shake his hand, Pocahontas! That's probably why we have measles now! #Pocahontaslivetweet\", label=0.0, agreement=0.6666666666666666),\n",
       " Pandas(Index=30, tweet_id='5G4PTVA0', safe_text=\"<user> Yes. I'm a part of public health just like I'm a part of nature. I feed an abandoned baby bird, I vaccinate my privileged kids.\", label=1.0, agreement=1.0),\n",
       " Pandas(Index=31, tweet_id='CLSMOD0A', safe_text='New studies show that vaccines are not associated with autism. In other news, the sky is blue.', label=1.0, agreement=1.0),\n",
       " Pandas(Index=32, tweet_id='NSJP73DN', safe_text='Not to be repetitive, but I could not be less shocked. No increase in ASD, even in genetically high risk. #vaccinate <url>', label=1.0, agreement=1.0),\n",
       " Pandas(Index=33, tweet_id='IQSW8EV9', safe_text='Glad I got vaccinated! “<user> HEALTH ALERT: A case of meningitis has been reported at Monmouth University <url>', label=1.0, agreement=1.0),\n",
       " Pandas(Index=34, tweet_id='IT3VWV5T', safe_text='You look like you got the measles', label=0.0, agreement=0.6666666666666666),\n",
       " Pandas(Index=35, tweet_id='6PMH7C56', safe_text='<user> <user> Other than that, his defense is not against vaccines being harmful - but the American life being unhealthy.', label=-1.0, agreement=0.3333333333333333),\n",
       " Pandas(Index=36, tweet_id='NVX35DOK', safe_text='like hello ranked reset they probably did bad in their placements and their mmr went down not yours went up lol', label=0.0, agreement=1.0),\n",
       " Pandas(Index=37, tweet_id='CSDHI2AI', safe_text=\"Amid measles outbreak, vaccines for teachers aren't required: While much of the attention in the ongoing measles… <url>\", label=0.0, agreement=0.6666666666666666),\n",
       " Pandas(Index=38, tweet_id='NBU6HNFM', safe_text='<user> <user> <user> <user> “<user> <url> Measles threat”', label=0.0, agreement=0.6666666666666666),\n",
       " Pandas(Index=39, tweet_id='6RF49BXV', safe_text='Improve mood, energy, immunity, cardio health. 15% kit profit <user> thru 11/11 #Sandy #Donate <url>', label=0.0, agreement=1.0),\n",
       " Pandas(Index=40, tweet_id='UHISBYFW', safe_text='MT <user> New #Vaccination Bill Would End Exemptions 4Personal, Religious ... <url> Via <user> <url>', label=0.0, agreement=1.0),\n",
       " Pandas(Index=41, tweet_id='WGLU7FJR', safe_text='Autism and immunizations: Should you vaccinate? <url>', label=0.0, agreement=0.6666666666666666),\n",
       " Pandas(Index=42, tweet_id='MV37WE6V', safe_text='BART Riders Warned About Measles Infection From Contagious Passenger: OAKLAND (CBS SF) – Bay Area Rapid Transit... <url>', label=0.0, agreement=1.0),\n",
       " Pandas(Index=43, tweet_id='R0KEPOT6', safe_text='.<user> U.S. #Measles Cases Hit 15-Year High. So far this year, 118 cases of measles have been reported in the Unit... <url>', label=0.0, agreement=0.6666666666666666),\n",
       " Pandas(Index=44, tweet_id='LIKV0BSZ', safe_text='Pull Up Myxx Nightlife.... Stint T performing Live Hosted By <user> .... #supportyourown #MMR… <url>', label=0.0, agreement=1.0),\n",
       " Pandas(Index=45, tweet_id='MH3KK5TA', safe_text=\"CDC eyeing bird flu vaccine for humans, though risk is low: Federal officials said Wednesday they're taking steps… <url>\", label=0.0, agreement=0.6666666666666666),\n",
       " Pandas(Index=46, tweet_id='C5ULRGNS', safe_text='Involved in fight against #Measles and other #Vaccine preventable diseases? Tenure Track opening <user> <url> #JoinUs', label=1.0, agreement=0.6666666666666666),\n",
       " Pandas(Index=47, tweet_id='G1CJ54KD', safe_text=\"<user> I'm not vaccinating my kids lol\", label=-1.0, agreement=1.0),\n",
       " Pandas(Index=48, tweet_id='VS1DRSYT', safe_text='Alleged victim reviewing immunity paperwork so she can resume testimony w/o fear of blackmail prosecution.', label=0.0, agreement=1.0),\n",
       " Pandas(Index=49, tweet_id='6UJBRRLD', safe_text='Thanks<user> for being more crystal clear about the lack of evidence linking mmr to autism. I noticed :) #MeaslesOutbreak #autism', label=1.0, agreement=0.6666666666666666),\n",
       " Pandas(Index=50, tweet_id='25E649I8', safe_text='<user> giving me DVDs on how vaccinating children is bad', label=0.0, agreement=0.6666666666666666),\n",
       " Pandas(Index=51, tweet_id='TE5ZSELL', safe_text=\"Hey Now...<user> #mixmasterrod #follow #madhatterdc #mmr  @ MixMasterRod's Upstairs Lounge <url>\", label=0.0, agreement=1.0),\n",
       " Pandas(Index=52, tweet_id='9NVMT7GL', safe_text='I seriously don\\'t want to have a child until this \"anti-vaccination\" movement has ended. It\\'s terrifying.', label=1.0, agreement=1.0),\n",
       " Pandas(Index=53, tweet_id='YTAF4OIJ', safe_text='<user> <user> <user>  epidemic of Enterovirus; mumps; now measles; drug resistant TB is next #Treason #illegalimmigration', label=0.0, agreement=1.0),\n",
       " Pandas(Index=54, tweet_id='25MG3GQ6', safe_text=\"They said I wasn't gone be shit, lol looked like I proved them wrong #RRR #MMR #SRT10MG We Here Baby !!!… <url>\", label=0.0, agreement=1.0),\n",
       " Pandas(Index=55, tweet_id='6CW5ERN4', safe_text='Flu shots at school boost vaccination rates: Offering flu shots at elementary schools could reduce the number of... <url>', label=0.0, agreement=0.6666666666666666),\n",
       " Pandas(Index=56, tweet_id='UW0BXIRO', safe_text='“<user> 1) Marin County school board sides with young leukemia patient on vaccinations <url> #GateBreakers”', label=0.0, agreement=0.6666666666666666),\n",
       " Pandas(Index=57, tweet_id='84ZUVYTR', safe_text='\"Still running with the same niggas til the death of me\" dibiasimb <user> #MMR #ManyMenRecords… <url>', label=0.0, agreement=1.0),\n",
       " Pandas(Index=58, tweet_id='Y3OMTB1Q', safe_text=\"<user> yeah. I'll just stick to my regular vaccines. Oh wait, that gives me autism.\", label=-1.0, agreement=0.6666666666666666),\n",
       " Pandas(Index=59, tweet_id='BAONYLBR', safe_text=\"<user> anti-vaccine people want to control people with fear and weaken herd immunity...so if anyone knows about mind control, it's them\", label=1.0, agreement=1.0),\n",
       " Pandas(Index=60, tweet_id='SNIUDDKD', safe_text='Why it\\'s important to #vaccinate #vaccineswork \"<user> Measles update: <user> says working w/ <user> <url>', label=1.0, agreement=1.0),\n",
       " Pandas(Index=61, tweet_id='O44VVHXC', safe_text=\"I don't think I will ever understand people's reasons for not getting vaccinated and not vaccinating their kids. What?!?! Explain?!?!\", label=1.0, agreement=0.6666666666666666),\n",
       " Pandas(Index=62, tweet_id='ZCOLETM5', safe_text='CIA: No more vaccination campaigns in spy ops <url> via <user> Harm from protected medic status ruse will linger', label=-1.0, agreement=0.6666666666666666),\n",
       " Pandas(Index=63, tweet_id='5VPTC5UL', safe_text='Measles outbreak prompts vaccination debate: A political debate rages as the measles outbreak spreads to more than… <url>', label=0.0, agreement=1.0),\n",
       " Pandas(Index=64, tweet_id='1T5BM6UT', safe_text='People need to get there children vaccinated! There are very bad diseases coming back!', label=1.0, agreement=1.0),\n",
       " Pandas(Index=65, tweet_id='E88B1XQJ', safe_text='Vaccine Brain Damage Cover Up Implodes: <url> <user> on <user> discussing #CDCwhistleblower <user>', label=-1.0, agreement=1.0),\n",
       " Pandas(Index=66, tweet_id='G322PDMD', safe_text='Vaccines....(@ Childrens Clinic) <url>', label=0.0, agreement=0.6666666666666666),\n",
       " Pandas(Index=67, tweet_id='39LZM4FP', safe_text='did you know you get infected with the measles through airborne transmission \\nwtf', label=0.0, agreement=1.0),\n",
       " Pandas(Index=68, tweet_id='Q9C5TABK', safe_text='Access to Fitchburg school is limited amid measles scare <url> Most read by neighbors in #Fitchburg #MA', label=0.0, agreement=1.0),\n",
       " Pandas(Index=69, tweet_id='ALVLYD70', safe_text='<user> <user>  BOTH ARE DEADLY TO SOME KIDS. Allergies are no joke and can be more deadly to a child than measles. Vaccinate every1', label=1.0, agreement=1.0),\n",
       " Pandas(Index=70, tweet_id='6Y6VTXM8', safe_text='Measles in the 717 😳😳😳😳😳😷😷😷', label=0.0, agreement=0.6666666666666666),\n",
       " Pandas(Index=71, tweet_id='PNPIT1K0', safe_text='<user> this topic makes me scared to bring kids into modern society. Time to start looking for private schools who mandate vaccines.', label=1.0, agreement=1.0),\n",
       " Pandas(Index=72, tweet_id='JSYUBMYQ', safe_text='<user> #GOP STOP blaming #Immigrants first #Ebola now #measles Which diseases?brought their ancestors? #AINF <url>', label=1.0, agreement=0.6666666666666666),\n",
       " Pandas(Index=73, tweet_id='HS873E7E', safe_text='Do they already have a cure for Measles?', label=0.0, agreement=1.0),\n",
       " Pandas(Index=74, tweet_id='500UVF6L', safe_text=\"<user> <user> they do, can't attend school unless vaccinated\", label=0.0, agreement=1.0),\n",
       " Pandas(Index=75, tweet_id='XN6LTIAJ', safe_text=\"If you don't vaccinate your children, you are a shitty parent. End of story.\", label=1.0, agreement=1.0),\n",
       " Pandas(Index=76, tweet_id='BN71WM25', safe_text='As a citizen of the Kingdom of God on assignment, we have a diplomatic immunity from the fear of man.', label=0.0, agreement=1.0),\n",
       " Pandas(Index=77, tweet_id='ZG363LFB', safe_text='Top Colorado Doctor Says Adults Worried About Measles Should Just Get A Vaccination: The measles outbreak is… <url>', label=1.0, agreement=1.0),\n",
       " Pandas(Index=78, tweet_id='QX9KY4P4', safe_text=\"<user> nah an idiot is someone who doesn't allow their kids to be vaccinated\", label=1.0, agreement=1.0),\n",
       " Pandas(Index=79, tweet_id='7KEN50CE', safe_text='Why kids need vaccinations. Late 19th-century maps show measles mortality before vaccines: <url> <url>', label=1.0, agreement=1.0),\n",
       " Pandas(Index=80, tweet_id='VW95HEG7', safe_text='Measles Fears Spread in NJ Amid Suspected Case <url>', label=0.0, agreement=1.0),\n",
       " Pandas(Index=81, tweet_id='URGIK16V', safe_text=\"Baby vaccination day. She's getting the measles one early as there are fuckwits here in Chicago who don't vaccinate ensuring it's a problem!\", label=1.0, agreement=1.0),\n",
       " Pandas(Index=82, tweet_id='PM6NIT5K', safe_text='Loving the measles poster making spirit today! ❤️❤️❤️ <url>', label=0.0, agreement=1.0),\n",
       " Pandas(Index=83, tweet_id='2LVXDTH9', safe_text='Baseball Coach At Santa Monica High Contracts Measles <url>', label=0.0, agreement=1.0),\n",
       " Pandas(Index=84, tweet_id='ZJ2BI2NV', safe_text='im sick of hearing about people not vaccinating their children. I am sick of hearing about people\\'s \"freedom\" to do insane, dangerous things', label=1.0, agreement=1.0),\n",
       " Pandas(Index=85, tweet_id='V27JWHIW', safe_text='Which one is more risky for childrena vaccination or going to get them from school with your own car?', label=0.0, agreement=0.6666666666666666),\n",
       " Pandas(Index=86, tweet_id='21HVF69Z', safe_text='What are the odds that the kid with measles uses our lab room??? 😷 <user>', label=0.0, agreement=1.0),\n",
       " Pandas(Index=87, tweet_id='9GN9U7F0', safe_text='<user> Parents that refuse to get their kids immunized should be charged with reckless endangerment if their kid gets another sick.', label=1.0, agreement=1.0),\n",
       " Pandas(Index=88, tweet_id='QH03ZNAL', safe_text='RT <user> Vaccinations The Measles and Medicaid Expansion <url> <user>', label=0.0, agreement=1.0),\n",
       " Pandas(Index=89, tweet_id='43MWGI00', safe_text='Centers for Disease Control: This Year’s Flu Vaccine Doesn’t Work <url> #health #flu #cure #failure #sick #CDC #really?', label=-1.0, agreement=0.6666666666666666),\n",
       " Pandas(Index=90, tweet_id='TP0MIEXK', safe_text=\"<user> TY. Fought hard 2 NOT vaccinate my kids. Yrs of ppl's judgements. Don't get hurt; get smart\", label=-1.0, agreement=0.6666666666666666),\n",
       " Pandas(Index=91, tweet_id='7GMFOQGY', safe_text='Vaccinate, people! “<user> All 15 Tarrant County #measles cases and five in Denton Co traced to megachurch <url>', label=1.0, agreement=0.6666666666666666),\n",
       " Pandas(Index=92, tweet_id='PK5MVH6B', safe_text='HB1251 [NEW] Providing for health insurance coverage for immunizations administered at a pharmacy by a pharmacist. <url>', label=0.0, agreement=0.6666666666666666),\n",
       " Pandas(Index=93, tweet_id='KZ2RS1J2', safe_text='A4077 [NEW] Revises and codifies schedule for childhood lead screening along with other immunization and wellness... <url>', label=0.0, agreement=0.6666666666666666),\n",
       " Pandas(Index=94, tweet_id='XVNF2DFN', safe_text='Fridays immunity challenge is walking backwards. To be safe this time be sure to watch your back...', label=0.0, agreement=0.6666666666666666),\n",
       " Pandas(Index=95, tweet_id='0DSXLZTP', safe_text='My ’70s Health-Nut Parents Didn’t Vaccinate Me. This Is What My Childhood Was Like. <url> #important', label=1.0, agreement=0.6666666666666666),\n",
       " Pandas(Index=96, tweet_id='KX034WEQ', safe_text='“<user> People who complain live longer. Releasing tension increases immunity and improves overall health.” Well this is good news', label=0.0, agreement=1.0),\n",
       " Pandas(Index=97, tweet_id='7VSVVU00', safe_text='Austerity is not a Vaccine to Crisis... It is a Parasite with Pandemic Potential! It Drains Life, Killing Slowly! #OccupyWallStreet', label=0.0, agreement=1.0),\n",
       " Pandas(Index=98, tweet_id='SLTZR5CB', safe_text='“<user> Compensation For Autism Brain Damage and Other Illnesses From Vaccine Court via <user> <url>', label=0.0, agreement=0.6666666666666666),\n",
       " Pandas(Index=99, tweet_id='HOGQ697J', safe_text=\"Is it that I seek to bear w/ them? Is it that I see the state of ppl's hearts. / #storytelling #autism #vaccineinjury <url>\", label=0.0, agreement=0.6666666666666666),\n",
       " Pandas(Index=100, tweet_id='85B8L54L', safe_text='\"<user> Conservative Neurosurgeon Ben Carson Says Vaccines Are A Public Health Issue <url> 1 thing I agree with him on.', label=-1.0, agreement=0.6666666666666666),\n",
       " Pandas(Index=101, tweet_id='58G8VI7V', safe_text='Measles case confirmed at Plano ISD school <url>', label=0.0, agreement=1.0),\n",
       " Pandas(Index=102, tweet_id='HMLAGVNC', safe_text=\"<user> you're the reason why people think that vaccines cause autism\", label=1.0, agreement=1.0),\n",
       " Pandas(Index=103, tweet_id='D8IZHAF6', safe_text='#NEWSINGLE #smokendrink #manymenrecords 🔥🔥🔥 @ MMR Studios <url>', label=0.0, agreement=1.0),\n",
       " Pandas(Index=104, tweet_id='PC9PCTXT', safe_text='BdNwz! Measles kiddie parties is a thing! GdNwz! So is \"I have The Most Misinformed,  Arrogant Parents of the Year Awards\"!', label=1.0, agreement=1.0),\n",
       " Pandas(Index=105, tweet_id='1TI13L1W', safe_text=\"<user> ok what's good u have to say about politics about our borders wide open about vaccines killing kids about the devaluation of\", label=-1.0, agreement=1.0),\n",
       " Pandas(Index=106, tweet_id='5AGCUKS4', safe_text='“<user> News: More than 330 measles cases in just four months in England <url> - #health” Has Jenny McCarthy visited lately?', label=0.0, agreement=0.6666666666666666),\n",
       " Pandas(Index=107, tweet_id='HZ1KH1DK', safe_text='Three Babies ‘Cured’ Of HIV After Being Given Vaccine After Birth  via <user> <url>', label=0.0, agreement=0.6666666666666666),\n",
       " Pandas(Index=108, tweet_id='DZWTVPSH', safe_text='Who wants a shot of autism juice...I mean measles vaccine!? #ThingsMyDoctorSays <user>', label=-1.0, agreement=1.0),\n",
       " Pandas(Index=109, tweet_id='PNX57E59', safe_text=\"<user> let's use Ebola as a step to say #vaccineswork #flu is just as, if not more dangerous. It kills thousands. Also #MMR #polio\", label=1.0, agreement=0.6666666666666666),\n",
       " Pandas(Index=110, tweet_id='7K20GEF1', safe_text='<user> <user> <user> <user> <user>  over 1.2million children no autism-vaccine link <url>', label=1.0, agreement=1.0),\n",
       " Pandas(Index=111, tweet_id='98KOOCMC', safe_text='<user> where do I go to get Ryno his middle school vaccinations? Too big for shots for tots? Ouachita Parish Health Unit?', label=1.0, agreement=1.0),\n",
       " Pandas(Index=112, tweet_id='KHA6LZ6C', safe_text=\"Don't bring that measles &amp;&amp; Ebola shit in Baltimore\", label=0.0, agreement=0.6666666666666666),\n",
       " Pandas(Index=113, tweet_id='04C8NTIN', safe_text='<user> vaccine truth <url>', label=0.0, agreement=0.6666666666666666),\n",
       " Pandas(Index=114, tweet_id='PELFFNN6', safe_text='<user> hell yeah. Do you think she thinks the baby has an immunity or something?', label=0.0, agreement=0.6666666666666666),\n",
       " Pandas(Index=115, tweet_id='KCFZ4YVU', safe_text='“<user> The measles may have hit Wisconsin. <url> <url> dammit', label=1.0, agreement=1.0),\n",
       " Pandas(Index=116, tweet_id='WTL56K4C', safe_text='<user> i still feel bad. :( please dont be scared of me. #immunizations2012', label=1.0, agreement=0.6666666666666666),\n",
       " Pandas(Index=117, tweet_id='7XOOBCEC', safe_text='\"<user> Schumer Wants Measles Vaccine More\\xa0Accessible <url>', label=1.0, agreement=1.0),\n",
       " Pandas(Index=118, tweet_id='NSZDXB2J', safe_text='2/3 ...yet the only way to immunize him is to give all 3. Measles vac in rare cases causes brain damage ...which I believe caused Autism ..', label=-1.0, agreement=0.6666666666666666),\n",
       " Pandas(Index=119, tweet_id='HFJICYLC', safe_text='Not only should they treat people where they obtained the disease but they should also provide vaccinations to those who reside in that area', label=1.0, agreement=1.0),\n",
       " Pandas(Index=120, tweet_id='L2TIWPQD', safe_text=\"NEW: Bexar Co. District Attorney Nico LaHood: 'Vaccinations can and do cause autism' by Brian Chasnoff <url>\", label=-1.0, agreement=1.0),\n",
       " Pandas(Index=121, tweet_id='3HSMM8U6', safe_text='Vaccine scare leads to measles epidemic in UK. <url>', label=0.0, agreement=1.0),\n",
       " Pandas(Index=122, tweet_id='FD8ZGBZH', safe_text=\"The marketing message to anti-vaxers is: focus on the weak &amp; sick that are at risk &amp; can't vaccinate. Don't focus on the facts.\", label=1.0, agreement=0.6666666666666666),\n",
       " Pandas(Index=123, tweet_id='R80SL26M', safe_text='The article I just RTed if u choose to not get vaccinated you\\'re being ignorant and just don\\'t even give me the whole \"they cause autism\"', label=1.0, agreement=1.0),\n",
       " Pandas(Index=124, tweet_id='Y6UD21RZ', safe_text='<user> literally does not matter. It will now just be \"what?! There\\'s no way mine could be this low! Blizzard is just bad at mmr!\"', label=0.0, agreement=1.0),\n",
       " Pandas(Index=125, tweet_id='V44G0UAM', safe_text='I hope you get measles  <url>', label=0.0, agreement=1.0),\n",
       " Pandas(Index=126, tweet_id='VQON2E1J', safe_text='Last vaccine! (@ Aurora Health Care - Occupational Health) <url>', label=1.0, agreement=1.0),\n",
       " Pandas(Index=127, tweet_id='CODMHST1', safe_text='Kids night at Earthfare. Time to watch parents douse everything their little angels touch with sanitizer, preventing them from immunities.', label=0.0, agreement=1.0),\n",
       " Pandas(Index=128, tweet_id='DOZBHCZ5', safe_text='<user> <user> and the vaccine will injure tens of thousands more! #flushot', label=-1.0, agreement=1.0),\n",
       " Pandas(Index=129, tweet_id='HVUL7TB4', safe_text='It is important to vaccinate and care for baby pigs, when they are… <url>', label=1.0, agreement=0.6666666666666666),\n",
       " Pandas(Index=130, tweet_id='6MKACF23', safe_text=\"Editorial: Remove 'philosophical' exemption from vaccine requirements for school entry: Michigan is in danger of… <url>\", label=0.0, agreement=1.0),\n",
       " Pandas(Index=131, tweet_id='6SQPLPAL', safe_text='<user> <user> <user> <user> <user> Even with the vaccine, your child is still at risk of catching the disease.', label=0.0, agreement=0.6666666666666666),\n",
       " Pandas(Index=132, tweet_id='XPBFJJBT', safe_text='<user> <user> <user> parents would no longer be able to rely on the herd immunity of protected children.', label=1.0, agreement=1.0),\n",
       " Pandas(Index=133, tweet_id='4KEP2GOM', safe_text=\"I honestly don't believe in immunization. \\nNow they passed a new law that starting this year we all need specific shots to get into school.\", label=-1.0, agreement=1.0),\n",
       " Pandas(Index=134, tweet_id='35H36EY6', safe_text='Study of more than 95,000 kids finds no link between MMR vaccine and autism <url>', label=1.0, agreement=1.0),\n",
       " Pandas(Index=135, tweet_id='C9QSY5LE', safe_text='Really?  MMR Shots?', label=-1.0, agreement=1.0),\n",
       " Pandas(Index=136, tweet_id='F0HV4ZVL', safe_text='Need a vaccine! <user> 60 deaths so far from #Ebola in Guinea, 30 more in Sierra Leone. <user> on alert <url>', label=1.0, agreement=1.0),\n",
       " Pandas(Index=137, tweet_id='C01MYDJV', safe_text='<user> And the parents need to get their MMR booster shot too. They claim vaccines cause autism and other disorders. Not proven,is it?', label=1.0, agreement=0.6666666666666666),\n",
       " Pandas(Index=138, tweet_id='OA5RF3H5', safe_text=\"Pro safety doesn't make me an anti-vaxer.  It makes me an educated consumer #CDCwhistleblower #CDCfraud #MyKidMatters #VaccineInjuryIsReal\", label=-1.0, agreement=0.3333333333333333),\n",
       " Pandas(Index=139, tweet_id='CWUNFS3X', safe_text='He wants immunity and he wants it NOW #Scandal', label=0.0, agreement=1.0),\n",
       " Pandas(Index=140, tweet_id='CVPWFGZZ', safe_text='<user> great info today esp reemerging measles and anti-gluten fad. TY', label=0.0, agreement=0.6666666666666666),\n",
       " Pandas(Index=141, tweet_id='3RC3UM24', safe_text='And chicken pox, kids here are vaccinated against it. So no nasty itchy spots and small scars for my little beauty', label=1.0, agreement=0.6666666666666666),\n",
       " Pandas(Index=142, tweet_id='VELLK0CT', safe_text='<user> <user> <user> <user> my understanding is if you could get individual shots instead of combo vaccines safer', label=-1.0, agreement=0.3333333333333333),\n",
       " Pandas(Index=143, tweet_id='WXW9T2ZW', safe_text='<user> Immunities, Baby... Immunities 😎', label=0.0, agreement=0.6666666666666666),\n",
       " Pandas(Index=144, tweet_id='QRU0V6G0', safe_text=\"<user> <user> &amp; vaccines aren't new because social diseases aren't actually what they say, mislabled.\", label=0.0, agreement=1.0),\n",
       " Pandas(Index=145, tweet_id='RHX97NQ7', safe_text=\"Finally I heard Jenny McCarthy's son does not have autism? She should apologize to all the dead kids that didn't get vaccines\", label=1.0, agreement=0.6666666666666666),\n",
       " Pandas(Index=146, tweet_id='GA1GFO0F', safe_text='“<user> Gates Foundation pledges $1.55 billion to immunize poor children <url> <user> #wowzers 👍', label=1.0, agreement=0.6666666666666666),\n",
       " Pandas(Index=147, tweet_id='0SAUAMVA', safe_text='Reading fb comments on measles articles 😂😂 Great entertainment.', label=0.0, agreement=1.0),\n",
       " Pandas(Index=148, tweet_id='3EY12B3X', safe_text='Eric holder is forcing you to send your babies to start school with illegals who have had no immunization shots!', label=1.0, agreement=0.6666666666666666),\n",
       " Pandas(Index=149, tweet_id='XBQS2G0G', safe_text='AIDS N : qHPV vaccine reduces risk, costs among older HIV-positive MSM treated for HGAIN <url>', label=1.0, agreement=0.6666666666666666),\n",
       " Pandas(Index=150, tweet_id='ON5S11AK', safe_text=\"Why isn't the news talking about how measles were wiped out AND THEN CAME BACK cuz dumbass ppl don't vaccinate their kids\", label=1.0, agreement=0.6666666666666666),\n",
       " Pandas(Index=151, tweet_id='0FK706J2', safe_text=\"#tmlt also I don't get a flu vaccine until I know it's safe. I'm letting the rest of the school be the guinea pigs for the vaccine. #suckers\", label=-1.0, agreement=1.0),\n",
       " Pandas(Index=152, tweet_id='2Y0PJMKY', safe_text='The mountain is out! What a glorious day this is. Cherry blossoms, lunch w/ a pal outside, now a drive to Bellevue to get my MMR shot. Yay.', label=0.0, agreement=0.6666666666666666),\n",
       " Pandas(Index=153, tweet_id='AXO0OWLM', safe_text=\"<user> hm..check for wounds, may be an infection. If vaccines aren't up to date, may be a disease. Regardless, bring him to the vet\", label=0.0, agreement=0.6666666666666666),\n",
       " Pandas(Index=154, tweet_id='702XXBWG', safe_text='“<user> And ... Partial agreement: Measles cases result from the \"Law of large numbers + coincidence.\" <user> Media obfuscation, too.', label=0.0, agreement=1.0),\n",
       " Pandas(Index=155, tweet_id='ZG9EY9G8', safe_text=\"They're heeeere! DC confirms a case of measles.\", label=0.0, agreement=0.6666666666666666),\n",
       " Pandas(Index=156, tweet_id='1V2ZW3GC', safe_text='Vaccinate your kids', label=1.0, agreement=1.0),\n",
       " Pandas(Index=157, tweet_id='UKV7205J', safe_text='<user> Nice discussion by <user> on Vaccines 101 in kidney transplant recipients #Nephpearls <url>', label=0.0, agreement=1.0),\n",
       " Pandas(Index=158, tweet_id='6QJ571QM', safe_text=\"LAST ONE. \\nVaccinate your damn children. I swear to god if I hear about this vaccination autism shit one more Time I'm going to kill myself\", label=1.0, agreement=1.0),\n",
       " Pandas(Index=159, tweet_id='QM7HWZYZ', safe_text='Most won\\'t say it, but I do not have to be politically correct: \" vaccinate your kids before they get the poliovirus,\" you idiots!', label=1.0, agreement=1.0),\n",
       " Pandas(Index=160, tweet_id='HFDOZI5S', safe_text='<user> OMG the day we got drunk af by 7 pm wow what a mmr', label=0.0, agreement=1.0),\n",
       " Pandas(Index=161, tweet_id='KC5WJWE2', safe_text='Gave this adorable little Asian kid a piece of chalk so he could draw on the chalkboard while waiting for immunizations. He ate it. 😳', label=0.0, agreement=0.6666666666666666),\n",
       " Pandas(Index=162, tweet_id='62MRY6EZ', safe_text='\"We didnt get vaccinated&amp;we survived! I had smallpox measles mumps &amp;polio&amp;survived\" dad.No.U didnt have smallpox.\"Yes i did &amp;I survived!\"', label=-1.0, agreement=0.6666666666666666),\n",
       " Pandas(Index=163, tweet_id='9SVBHRNT', safe_text='Njoying the moments of Life..”)  #MMR', label=0.0, agreement=1.0),\n",
       " Pandas(Index=164, tweet_id='143HKNUT', safe_text='People vaccinate your kids, outbreaks happen because people think they will get autism, educate yourself', label=1.0, agreement=1.0),\n",
       " Pandas(Index=165, tweet_id='T3YBOS2A', safe_text='Vaccinated my kids yesterday!  RT <user> About 90% of flu-related pediatric deaths occur in #those who didn’t get a vaccine. #fluvaxstats\"', label=1.0, agreement=1.0),\n",
       " Pandas(Index=166, tweet_id='GW6O0IIK', safe_text='Measles Outbreak: To Vaccinate Or Not Vaccinate <url>', label=0.0, agreement=0.6666666666666666),\n",
       " Pandas(Index=167, tweet_id='G4G2Z90O', safe_text=\"Stick with science! We don't want measles back! #NoWayDrJay\", label=1.0, agreement=1.0),\n",
       " Pandas(Index=168, tweet_id='ZXHX29G8', safe_text='Wonder how many measles cases are walking around here...sure are plenty of sick candidates. (at <user> <url>', label=0.0, agreement=1.0),\n",
       " Pandas(Index=169, tweet_id='26KW1EK6', safe_text=\"People have been vaccinated to the truth parroting words out of context they don't even understand. Bless their heart but c'mon son!\", label=0.0, agreement=0.6666666666666666),\n",
       " Pandas(Index=170, tweet_id='0AT43JXB', safe_text='<user> <user> <user> <user> <user> <user> there R no double - blind studies showing #vaccines work', label=-1.0, agreement=1.0),\n",
       " Pandas(Index=171, tweet_id='X0CEWU6B', safe_text='...Yo $1.00 Mugs <user> Nuff Said... #mmr #mixmasterrod #follow #photobomb #picsoftheday #splat… <url>', label=0.0, agreement=1.0),\n",
       " Pandas(Index=172, tweet_id='8C0ZOC06', safe_text='Measles Cases in Ventura County Prompt Vaccination Advisory: Two visitors from Europe are suspected of falling... <url>', label=1.0, agreement=0.6666666666666666),\n",
       " Pandas(Index=173, tweet_id='QSB8FH4B', safe_text=\"<user> I will never understand why parents don't get kids vaccinated. ..\", label=1.0, agreement=1.0),\n",
       " Pandas(Index=174, tweet_id='42XGM3E5', safe_text='Come and pray in our MMR Marian Gardens.  <url>', label=0.0, agreement=1.0),\n",
       " Pandas(Index=175, tweet_id='3NJACDTA', safe_text='just watched a MMR truck hit a cat. you bastereds', label=0.0, agreement=1.0),\n",
       " Pandas(Index=176, tweet_id='B9TKXN54', safe_text=\"We don't know what causes autism, but we do know vaccines don't. <url>\", label=1.0, agreement=1.0),\n",
       " Pandas(Index=177, tweet_id='9645UV58', safe_text='Do not ask!   What are all those bumps doing on me?   I already had shingles and chicken pox and measles. <url>', label=0.0, agreement=1.0),\n",
       " Pandas(Index=178, tweet_id='EFT3NX4Q', safe_text='<user> #frnw I doubt immunity will open lips with truth from Lerner', label=0.0, agreement=1.0),\n",
       " Pandas(Index=179, tweet_id='WN73MQPZ', safe_text=\"<user> <user> <user> Injuries &amp; death from #HPV #vaccine Here's 1 article out of many from a simple Google search <url>\", label=-1.0, agreement=1.0),\n",
       " Pandas(Index=180, tweet_id='N5ZJP1RP', safe_text=\"<user> What's been the increase in reported measles and TB for the past five years?\", label=0.0, agreement=1.0),\n",
       " Pandas(Index=181, tweet_id='HBNIKUNJ', safe_text=\"2 babies die, 29 sickened from bad vaccines in south Mexico: Mexico's public health system has suspended infant… <url>\", label=0.0, agreement=0.6666666666666666),\n",
       " Pandas(Index=182, tweet_id='23MHUE8S', safe_text='MMR x DB @ DE$IGNER <url>', label=0.0, agreement=1.0),\n",
       " Pandas(Index=183, tweet_id='E3ZXRHQJ', safe_text='Some say this Brooklyn is   biggie? Mogul Presents Franchise Liaison   Problems (Official Video) #MMR <url>', label=0.0, agreement=1.0),\n",
       " Pandas(Index=184, tweet_id='517OP4VW', safe_text='Measles cases at 18-year high because parents are failing to get children vaccinated <url>', label=1.0, agreement=0.6666666666666666),\n",
       " Pandas(Index=185, tweet_id='GWKCININ', safe_text='Worried about the #measles outbreak? Local doctors answer your questions 4-630pm <url> Click: <url> #KPRC2', label=0.0, agreement=1.0),\n",
       " Pandas(Index=186, tweet_id='XKA5W2SJ', safe_text='\"If you take this toxin or vaccine, you\\'ll get cancer, or autism and you won\\'t like hugs...\" #thefence #timminchin #everythingischemical', label=-1.0, agreement=1.0),\n",
       " Pandas(Index=187, tweet_id='PQ2UCYTR', safe_text='Ya ready con <user> pala caravana de #houston,texas saludos a too #tura y un gran abrazo #MMR and #MBC <user> <user> #TED', label=0.0, agreement=1.0),\n",
       " Pandas(Index=188, tweet_id='9BX8QTSP', safe_text=\"Pissed that I have to have a blood test to see if my measles vaccine is still good. Idiot parents who don't vaccinate should be punished.\", label=1.0, agreement=1.0),\n",
       " Pandas(Index=189, tweet_id='GIES63NS', safe_text='<url> All the taxpayer money wasted at CDC, Canada comes up with vaccine. Pitiful', label=0.0, agreement=1.0),\n",
       " Pandas(Index=190, tweet_id='NH3YCR4A', safe_text='\"MMR Meets  Bliss\"  \\nThurSday AUGUST 20\\n#Ladiesfree until 11 \\n<user> \\n<user> \\n#Hot97… <url>', label=0.0, agreement=1.0),\n",
       " Pandas(Index=191, tweet_id='4EO8JMLR', safe_text=\"<user> I can't. My brother had an awful reaction. And my friends child developed autism after her first vaccines.\", label=-1.0, agreement=1.0),\n",
       " Pandas(Index=192, tweet_id='56PZ723Q', safe_text='S2295 [NEW] Department Of Health--immunizations <url>', label=0.0, agreement=0.6666666666666666),\n",
       " Pandas(Index=193, tweet_id='09GPK821', safe_text='#Vaccinations are important RT <user> Measles cases in California outbreak keep rising — now at almost 80. <url>', label=1.0, agreement=0.6666666666666666),\n",
       " Pandas(Index=194, tweet_id='X2HCP5BY', safe_text='Cat vomit, toddler tantrums, Kindergarten party with 20 kids, patching up scrapes &amp; writing about measles &amp; religion #thisday', label=0.0, agreement=1.0),\n",
       " Pandas(Index=195, tweet_id='RZXDHC3F', safe_text='<user> #THEMEASLES. I had what I think was the 3 day measles as a child, should I be concernedI am now 56 yrs old .', label=0.0, agreement=1.0),\n",
       " Pandas(Index=196, tweet_id='2SDPRLOQ', safe_text='An aids vaccine was created at Oregon Health &amp; Science University that supposed to completely clear the virus from your system. 👏👏👏👏👏👏👏👏👏', label=1.0, agreement=1.0),\n",
       " Pandas(Index=197, tweet_id='W6NZQ79A', safe_text='Parents Warned That Vaccinating Kids May Turn Them Gay <url> via <user>', label=-1.0, agreement=0.3333333333333333),\n",
       " Pandas(Index=198, tweet_id='JPKBF80L', safe_text='<user> -you need to ask what % of measles outbreak are illegals-where they fit in epidemic chain-near the beginning??', label=0.0, agreement=1.0),\n",
       " Pandas(Index=199, tweet_id='WTDUUR6U', safe_text=\"if I take my kids to the playground &amp; they get the measles because another parent won't get their kids vaccinated I'm busting heads😒\", label=1.0, agreement=1.0),\n",
       " Pandas(Index=200, tweet_id='P435P6BD', safe_text='SB383 [Enroll] Providing immunity from civil and criminal liability to certain health care providers for performi... <url>', label=0.0, agreement=0.6666666666666666),\n",
       " Pandas(Index=201, tweet_id='A7FBR4HP', safe_text='Gov. Christie: Parents Should Have Some Choice On Whether Or Not To Vaccinate Their Kids <url>', label=0.0, agreement=0.6666666666666666),\n",
       " Pandas(Index=202, tweet_id='9LPSJP37', safe_text='\"Love is like the measles; we all have to go through it. Also like the measles we take it only once.\" ✌☺goodnight\\' <url>', label=0.0, agreement=1.0),\n",
       " Pandas(Index=203, tweet_id='KZNC5EAU', safe_text='“<user> Father of Boy With Leukemia Asks California School Officials to Bar Unvaccinated Students <url> #vaccineswork', label=1.0, agreement=0.6666666666666666),\n",
       " Pandas(Index=204, tweet_id='VQNBWJ98', safe_text=\"<user> And, yes, I'll take my vaccines &amp; please keep ur unvaccinated kids away from mine. Go live in ur paranoia-filled cave.\", label=1.0, agreement=0.6666666666666666),\n",
       " Pandas(Index=205, tweet_id='IBZVIHDH', safe_text='<user> simple. Vaccinate your kids. The end.', label=1.0, agreement=1.0),\n",
       " Pandas(Index=206, tweet_id='31C9X43I', safe_text='New Measles Cases Confirmed In San Mateo And Marin Counties <url>', label=0.0, agreement=1.0),\n",
       " Pandas(Index=207, tweet_id='45CP42PH', safe_text='Dr. Nicole Bates: Imagine global health policy as a system.  #vaccineswork', label=1.0, agreement=1.0),\n",
       " Pandas(Index=208, tweet_id='2VW3QD48', safe_text='<user> YAS! The argument for it not being medically necessary to vaccinate a child relies solely on everyone else vaccinating theirs.', label=1.0, agreement=0.6666666666666666),\n",
       " Pandas(Index=209, tweet_id='8D0S1A3J', safe_text='Pete Carroll, you just blew the Super Bowl!  What are you going to do now?   \"I\\'m going to Disneyland and catch the Measles.\"', label=0.0, agreement=1.0),\n",
       " Pandas(Index=210, tweet_id='4Q1ROWZD', safe_text='“<user> #NYC #Measles Outbreak Spreads to Lower East Side... <url>', label=0.0, agreement=1.0),\n",
       " Pandas(Index=211, tweet_id='OJIEWR86', safe_text='California lawmakers aim to limit vaccine exemptions <url>', label=1.0, agreement=1.0),\n",
       " Pandas(Index=212, tweet_id='5E6K6TMU', safe_text='#NBC5CHicago how do we get full disclosure as to measles kids whereabouts for the past weeks?', label=0.0, agreement=0.6666666666666666),\n",
       " Pandas(Index=213, tweet_id='74KPLH9B', safe_text='Had a fuckn ball wit <user> n the whole MMR team i hate to leave but i got to go until next time im out', label=0.0, agreement=1.0),\n",
       " Pandas(Index=214, tweet_id='NVCCZG1T', safe_text='<user> <user> <user> <user> <user> I survived #measles &amp; now have a lifetime of natural immunity', label=0.0, agreement=1.0),\n",
       " Pandas(Index=215, tweet_id='JCOCSHFB', safe_text='Measles outbreak in AZ monitored locally: Health workers in Colorado are monitoring developments in Arizona after… <url>', label=0.0, agreement=0.6666666666666666),\n",
       " Pandas(Index=216, tweet_id='C1BQSBKZ', safe_text='Autism  Family Losing Our Home . Click to Donate:  <url> via <user> #autism #autismawareness # vaccine injury', label=0.0, agreement=0.6666666666666666),\n",
       " Pandas(Index=217, tweet_id='Y7MTELTN', safe_text=\"Taylee's getting her second round of immunizations today. I feel so bad for my baby! (@ Avera McGreevy Clinic West) <url>\", label=1.0, agreement=0.6666666666666666),\n",
       " Pandas(Index=218, tweet_id='4IU84GUE', safe_text='“<user> 40% of vaccines contain aluminum; what conditions are associated with aluminum exposure? <url> #CDCvax”', label=-1.0, agreement=1.0),\n",
       " Pandas(Index=219, tweet_id='PADPS0DZ', safe_text='“<user> Jenny McCarthy Gets Crucified on Twitter Over Anti-Vaccination Beliefs <url> -get your kids vaccinated.', label=1.0, agreement=0.6666666666666666),\n",
       " Pandas(Index=220, tweet_id='1X7UT25Q', safe_text='Parts of Africa have more people vaccinated for measles than the U.S. does  <url> <user>', label=0.0, agreement=0.6666666666666666),\n",
       " Pandas(Index=221, tweet_id='CFUOZRBB', safe_text=\"<user> <user> <user> vaccinations work and are safe. It's not a choice when herd immunity fails and people die. Idiots\", label=1.0, agreement=1.0),\n",
       " Pandas(Index=222, tweet_id='3PK5UHFM', safe_text=\"This girl's first casserole! Inside out (ohh you turn me) stuffed pepper! #growingup #yum courtesy of MMR 💖 <url>\", label=0.0, agreement=1.0),\n",
       " Pandas(Index=223, tweet_id='RZDKTVUE', safe_text=\"I'm at MMR Station 22 (Mount Pleasant, MI) <url>\", label=0.0, agreement=1.0),\n",
       " Pandas(Index=224, tweet_id='NJ5JDNHH', safe_text='<user> #Obamacare What remedies available to citizens if harmed due to site hacking? Sue the US gov or not sovereign immunity?', label=0.0, agreement=1.0),\n",
       " Pandas(Index=225, tweet_id='DPCXLKEF', safe_text=\"Children's Museum of Houston to Offer Free Vaccinations <url>\", label=1.0, agreement=0.6666666666666666),\n",
       " Pandas(Index=226, tweet_id='YAWZDG9F', safe_text='Case of measles suspected in Baltimore County child: Baltimore County child is tested for measles after visiting… <url>', label=0.0, agreement=1.0),\n",
       " Pandas(Index=227, tweet_id='AXDKVDN6', safe_text=\"So apparently the nasal spray live culture flu vaccination isn't going to work out for Desmond. He keeps throwing up. Poor baby. #sadface\", label=-1.0, agreement=0.3333333333333333),\n",
       " Pandas(Index=228, tweet_id='VO6S5SG1', safe_text='Something about the super bowl , Katy perry and vaccinations .\\nKaty Perry was giving children vaccines at halftime? Idk I stay relevant.', label=0.0, agreement=1.0),\n",
       " Pandas(Index=229, tweet_id='W4WIDH57', safe_text='Scientist Recalls The 1988-90 Outbreak When 12,000 Angelenos Caught Measles: A disease researcher who worked… <url>', label=0.0, agreement=1.0),\n",
       " Pandas(Index=230, tweet_id='JJHBF2RW', safe_text=\"I'm at Emo's for Death from Above 1979 and The Vaccines (603 Red River St, at E 6th St, Austin) w/ 17 others <url>\", label=0.0, agreement=1.0),\n",
       " Pandas(Index=231, tweet_id='A0ORM4CD', safe_text='\"<user> Watch: Volunteers are risking their lives to vaccinate children in areas held by ISIS <url>', label=1.0, agreement=1.0),\n",
       " Pandas(Index=232, tweet_id='OSC9UO4O', safe_text=\"I'm totally going to Disneyland! I've had my measles vaccination and the lines will be shorter!\", label=1.0, agreement=1.0),\n",
       " Pandas(Index=233, tweet_id='3P3KPU7W', safe_text='\"Jesus didn\\'t vaccinate, so neither will my kids\" is the dumbest thing I\\'ve ever heard', label=1.0, agreement=1.0),\n",
       " Pandas(Index=234, tweet_id='4X3VQ53B', safe_text='If you are against vaccinations I hope you get measles', label=1.0, agreement=1.0),\n",
       " Pandas(Index=235, tweet_id='Q3VZ6ZVB', safe_text=\"<user> since I'm a diabetic and a heart patient do I need to take the measles vaccine\", label=0.0, agreement=0.6666666666666666),\n",
       " Pandas(Index=236, tweet_id='TTACNMV0', safe_text='CDC - Coverage – 2013 National Immunization Survey Infographic - Vaccines <url>', label=0.0, agreement=1.0),\n",
       " Pandas(Index=237, tweet_id='YBR0KM44', safe_text='My poor baby is getting his vaccines today :( @ Home Sweet Home :) <url>', label=1.0, agreement=1.0),\n",
       " Pandas(Index=238, tweet_id='R5Q9SGB2', safe_text='<user> and most flu vaccine have small amounts of Mercury, which is bad for you. You can build your immune system by a healthy lifestyle.', label=-1.0, agreement=0.6666666666666666),\n",
       " Pandas(Index=239, tweet_id='8PEEJ4US', safe_text='<user>  vaccinations must be a requirement, there are many infants who can not be vaccinated. R u guys willing to risk their lifes?', label=1.0, agreement=1.0),\n",
       " Pandas(Index=240, tweet_id='LEW9CR9T', safe_text='.<user> \"#Measles Vaccine is SAFE, EFFECTIVE &amp; not just for kids.\" Need a booster? <url> #mapit <url>', label=1.0, agreement=1.0),\n",
       " Pandas(Index=241, tweet_id='CFYNXMUA', safe_text='AM-News : New forms of vaccines offer promising results: An even more recent type of vaccine uses a harmless virus… <url>', label=0.0, agreement=0.6666666666666666),\n",
       " Pandas(Index=242, tweet_id='3G88ND5Y', safe_text=\"It's troubling hearing about parents who won't vaccinate their children.\", label=1.0, agreement=1.0),\n",
       " Pandas(Index=243, tweet_id='CQ8D2S0P', safe_text=\"$2 EVERYTHING at The Home of $2 Tuesday Marjai's Meet Me There w. tyratonique Host: #Mmr… <url>\", label=0.0, agreement=1.0),\n",
       " Pandas(Index=244, tweet_id='M0EZ8BFZ', safe_text='Seriously people get your kids vaccinated like I will never understand people that are against it the benefits out way the risks WAYY more', label=1.0, agreement=1.0),\n",
       " Pandas(Index=245, tweet_id='GXYKWUTE', safe_text='An issue so important to me. Vaccinate your children!! <user> takes the stage at #AAcon15 <url>', label=1.0, agreement=1.0),\n",
       " Pandas(Index=246, tweet_id='MUNUXZH2', safe_text='Finally getting my immunization records for school', label=1.0, agreement=0.6666666666666666),\n",
       " Pandas(Index=247, tweet_id='UZBUV7QS', safe_text=\"So do the parents that didn't get their kids the measles vaccination  take them to the hospital when they get it?\", label=1.0, agreement=0.6666666666666666),\n",
       " Pandas(Index=248, tweet_id='STLZP6XK', safe_text='Nothing pisses me off more than young mothers who know nothing about microbiology or immunology refusing to vaccinate their child.', label=1.0, agreement=1.0),\n",
       " Pandas(Index=249, tweet_id='JDGU1LV7', safe_text='All you parents not vaccinating your kids, feel free to just walk off the edge of the Earth', label=1.0, agreement=1.0),\n",
       " Pandas(Index=250, tweet_id='A68E82IT', safe_text='5 Things to Know About San Diego’s Measles Outbreak <url>', label=0.0, agreement=1.0),\n",
       " Pandas(Index=251, tweet_id='3GVVXT22', safe_text='<user> MEASLES OUTBREAK BC IGNORANT PARENTS REFUSE VAX FOR KIDS: ACTION IS REQD FOR CDC 2 NOT ALLOW ANY CHILD  WO VAC 2 ATTEND.', label=1.0, agreement=1.0),\n",
       " Pandas(Index=252, tweet_id='4697XCQE', safe_text='<user> <user> today I was blocked from an autism parent support group in NJ for being a vocal parent proponent of vaccination:)', label=0.0, agreement=0.6666666666666666),\n",
       " Pandas(Index=253, tweet_id='3ZT821V4', safe_text='Bottom line is, vaccinate your children guys! 🙅', label=1.0, agreement=1.0),\n",
       " Pandas(Index=254, tweet_id='BS6MOKJH', safe_text=\"<user> My grandson's pediatrician acknowledged his vaccine injuries &amp; provided a waiver voluntarily that he not receive any more vaccines\", label=-1.0, agreement=1.0),\n",
       " Pandas(Index=255, tweet_id='K5PLSPP0', safe_text='<user> <user> I say we do misting fly over neighborhoods&amp; mist vaccinations while kids are outside ie playground &amp;bus stops .', label=0.0, agreement=0.6666666666666666),\n",
       " Pandas(Index=256, tweet_id='WCFG25FP', safe_text=\"If you don't vaccinate your kids you're an uneducated dumbass as a parent and deserve to be charged with child abuse.\", label=1.0, agreement=1.0),\n",
       " Pandas(Index=257, tweet_id='J8CM84CY', safe_text=\"Passed my CHEX exams, got vaccinated &amp; tested. I can't wait to get my uniform&amp; get placed again <user> 💙 #childlife #love #choc\", label=1.0, agreement=1.0),\n",
       " Pandas(Index=258, tweet_id='JGOO8W6U', safe_text='<user> <user> allow me to interrupt rq, Vaccines in no way shape or form are related to autism. <url>', label=1.0, agreement=1.0),\n",
       " Pandas(Index=259, tweet_id='SECZX8WE', safe_text='SB121 [Passed] Meningococcal disease-pupils to be immunized against at recommended age <url>', label=0.0, agreement=0.6666666666666666),\n",
       " Pandas(Index=260, tweet_id='SR2547IO', safe_text='Hah. Ha ha. \\n\\nFucking vaccinate your children.', label=1.0, agreement=0.6666666666666666),\n",
       " Pandas(Index=261, tweet_id='MLYI6HOZ', safe_text='Miners fight is on the field! Pregame is being learned fast! #MMR #UTEP', label=0.0, agreement=1.0),\n",
       " Pandas(Index=262, tweet_id='FH3HVKRB', safe_text='Measles outbreak centered at Disneyland may be declared over Friday: The measles outbreak that started in… <url>', label=0.0, agreement=1.0),\n",
       " Pandas(Index=263, tweet_id='WRI3ODCO', safe_text='Stuff.co.nz: Fear grows of #measles outbreak. Medical authorities fear a measles outbreak could spread to hundreds m... <url>', label=1.0, agreement=0.6666666666666666),\n",
       " Pandas(Index=264, tweet_id='43HES55Q', safe_text='Yup. And the sky is still blue. “<user> ICYMI: Vaccines cleared–again–in #autism risk debate <url>', label=1.0, agreement=1.0),\n",
       " Pandas(Index=265, tweet_id='3RVCLCIW', safe_text=\"I'm at Mmr Station 24 (Weidman, MI) <url>\", label=0.0, agreement=1.0),\n",
       " Pandas(Index=266, tweet_id='NAKRBNC6', safe_text=\"Only 14% of people in Disneyland measles outbreak were unvaccinated, but it's 100% their fault, claims propaganda <url>\", label=-1.0, agreement=0.6666666666666666),\n",
       " Pandas(Index=267, tweet_id='J1NMPFIO', safe_text='“<user> U.N. stops Syria vaccine campaign after 15 children die <url> <url>', label=-1.0, agreement=0.6666666666666666),\n",
       " Pandas(Index=268, tweet_id='23VVDQ96', safe_text='<user> jijijiji no mmr. Acabo de ver tus tweets apenas. And no', label=0.0, agreement=1.0),\n",
       " Pandas(Index=269, tweet_id='XIUHR4U1', safe_text='Tarrant County Confirms Another Measles Case: TARRANT COUNTY (<url> - Another measles case has... <url>', label=0.0, agreement=1.0),\n",
       " Pandas(Index=270, tweet_id='1S475P7F', safe_text='<user> flu shots have never been proven to protect you from getting the flu. The vaccine company uses it as a scare tactic.', label=-1.0, agreement=0.6666666666666666),\n",
       " Pandas(Index=271, tweet_id='IBWMI1OF', safe_text=\"Don't act surprised. --&gt;Yikes. Thousands of BART commuters may have been exposed to measles: <url>\", label=1.0, agreement=0.6666666666666666),\n",
       " Pandas(Index=272, tweet_id='56IJ4OZ9', safe_text='.<user> RT<user> Study finds no link between immunizations and autism <url> <url>', label=1.0, agreement=1.0),\n",
       " Pandas(Index=273, tweet_id='DV2564QV', safe_text='<user> The EPA knows and the 4ppm fluoride killed over 4 million babies last yr with the toxic mix of fluoride and vaccines! Whistleblow', label=-1.0, agreement=1.0),\n",
       " Pandas(Index=274, tweet_id='HWZFLK15', safe_text='Reminder to work on health #eat right/exercise/vaccines. Protect others #handwashing #flushot #home when sick.  <url>', label=1.0, agreement=0.6666666666666666),\n",
       " Pandas(Index=275, tweet_id='8PFOU9OE', safe_text='Jim: I think the most worthy opponent of you is you.\\nDwight: That is correct, unless there happen to be measles present.', label=0.0, agreement=1.0),\n",
       " Pandas(Index=276, tweet_id='NSDGVDN7', safe_text='<user> maybe she woke up with measles', label=0.0, agreement=1.0),\n",
       " Pandas(Index=277, tweet_id='EVNZV1LH', safe_text=\"<user> \\n\\nOne was a mange-ridden raccoon, apparently w other diseases causing hair loss.  Wild animals don't have the mange immunity\", label=0.0, agreement=1.0),\n",
       " Pandas(Index=278, tweet_id='V84UBMYD', safe_text='#Kenya one of the countries where children missed their vaccinations in 2013 tetanus one of them <user> <user> <url>', label=1.0, agreement=1.0),\n",
       " Pandas(Index=279, tweet_id='QTE3D6XA', safe_text='“<user> Now they got a measles outbreak..” Been at Disney land', label=0.0, agreement=1.0),\n",
       " Pandas(Index=280, tweet_id='UHOUVEOF', safe_text=\"Million $ pledges to vaccinate world' kids:\\nBritain          $1,570\\nNorway           $969\\nUnited States  $800\", label=1.0, agreement=0.6666666666666666),\n",
       " Pandas(Index=281, tweet_id='NU6WPMZ6', safe_text='Why is there an actual debate on vaccinating your kids? It’s a no-brainer. Like calling 3 running plays from the half-yard line.', label=1.0, agreement=1.0),\n",
       " Pandas(Index=282, tweet_id='TXT6ZJOD', safe_text='measles mumps novella', label=0.0, agreement=1.0),\n",
       " Pandas(Index=283, tweet_id='32GR9QFA', safe_text='<user> Our 8yrold son has Autism and I would &amp; did absolutely have him vaccinated.His life is worth being healthy for!!', label=1.0, agreement=1.0),\n",
       " Pandas(Index=284, tweet_id='L86E8R1S', safe_text='“<user> #CDCwhistleblower #autism #vaccines /1” vaccines do not cause autism <url>', label=1.0, agreement=0.6666666666666666),\n",
       " Pandas(Index=285, tweet_id='GCW9NROM', safe_text='<user> <user> If someone got the measles from the vaccine is there any chance of it recurring?  Poor kid got ear infection too', label=-1.0, agreement=0.3333333333333333),\n",
       " Pandas(Index=286, tweet_id='XQ9G3KIF', safe_text='Vaccines important to health but need to be affordable for better access and implementation. <url>', label=1.0, agreement=1.0),\n",
       " Pandas(Index=287, tweet_id='AE7R3MGE', safe_text=\"<user> if previously vaccinated people's antibodies are so low they can now get the disease as adults, not good!\", label=0.0, agreement=0.6666666666666666),\n",
       " Pandas(Index=288, tweet_id='ZWEP2IL4', safe_text='Health district offers no-cost immunizations for uninsured children: The Southern Nevada Health District if... <url>', label=1.0, agreement=0.6666666666666666),\n",
       " Pandas(Index=289, tweet_id='3T3QSWNF', safe_text=\"<user> the saddest part is you don't keep your crazy to yourself My son is autistic F-heads like you insult him with your idiocy\", label=1.0, agreement=0.6666666666666666),\n",
       " Pandas(Index=290, tweet_id='7VDYTPI8', safe_text='The Power of Truth Rally 2005.. 10 years later Trace Amounts Documentary. #Mercury #VaccinesInjure #CDCwhistleblower <url>', label=-1.0, agreement=0.6666666666666666),\n",
       " Pandas(Index=291, tweet_id='07E3D276', safe_text='Vaccines can give children the opportunity to live to their full potential #vaccineswork', label=1.0, agreement=1.0),\n",
       " Pandas(Index=292, tweet_id='DD99Q0S9', safe_text='Cancer vaccine proven safe?', label=1.0, agreement=1.0),\n",
       " Pandas(Index=293, tweet_id='803WSTAQ', safe_text='Me and da homie <user> posted Club Illusions... #thenationway #MMR #BBoyEnt #teamfreepour… <url>', label=0.0, agreement=1.0),\n",
       " Pandas(Index=294, tweet_id='HN89XLKI', safe_text='California Measles Outbreak Grows <url>', label=0.0, agreement=1.0),\n",
       " Pandas(Index=295, tweet_id='CLCYSB3E', safe_text='RT<user> “<user> What can parents, doctors, and politici do to stop \\nmeasles and whooping cough outbreaks?\\n<url>', label=1.0, agreement=0.6666666666666666),\n",
       " Pandas(Index=296, tweet_id='EFP34W8V', safe_text='If you refuse to vaccinate your kid because you think it increases the risk of developing autism YOU ARE REALLY DUMB, FOR REAL.', label=1.0, agreement=1.0),\n",
       " Pandas(Index=297, tweet_id='Q64WOZAO', safe_text='Turesday PSA: CDC says soap & water&gt; running water&gt; hand sanitizer for preventing spread of disease. Wash yo handz and get yo vaccines!', label=1.0, agreement=0.6666666666666666),\n",
       " Pandas(Index=298, tweet_id='9KILEYE0', safe_text=\"'what if the measles are in the churro cart?'\\n\\n-<user>\", label=0.0, agreement=0.6666666666666666),\n",
       " Pandas(Index=299, tweet_id='7D9KUZ4B', safe_text='Today-1885-Louis Pasteur successfully tested his anti-rabies vaccine on the child who later became Pasteur Institute director.', label=1.0, agreement=0.6666666666666666),\n",
       " Pandas(Index=300, tweet_id='WTFXXPJZ', safe_text='She too geeked 😸she about to start 🏫 school #immunizations @ Unity… <url>', label=0.0, agreement=0.6666666666666666),\n",
       " Pandas(Index=301, tweet_id='G2AGOWTG', safe_text='Guess who got their #MMR shot early? Because cautious! #healthy #baby #babyEmily #sfv #panoramacity <user> <url>', label=0.0, agreement=0.6666666666666666),\n",
       " Pandas(Index=302, tweet_id='UTFFDJWY', safe_text=\"<user> or not vaccinate his kids but doesn't want others to have them\", label=0.0, agreement=0.6666666666666666),\n",
       " Pandas(Index=303, tweet_id='WU3F1QXU', safe_text=\"<user> <user> <user> how are the putting other kids at risk if they're vaccinated don't fall for the propaganda\", label=-1.0, agreement=0.6666666666666666),\n",
       " Pandas(Index=304, tweet_id='HF72YJXX', safe_text=\"Two of those things aren't even viruses. How on earth would you vaccinate against autism? That makes no sense. <user> <user>\", label=0.0, agreement=0.6666666666666666),\n",
       " Pandas(Index=305, tweet_id='PMW2MBG4', safe_text='Two new cases of measles hit city: Two new cases of measles have been reported in the city, raising the total... <url>', label=0.0, agreement=1.0),\n",
       " Pandas(Index=306, tweet_id='5BDRFHHL', safe_text='“<user> On average, people who complain live longer -- Releasing this tension increases immunity and boosts their health.” <user>', label=0.0, agreement=1.0),\n",
       " Pandas(Index=307, tweet_id='JBWPOE3M', safe_text='Parents you must vaccination your children.', label=1.0, agreement=1.0),\n",
       " Pandas(Index=308, tweet_id='1ZIVV3C5', safe_text='“<user> The #measles outbreak is spreading &amp; has reignited the vaccine debate. Which side are you on? Its really a no brainer...vaccinate!', label=1.0, agreement=0.6666666666666666),\n",
       " Pandas(Index=309, tweet_id='7SF7ZVFX', safe_text='Help please <user> RT: HappyMothering... Doctors Change Names of Diseases When Vaccines Do Not Work: <url> via <user>', label=-1.0, agreement=0.6666666666666666),\n",
       " Pandas(Index=310, tweet_id='1WODJ3Y0', safe_text='Just choked on the sip of soda I drank. Some woman shoved me and told me to stop spreading measles. Thanks anti-vaccers 😠', label=1.0, agreement=0.6666666666666666),\n",
       " Pandas(Index=311, tweet_id='AZNYPR6F', safe_text='Ebola vaccine trials set to begin in September: Officials at the World Health Organization said that the first... <url>', label=0.0, agreement=0.6666666666666666),\n",
       " Pandas(Index=312, tweet_id='B3SNQJ0X', safe_text='historical &amp; scientific critique of the theory that vaccines prevent &amp; lowered disease rates\\n<url>', label=-1.0, agreement=0.6666666666666666),\n",
       " Pandas(Index=313, tweet_id='9ILV240X', safe_text='I figured with all these crazy anti-science people running around unvaccinated, it was time for an MMR… <url>', label=1.0, agreement=1.0),\n",
       " Pandas(Index=314, tweet_id='01E100JT', safe_text=\"Home and safe from MMR. Best ever? Well, if you didn't go, how would you know?\", label=0.0, agreement=1.0),\n",
       " Pandas(Index=315, tweet_id='FDYT96P1', safe_text='Baby girl got 4 more immunizations today. :(', label=1.0, agreement=0.6666666666666666),\n",
       " Pandas(Index=316, tweet_id='YGEE2G4Y', safe_text='AIDS N : Why Patients With HIV May Need Additional MMR Immunization <url>', label=0.0, agreement=1.0),\n",
       " Pandas(Index=317, tweet_id='YCI58WR2', safe_text='We vaccinate to prevent death. Not for convenience. #Vaccines #prevention #Pediatrics', label=1.0, agreement=1.0),\n",
       " Pandas(Index=318, tweet_id='ZQIENEVQ', safe_text='RT <user> If unvaccinated you’re about 35k times more likely to die from #measles than win at PowerBall: <url> #healthcare', label=1.0, agreement=1.0),\n",
       " Pandas(Index=319, tweet_id='V3NK93SW', safe_text='((ELB)) Combo vaccine causes Autism: My son Elijah who was taken from me out of state by my wife has been diagnosed with Autism likel...', label=-1.0, agreement=1.0),\n",
       " Pandas(Index=320, tweet_id='PU84VXQ4', safe_text='Experts Emphasize Vaccination as Measles Cases Spread <url>', label=0.0, agreement=0.6666666666666666),\n",
       " Pandas(Index=321, tweet_id='IE0BHD55', safe_text='All ages, from all places, working together to save children <user> #vaccineswork <url>', label=1.0, agreement=1.0),\n",
       " Pandas(Index=322, tweet_id='8OJVXBFK', safe_text='Arizona and Pinal County health officials confirm eight more cases of measles; total of 10 cases confirmed <user> <url>', label=0.0, agreement=1.0),\n",
       " Pandas(Index=323, tweet_id='CZKCU0CI', safe_text='The All mighty (MMR) Music Money Records', label=0.0, agreement=1.0),\n",
       " Pandas(Index=324, tweet_id='G988R1SS', safe_text=\"It's cuz @ the same time in the 1970's the law passed 4all school age kids,prego women,n infants 2b mandatory vaccines,coincidence? Nope!!!!\", label=-1.0, agreement=0.3333333333333333),\n",
       " Pandas(Index=325, tweet_id='NA7XPL13', safe_text='Like can you imagine being 1 of those 100 children coming home from a great time @ Disney only to get the measles. LIKE DUDE. WTF', label=0.0, agreement=1.0),\n",
       " Pandas(Index=326, tweet_id='BA7XVFJ8', safe_text='<user> <user> Go away. My 3 kids are all vaccinated. Try approaching people nicely and they might care about what you have to say.', label=1.0, agreement=1.0),\n",
       " Pandas(Index=327, tweet_id='AO5DJLBR', safe_text='Measles Outbreak: What You Need to Know <url>', label=0.0, agreement=1.0),\n",
       " Pandas(Index=328, tweet_id='4OOFQ3KB', safe_text=\"<user> <user> aaaaaaaand that's why they're not called autism vaccines\", label=0.0, agreement=0.6666666666666666),\n",
       " Pandas(Index=329, tweet_id='NBBK33JR', safe_text='7 more flu deaths in Cuyahoga cty\\nVaccines=easy 2 get &amp; free 4 those in $$$ straights\\nFree-&gt;&gt;#Obamacare, CHIP, Medicaid &amp; Medicare\\n<user>', label=1.0, agreement=1.0),\n",
       " Pandas(Index=330, tweet_id='GS9KETH2', safe_text='CDC Now Admitting to Omitting Vaccine Study Data showing 340% Increased risk of Autism <user> #VETOsb277 \\n <url>', label=-1.0, agreement=0.6666666666666666),\n",
       " Pandas(Index=331, tweet_id='S4E4SFWV', safe_text='Being FAKE is like dying of a slow death wit no vaccine, being REAL is eternal and healthy. Which dose have you taken today?', label=0.0, agreement=0.6666666666666666),\n",
       " Pandas(Index=332, tweet_id='SBVS3DCO', safe_text='<user> Spare me. Vaccines are necessary and should be required.', label=1.0, agreement=1.0),\n",
       " Pandas(Index=333, tweet_id='NNJT38Q0', safe_text=\"Something I don't get: even if vaccines did cause autism (which they don't), how would not vaccinating ever be a preferable option?\", label=1.0, agreement=0.6666666666666666),\n",
       " Pandas(Index=334, tweet_id='D5PORZIQ', safe_text=\"<user> I'm a survivor of Chicken Pox; Measles &amp; Mumps, as are my 4 sisters.\", label=0.0, agreement=1.0),\n",
       " Pandas(Index=335, tweet_id='JNGE9PW9', safe_text=\"& before y'all start thinkin some crazy it's just a vaccination shot for chicken pox & measles or some shit.\", label=0.0, agreement=0.6666666666666666),\n",
       " Pandas(Index=336, tweet_id='I4D043ST', safe_text='<user> esp when mercury free vaccines are available', label=1.0, agreement=0.6666666666666666),\n",
       " Pandas(Index=337, tweet_id='WD0L3KLZ', safe_text='“<user> Ohio measles outbreak is biggest in U.S. since 1996 <url>', label=0.0, agreement=1.0),\n",
       " Pandas(Index=338, tweet_id='SOI1HZI1', safe_text='Get your fucking baby vaccinated damn', label=1.0, agreement=1.0),\n",
       " Pandas(Index=339, tweet_id='RZLOKAD7', safe_text='Yes, but we have chosen a delayed schedule. “<user> Are your kids #vaccinated? Why or why not? Tweet <user> your thoughts/questions.”', label=0.0, agreement=0.6666666666666666),\n",
       " Pandas(Index=340, tweet_id='U8D5PVML', safe_text='Tea-ching kiddos how to stay healthy this winter with this Immuni-Tea...Clove and cinnamon make… <url>', label=0.0, agreement=0.6666666666666666),\n",
       " Pandas(Index=341, tweet_id='3PPJS94K', safe_text='unfortunately the only way ppl r going 2 realize vaccines r necessary is if children &amp; adults start dying from preventable diseases... again', label=1.0, agreement=1.0),\n",
       " Pandas(Index=342, tweet_id='MQFJS04K', safe_text='<user> make sure everybody gets vaccinated and checked up when I have money to spread awareness of disease and cancer #EnsuranceSave30', label=1.0, agreement=1.0),\n",
       " Pandas(Index=343, tweet_id='ILBR73KX', safe_text=\"<user> that's why I always carry a raincoat...sometimes a measles umbrella just won't cut it. Hope everything works out\", label=0.0, agreement=0.6666666666666666),\n",
       " Pandas(Index=344, tweet_id='2Q1QH6JI', safe_text='Autism & Vaccines... <url>', label=-1.0, agreement=1.0),\n",
       " Pandas(Index=345, tweet_id='2869G0F7', safe_text='\"<user> Vaccine Injury Compensation Programs\\n#CDCwhistleblower <url> #VaxTruth', label=-1.0, agreement=0.6666666666666666),\n",
       " Pandas(Index=346, tweet_id='E6UJFJ30', safe_text='Too bad Repubs cut cut cut the budget CDC most likely would have had a vaccine for Ebola by now', label=1.0, agreement=0.6666666666666666),\n",
       " Pandas(Index=347, tweet_id='M1BJHX8C', safe_text='Health district: 2 possible measles cases reported near Reno <url>', label=0.0, agreement=1.0),\n",
       " Pandas(Index=348, tweet_id='WAU5DRLT', safe_text='Whoever own the Ebola vaccine is going to make a lot of money &amp; they can give all the thanks to the CDC!', label=0.0, agreement=1.0),\n",
       " Pandas(Index=349, tweet_id='D1YYFDFR', safe_text=\"AIDS N : Children with HIV Often Lack Measles Immunity: Up to half of children infected with HIV at birth don't… <url>\", label=0.0, agreement=0.6666666666666666),\n",
       " Pandas(Index=350, tweet_id='G795SR7J', safe_text=\"How are Mississippi and West Virginia the only two states that don't allow nonmedical vaccination exemption?\", label=-1.0, agreement=0.3333333333333333),\n",
       " Pandas(Index=351, tweet_id='6DNV5HSI', safe_text='People freaking out about an Ebola patient coming to UNMC, I worry for you. You should be more afraid of parents not vaccinating their kids.', label=1.0, agreement=1.0),\n",
       " Pandas(Index=352, tweet_id='VFETLVN5', safe_text=\"Excited about MMR BBQ today. It's going to freaking awesome. If your going then I'll see you there.\", label=0.0, agreement=1.0),\n",
       " Pandas(Index=353, tweet_id='4Z02SWJL', safe_text='Political support crucial to reach ‘the fifth child’ with vaccines. <url>', label=0.0, agreement=0.6666666666666666),\n",
       " Pandas(Index=354, tweet_id='XYSX54GO', safe_text=\"We live in a world where people just don't vaccinate their kids &amp; we seriously debate if that's ok. Just take that in\", label=1.0, agreement=1.0),\n",
       " Pandas(Index=355, tweet_id='38CYL73R', safe_text=\"AIDS N : Too many cooks... might be the elusive secret ingredient for an HIV vaccine: It's estimated close to 37… <url>\", label=1.0, agreement=0.6666666666666666),\n",
       " Pandas(Index=356, tweet_id='H2XFSLF3', safe_text='<user> I think Disneyland #measles started from newly-vaccinated workers.No news report has dispelled my theory', label=-1.0, agreement=0.3333333333333333),\n",
       " Pandas(Index=357, tweet_id='WYEF41Y4', safe_text='Vaccinate your freaking kids!!!!!', label=1.0, agreement=1.0),\n",
       " Pandas(Index=358, tweet_id='FJNYYT6H', safe_text=\"<user> Ridiculous that they even let those kids in the school. I don't want them exposing my kid who is vaccinated to kids who aren't.\", label=1.0, agreement=0.6666666666666666),\n",
       " Pandas(Index=359, tweet_id='MUXD3RW2', safe_text='And how timely : <user> NY Health Dept: Measles patient boarded Amtrak train at Penn Station: <url> #nerdland', label=0.0, agreement=0.6666666666666666),\n",
       " Pandas(Index=360, tweet_id='LNA7G7AF', safe_text='<user> #GOP STOP blaming #Immigrants first #Ebola now #measles Which diseases?brought their ancestors? #AINF <url>', label=1.0, agreement=0.6666666666666666),\n",
       " Pandas(Index=361, tweet_id='VN87RICX', safe_text='DO NOT VACCINATE YOUR CHILD.... Unless your their doctor :)', label=-1.0, agreement=0.6666666666666666),\n",
       " Pandas(Index=362, tweet_id='9U7TFNO7', safe_text='.<user> 1 in 5 children are w/o lifesaving vaccines, pls change this &amp; put #immunizationfirst on the <user> Summit agenda', label=1.0, agreement=1.0),\n",
       " Pandas(Index=363, tweet_id='7QK3I2VT', safe_text=\"You know you're a 90s kid when your vaccinations were mandatory, and nobody in your class got measles.\", label=1.0, agreement=1.0),\n",
       " Pandas(Index=364, tweet_id='TXQUTVZJ', safe_text='#CoconutWater is amazing! #health #healing #healthy #immunity #digestion #longevity #wellness #natural… <url>', label=0.0, agreement=1.0),\n",
       " Pandas(Index=365, tweet_id='RCIHYR5F', safe_text='“<user> Pants on Fire! Rush #Limbaugh blames #measles outbreak on #immigrant children #TNTweeters #UniteBlue Stupidity is contagious', label=1.0, agreement=0.6666666666666666),\n",
       " Pandas(Index=366, tweet_id='2WO6WA7H', safe_text='<user> as a mother of 3kids with Autism I believe vaccines have nothing to do with it I do think Autism is overly diagnosed also', label=1.0, agreement=1.0),\n",
       " Pandas(Index=367, tweet_id='FTJI39IG', safe_text='Disney Tie Hides Biggest Measles Risk as Adults Catch It - Bloomberg Business.  <url>', label=0.0, agreement=1.0),\n",
       " Pandas(Index=368, tweet_id='8EXOVDQI', safe_text='Whenever I encounter an anti-vaccination person I just list off things that are more likely to cause autism that the would never give up', label=1.0, agreement=1.0),\n",
       " Pandas(Index=369, tweet_id='JH1PPU4L', safe_text='Dallas legislator wants to reduce vaccine exemptions: State Rep. Jason Villalba, R-Dallas, said the goal is to… <url>', label=0.0, agreement=1.0),\n",
       " Pandas(Index=370, tweet_id='US3KVTA9', safe_text='<user> Better than measles! #tamiflu', label=0.0, agreement=0.6666666666666666),\n",
       " Pandas(Index=371, tweet_id='7ORHB9OY', safe_text='Tougher vaccination rules greet parents as back-to-school time nears: Under strict new rules from the state of… <url>', label=1.0, agreement=0.6666666666666666),\n",
       " Pandas(Index=372, tweet_id='G7JP5IFQ', safe_text='<user> pretty sure the headline should be \"parents taking unvaccinated children in public linked to measles outbreak\" #vaccinate', label=1.0, agreement=1.0),\n",
       " Pandas(Index=373, tweet_id='31HN7Q87', safe_text='I vaccinated your baby while you were at hot yoga', label=1.0, agreement=0.6666666666666666),\n",
       " Pandas(Index=374, tweet_id='JA7XOTSR', safe_text=\"If your baby doesn't have to be vaccinated neither does my Yorkie.😂😂😂😂\", label=1.0, agreement=1.0),\n",
       " Pandas(Index=375, tweet_id='1Z5SMVTO', safe_text='Measles vaccine doesn’t increase risk for autism, according to study: The vaccine for measles, mumps and rubella… <url>', label=1.0, agreement=0.6666666666666666),\n",
       " Pandas(Index=376, tweet_id='7BNGGSZT', safe_text=\"<user> <user> ended up dead within 24 hours of being vaccinated regardless of any 'study'\", label=-1.0, agreement=1.0),\n",
       " Pandas(Index=377, tweet_id='KA143GJS', safe_text='<user> vaccine truth: <url>', label=0.0, agreement=0.6666666666666666),\n",
       " Pandas(Index=378, tweet_id='YX10ZW71', safe_text=\"Sadly I'd much rather have a child grow up with autism than risk my child to a fatal measles outbreak! #VaccinateYourKids <user>\", label=1.0, agreement=1.0),\n",
       " Pandas(Index=379, tweet_id='YOIGANPS', safe_text='Measles Outbreak Makes Way To Ventura County <url>', label=0.0, agreement=0.6666666666666666),\n",
       " Pandas(Index=380, tweet_id='KE6GC142', safe_text='#BanCalifornia Some of those moms love measles effect. <user>', label=0.0, agreement=0.6666666666666666),\n",
       " Pandas(Index=381, tweet_id='SD5UWS32', safe_text=\"They should have poison ivy vaccines. I'd pay good money for that shit\", label=1.0, agreement=0.6666666666666666),\n",
       " Pandas(Index=382, tweet_id='GQX7WS0E', safe_text='Another milestone and her first set of immunizations...baby Harper took those shots like a champ!!… <url>', label=1.0, agreement=1.0),\n",
       " Pandas(Index=383, tweet_id='CA47IEWQ', safe_text='RT <user> Attn America: giving a vaccine that prevents cancer and HPV is in no way bad. Kids (cont) <url>', label=1.0, agreement=0.6666666666666666),\n",
       " Pandas(Index=384, tweet_id='XQNAXL3M', safe_text=\"Talk about selfish stupidity. I can't believe one fraudulent doctor has gotten us to this place where vaccines are feared. So sad.\", label=1.0, agreement=1.0),\n",
       " Pandas(Index=385, tweet_id='PGSN65XD', safe_text=\"There's no way these parents vaccinate their kids.\", label=1.0, agreement=0.6666666666666666),\n",
       " Pandas(Index=386, tweet_id='MRG40RSL', safe_text='<user>  it would be interesting to know if the measles outbreak started with illegals not vaccinated-good investigation required', label=1.0, agreement=0.6666666666666666),\n",
       " Pandas(Index=387, tweet_id='P9SWC8XS', safe_text=\"Law and Order SVU S10 E19 the case with the measles aired in 2009 here it is 2015 and we're living it\", label=0.0, agreement=1.0),\n",
       " Pandas(Index=388, tweet_id='PQ7VUX9Q', safe_text='Everything we do carries risk, but when the benefit of it comes in a higher form, there are no questions asked. #vaccineswork', label=1.0, agreement=1.0),\n",
       " Pandas(Index=389, tweet_id='A8UB896F', safe_text='Get your kids vaccinated so they can grow up. #makesafehappen', label=1.0, agreement=1.0),\n",
       " Pandas(Index=390, tweet_id='TUM3T7ND', safe_text='Major finding at #ISC14 <user> by <user> #Vaccines reduce risk of strokes in children <url> via <user>', label=1.0, agreement=1.0),\n",
       " Pandas(Index=391, tweet_id='L18R4PP0', safe_text='Measles case confirmed in Oakland County; vaccinations offered: Oakland County will offer measles, measles, mumps… <url>', label=0.0, agreement=0.6666666666666666),\n",
       " Pandas(Index=392, tweet_id='B9L3Z1NI', safe_text=\"Child visiting Martha's Vineyard diagnosed with measles: A child visiting Martha's Vineyard from another state was… <url>\", label=0.0, agreement=1.0),\n",
       " Pandas(Index=393, tweet_id='9OS5ZU9Y', safe_text=\"<user> I'm asking to bring awareness HPV vaccine usually HPV is harmless but  10% chance that can cause cervical cancer so#HVPvaccine\", label=1.0, agreement=0.6666666666666666),\n",
       " Pandas(Index=394, tweet_id='1FKI0G8X', safe_text='Mango in pain after Vaccines :( .. my poor baby ..', label=0.0, agreement=0.6666666666666666),\n",
       " Pandas(Index=395, tweet_id='FXKYVYRJ', safe_text=\"🔥🔥🔥 My version of #Drake's #6god 🚨LINK IN MY BIO🚨 #jennifair #mmr #somage @ SoMage Studios <url>\", label=0.0, agreement=1.0),\n",
       " Pandas(Index=396, tweet_id='VW82QSNE', safe_text='By letting Nixon off the hook for massive criminality he was granted a kind of sovereign immunity in life and historical ambiguity in death.', label=0.0, agreement=1.0),\n",
       " Pandas(Index=397, tweet_id='683NG5M8', safe_text=\"Let's send the measles to ISIS via illegals in US\", label=0.0, agreement=1.0),\n",
       " Pandas(Index=398, tweet_id='MWZHE56Q', safe_text='Vaccinations should be mandatory. If not just for the safety of your kid, definitely for the safety of others!', label=1.0, agreement=1.0),\n",
       " Pandas(Index=399, tweet_id='QPRCJK66', safe_text=\"HERE'S THE PROOF. THE MMR MEASLES VACCINE INSERT SAYS IT CAUSES MEASLES ...: <url>\", label=-1.0, agreement=1.0),\n",
       " Pandas(Index=400, tweet_id='ZJB0AS14', safe_text='<user> <user> I am well aware of the dangers of measles. I nearly died from it at age 9. Not vaccinating children is cruel.', label=1.0, agreement=1.0),\n",
       " Pandas(Index=401, tweet_id='C4RK17S6', safe_text='\"<user> #CDC tells healthy adults not to forget flu vaccine\\n<url> <url> <user>', label=1.0, agreement=0.6666666666666666),\n",
       " Pandas(Index=402, tweet_id='W7VP743U', safe_text='<user> if it was around like 3:10 ishh then ya that was mmr', label=0.0, agreement=1.0),\n",
       " Pandas(Index=403, tweet_id='XCPLICRG', safe_text=\"<user> I'm suspicious that the vaccine wears out way quicker than the current cdc guidelines suggest, too .\", label=-1.0, agreement=0.6666666666666666),\n",
       " Pandas(Index=404, tweet_id='AZDG9MYZ', safe_text='RT Lion <user> <user> <user> #OneShotOneLife #Measles <url>', label=0.0, agreement=0.6666666666666666),\n",
       " Pandas(Index=405, tweet_id='CJSUMZVG', safe_text=\"Hey stupid Liberals...hear about measles & diseases in Somalia cause their kids aren't vaccinated? Vaccines prevent disease not cause autism\", label=1.0, agreement=1.0),\n",
       " Pandas(Index=406, tweet_id='N2GVR8PX', safe_text=\"Don't believe in science then you don't believe in: Evolution, climate change, GMO safety, vaccine safety.  Belief without evidence is faith\", label=1.0, agreement=0.6666666666666666),\n",
       " Pandas(Index=407, tweet_id='L3OUMQ7F', safe_text='The measles debate continues. Tnx SVU.  #SVU', label=0.0, agreement=1.0),\n",
       " Pandas(Index=408, tweet_id='VM3B757U', safe_text='And I 100% blame people not vaccinating their children as a reason why different illnesses are making a come back.', label=1.0, agreement=0.6666666666666666),\n",
       " Pandas(Index=409, tweet_id='GWUOU01D', safe_text='Waiting with an elderly woman and mentally disabled kids at bus stop in Padadena. Woman: this is caused by corrupt gov and vaccination WTF?', label=0.0, agreement=0.6666666666666666),\n",
       " Pandas(Index=410, tweet_id='GRLF2YMB', safe_text='\"<user> Nationalism is an infantile disease, the measles of humanity--Einstein\" this is very true.', label=0.0, agreement=1.0),\n",
       " Pandas(Index=411, tweet_id='5P4LF324', safe_text='With my baby for her first set of vaccines. Hope it does not become crazy today. Sorry Sarai but it has to happen. Love U though.', label=1.0, agreement=1.0),\n",
       " Pandas(Index=412, tweet_id='157C5OZ6', safe_text='PFISD Sup: We are bringing the flu vaccine to where the kids are--school. For free! #kicktheflu #e3alliance <url>', label=1.0, agreement=1.0),\n",
       " Pandas(Index=413, tweet_id='OZMXXB0E', safe_text='Texans Attending Softball Tournament In Kansas Possibly Exposed To Measles: AUSTIN, TX(AP) — Texas\\xa0health... <url>', label=0.0, agreement=1.0),\n",
       " Pandas(Index=414, tweet_id='A4WCGR2W', safe_text='<user> 1-The Flu vaccine is the first sign you have been indoctrinated by the system 2-Flu vaccines are the worst 3-Live virus or dead', label=-1.0, agreement=1.0),\n",
       " Pandas(Index=415, tweet_id='TRIA42TR', safe_text='Sun Ra measles', label=0.0, agreement=1.0),\n",
       " Pandas(Index=416, tweet_id='ZEV2UAM2', safe_text=\"Hopefully for the kids sake that's a norovirus/bowl-cut vaccine <url>\", label=1.0, agreement=0.6666666666666666),\n",
       " Pandas(Index=417, tweet_id='HOBGE1MT', safe_text='“<user> Innovative #vaccine action plan on Sept agenda of European health ministers <url> #immunizeEurope”', label=1.0, agreement=0.6666666666666666),\n",
       " Pandas(Index=418, tweet_id='AUU8JW87', safe_text='\"<user> On average people who complain live longer. Releasing this tension increases immunity and boosts their health\"', label=0.0, agreement=1.0),\n",
       " Pandas(Index=419, tweet_id='ZTZH87OR', safe_text='Immunization Records (@ Childrens Doctors) <url>', label=0.0, agreement=1.0),\n",
       " Pandas(Index=420, tweet_id='KPPXO9TB', safe_text='It is crazy that #POTUS and other officials still have to call on parents to vaccinate they children. Are we in the 21st century? #HealthYea', label=1.0, agreement=1.0),\n",
       " Pandas(Index=421, tweet_id='SKJQ3YA7', safe_text='RT <user> Vital Signs: Prevention: Shingles Vaccine Is Shown to Be Very Safe <url>', label=1.0, agreement=0.6666666666666666),\n",
       " Pandas(Index=422, tweet_id='6PZFSL80', safe_text='“<user> Study: HPV vaccine safe but linked to fainting and skin infections <url> <user> <user>', label=0.0, agreement=0.6666666666666666),\n",
       " Pandas(Index=423, tweet_id='NMN7Q3Q6', safe_text='My baby boy got a vaccine today and he cried a little until the lollipop got whipped out. Then,… <url>', label=1.0, agreement=0.6666666666666666),\n",
       " Pandas(Index=424, tweet_id='36UGMXSJ', safe_text=\"VACCINATE YOUR CHILDREN PEOPLE!!!! That's fucking disgusting!\", label=1.0, agreement=1.0),\n",
       " Pandas(Index=425, tweet_id='9VJUN8JE', safe_text=\"I hope my immunizations are up to date (@ Miami Children's Museum) [pic]: <url>\", label=1.0, agreement=1.0),\n",
       " Pandas(Index=426, tweet_id='9VVMM1A2', safe_text='Measles outbreak at dland and they still have a good enough attendance to raise their ticket prices hahah oh my', label=0.0, agreement=1.0),\n",
       " Pandas(Index=427, tweet_id='9ANI1IJD', safe_text=\"<user> <user> she just adopted a baby full bred German shepherd because owners didn't vaccinate, he got parvo so they said...\", label=0.0, agreement=1.0),\n",
       " Pandas(Index=428, tweet_id='41A0C3ZT', safe_text='#refugeecrisis\\nCan you imagine how many of these people have never been vaccinated against disease?\\nWhat is EU to do?', label=0.0, agreement=0.6666666666666666),\n",
       " Pandas(Index=429, tweet_id='DJXR75H7', safe_text=\"What's with all these hockey players getting mumps?! Aren't we supposed to get vaccines as a child to counteract getting those?! #MMRshots\", label=1.0, agreement=0.6666666666666666),\n",
       " Pandas(Index=430, tweet_id='I110AY8G', safe_text=\"I don't vaccinate my kids.  #5WordDealBreakers wtf\", label=-1.0, agreement=0.3333333333333333),\n",
       " Pandas(Index=431, tweet_id='Q4BV9IVZ', safe_text='<user> <user> as a nurse who is working iron a Masters Degree w/ a public health emphasis ask me how I feel about vaccinations!!', label=1.0, agreement=0.6666666666666666),\n",
       " Pandas(Index=432, tweet_id='39OMR1UT', safe_text='The number of measles cases surges to 91 in California, up from 79 on Wednesday, the state health department says.', label=0.0, agreement=1.0),\n",
       " Pandas(Index=433, tweet_id='1349T83V', safe_text='<user> <user> <user> it impacts stats health care laws. Reporting immunizations etc.', label=0.0, agreement=1.0),\n",
       " Pandas(Index=434, tweet_id='VG3NIJI8', safe_text='Concerns about measles increase awareness of immunization importance!', label=1.0, agreement=1.0),\n",
       " Pandas(Index=435, tweet_id='71QYA6YO', safe_text=\"If you don't vaccinate your kids you're a fuckin retard.\", label=1.0, agreement=1.0),\n",
       " Pandas(Index=436, tweet_id='4E3Z1TLC', safe_text='“<user> <user> just \"ANDREA\"ed me..” You said I had measles 😐 I don\\'t fucks with that', label=0.0, agreement=1.0),\n",
       " Pandas(Index=437, tweet_id='DBFVYMVF', safe_text='Worst tweet “<user> How do vaccines protect babies? Discover the answers on #vaccinesNOVA on 9/10 <user> on PBS <url>', label=1.0, agreement=0.6666666666666666),\n",
       " Pandas(Index=438, tweet_id='XTN57OAW', safe_text='<user> #GOP STOP blaming #Immigrants first #Ebola now #measles Which diseases?brought their ancestors?#AINF <url>', label=0.0, agreement=0.6666666666666666),\n",
       " Pandas(Index=439, tweet_id='IXNAQH1T', safe_text=\"I don't wanna go to work today said little Peggy Ann McKay. I have the measles and the mumps, a rash a gosh and 13 bumps.\", label=0.0, agreement=1.0),\n",
       " Pandas(Index=440, tweet_id='9CBXI716', safe_text='Update: Boxer, Feinstein Call For End To California’s Vaccine Exemptions <url>', label=0.0, agreement=0.6666666666666666),\n",
       " Pandas(Index=441, tweet_id='5DC3F07E', safe_text='Florida DOH Offers Free Back-To-School Immunizations: What do some students dislike more than actually going back… <url>', label=1.0, agreement=0.6666666666666666),\n",
       " Pandas(Index=442, tweet_id='76A4JV3G', safe_text='#MMR Trombones! @ Sun Bowl Stadium- University of Texas El Paso <url>', label=0.0, agreement=1.0),\n",
       " Pandas(Index=443, tweet_id='WA0KRCZ3', safe_text=\"Roald Dahl's Heartbreaking Take on Vaccines #vaccine #medicine #health <url>\", label=0.0, agreement=0.6666666666666666),\n",
       " Pandas(Index=444, tweet_id='1AAAEJXY', safe_text='#MMR 💥', label=0.0, agreement=1.0),\n",
       " Pandas(Index=445, tweet_id='WUF0CPHO', safe_text='Fear free visits involve food. Mischief at baby food while we gave vaccines. #veterinarian #petcare <user> <url>', label=1.0, agreement=0.6666666666666666),\n",
       " Pandas(Index=446, tweet_id='24M8DKUY', safe_text='UC System to Require Measles Shots <url>', label=1.0, agreement=0.6666666666666666),\n",
       " Pandas(Index=447, tweet_id='PAGKFTAF', safe_text='\"hi, I\\'m the idiot parent who didn\\'t vaccinate my kid because I think it causes autism...\" \\n\\nI may be paraphrasing.', label=-1.0, agreement=0.3333333333333333),\n",
       " Pandas(Index=448, tweet_id='I0VN1B7I', safe_text='We don’t get flying cars, but endemic measles is back. Future, you had one job...!', label=1.0, agreement=0.6666666666666666),\n",
       " Pandas(Index=449, tweet_id='ELJKN7K5', safe_text=\"<user> you're really gonna let them inject you with the virus so that you don't contract the virus? 😂 vaccines are not safe!\", label=-1.0, agreement=1.0),\n",
       " Pandas(Index=450, tweet_id='QPJ6M6TE', safe_text='“<user> JUST IN: #Measles case reported in #LancasterCounty #PA DETAILS: <url> <url>', label=0.0, agreement=1.0),\n",
       " Pandas(Index=451, tweet_id='7EMDTGQG', safe_text=\"<user> Ellen ur a bitch. How could u promote the #flushot vaccination on ur show when u dam well that they are unsafe and don't work\", label=-1.0, agreement=1.0),\n",
       " Pandas(Index=452, tweet_id='K5DX7M0N', safe_text='Time for her #4month #physical and #immunizations! #checkup #baby #babysalazar #lifeafternicu #preemie… <url>', label=1.0, agreement=1.0),\n",
       " Pandas(Index=453, tweet_id='3X59FI7E', safe_text='This is so disappointing/terrifying \"<user> 1 in 5 millennials surveyed believe vaccines cause autism <url>', label=-1.0, agreement=0.3333333333333333),\n",
       " Pandas(Index=454, tweet_id='JPXEX4V2', safe_text=\"Sell guns in Walmart and don't vaccinate your kids against pertussis. Good strategy to go extinct.\", label=1.0, agreement=1.0),\n",
       " Pandas(Index=455, tweet_id='3Z85T42T', safe_text='<user> IF YOUR LOOOKING FOR A TRUSTED MMR PRO STATUS MEMBER WHOS SELLING COINS FOLLOW AND DM ME.. <url>', label=0.0, agreement=1.0),\n",
       " Pandas(Index=456, tweet_id='WSMOFWFX', safe_text='<user> <user> a vaccine is just a weakened agent of that disease so that your immune system can learn to fight it. Your body', label=1.0, agreement=1.0),\n",
       " Pandas(Index=457, tweet_id='610WUDYE', safe_text=\"<user> if everyone else has the vaccine, then who's spreading it? Also some risks should be looked into.\", label=-1.0, agreement=0.6666666666666666),\n",
       " Pandas(Index=458, tweet_id='AZZPP2TK', safe_text=\"<user> What's your advice on #measles vaccine for kids &lt;1yr? Earlier MMR rec'd for intl travel - what about to protect in outbreak?\", label=0.0, agreement=0.6666666666666666),\n",
       " Pandas(Index=459, tweet_id='3AM7OQA9', safe_text='The #measles killed me multiple times on the Oregon Trail game back in elementary school. So did dysentery.', label=0.0, agreement=1.0),\n",
       " Pandas(Index=460, tweet_id='FG0KBER7', safe_text='US fed judge upholds state law requiring vaccinations, eliminating exemptions based on their parents’ stupid beliefs <url>', label=1.0, agreement=0.6666666666666666),\n",
       " Pandas(Index=461, tweet_id='P7VI250E', safe_text='Another outbreak: Measles cases could double in Ebola-stricken countries via <user>', label=0.0, agreement=1.0),\n",
       " Pandas(Index=462, tweet_id='XPXO32ZB', safe_text='like you can google what measles are, why are you asking the nurse?! 😂😂', label=0.0, agreement=1.0),\n",
       " Pandas(Index=463, tweet_id='098URCBP', safe_text='<user> Vaccine injuries ARE studied to try to lessen the collateral damage, but stopping vaccination period kills magnitudes more.', label=1.0, agreement=1.0),\n",
       " Pandas(Index=464, tweet_id='RRJ8MMCO', safe_text='#Flu vaccine may soon be required for up to 150,000 kids in NYC. Details up next on <user>', label=0.0, agreement=0.6666666666666666),\n",
       " Pandas(Index=465, tweet_id='DC1GOWJY', safe_text='Vaccinations 5¢, MMR Free #noesocute #sanfrancisco @ Noe So Cute Sign <url>', label=0.0, agreement=0.6666666666666666),\n",
       " Pandas(Index=466, tweet_id='CMN5D4LP', safe_text='No measles so far, yay! #Disneyland \\n\\n<user> <url>', label=0.0, agreement=1.0),\n",
       " Pandas(Index=467, tweet_id='2EQMISHU', safe_text='Tuberculosis: Exclusive Clips From “The Forgotten Plague” <url> #TB #measles <url>', label=1.0, agreement=0.6666666666666666),\n",
       " Pandas(Index=468, tweet_id='E41RRS90', safe_text='Large measles outbreak traced to Disneyland is declared over: California health officials have declared an end to… <url>', label=0.0, agreement=1.0),\n",
       " Pandas(Index=469, tweet_id='KPEL1XBA', safe_text='<user> I heard that on MMR this morning #BizzareFiles', label=0.0, agreement=1.0),\n",
       " Pandas(Index=470, tweet_id='0ILU1TWD', safe_text='<user> <user> hangover is like a disease. U have to build immunity. Lol', label=0.0, agreement=1.0),\n",
       " Pandas(Index=471, tweet_id='TGZSDFGI', safe_text=\"<user> ppl are dumb. Often the same ppl who don't vaccinate their kids.\", label=1.0, agreement=1.0),\n",
       " Pandas(Index=472, tweet_id='YKLV2YAW', safe_text='<user> I still say the damn measles were brought here by all the so-called children from Central America that Obama told to come here!', label=0.0, agreement=0.6666666666666666),\n",
       " Pandas(Index=473, tweet_id='99OB3GZ3', safe_text='“<user> Health Dept. Warns Super Bowl Visitors May Have Been Exposed To Measles... <url> yikes', label=0.0, agreement=1.0),\n",
       " Pandas(Index=474, tweet_id='NDCKAO1U', safe_text='I either have measles or I died idk send snacks pls', label=0.0, agreement=1.0),\n",
       " Pandas(Index=475, tweet_id='VPNURL09', safe_text='Lesson to be learned vaccinate your kids!!!! #mumps', label=1.0, agreement=0.6666666666666666),\n",
       " Pandas(Index=476, tweet_id='SCX4XU6L', safe_text='MMR carnival $40 for a 3 yr old and a1 year old to ride rides. learning the church encourages tweeting about their shitty Carnival priceless', label=0.0, agreement=1.0),\n",
       " Pandas(Index=477, tweet_id='CYI5NOOL', safe_text=\"Trying to win back the kids' trust after I surprised them with vaccinations this afternoon. @ Molly… <url>\", label=1.0, agreement=1.0),\n",
       " Pandas(Index=478, tweet_id='C161WWG6', safe_text='i respect ur religious beliefs until they jeopardize my safety and herd immunity so... stop', label=1.0, agreement=0.6666666666666666),\n",
       " Pandas(Index=479, tweet_id='YPYVJ0OA', safe_text='AM-News : HIV vaccine a reality by 2030, Bill Gates: Over a million people have died of this disease and Bill Gates… <url>', label=1.0, agreement=0.6666666666666666),\n",
       " Pandas(Index=480, tweet_id='VGU16TPD', safe_text=\"Parents who DON'T vaccinate their kids. \\nTable open for discussion .\\n\\n(I have a pt with measles today btw)\\nSmdh\", label=0.0, agreement=0.6666666666666666),\n",
       " Pandas(Index=481, tweet_id='LW13BERD', safe_text='Free Back-to-School Immunizations in Irving and Dallas <url>', label=1.0, agreement=0.6666666666666666),\n",
       " Pandas(Index=482, tweet_id='TFNTLZ33', safe_text=\"What's worse, not getting measles shot or going to the hospital on #TheWalkingDead\", label=0.0, agreement=0.6666666666666666),\n",
       " Pandas(Index=483, tweet_id='1QU492WL', safe_text='vaccinate your damn children pls', label=1.0, agreement=1.0),\n",
       " Pandas(Index=484, tweet_id='QMO0G7VL', safe_text='“<user> With measles cases surging, why are vaccination rates dropping? <url> via <user> bc people r very stupid.', label=1.0, agreement=0.6666666666666666),\n",
       " Pandas(Index=485, tweet_id='30FY941P', safe_text='Disneyland measles outbreak includes traveler, Grays Harbor teen: At least 17 people have been confirmed with… <url>', label=0.0, agreement=1.0),\n",
       " Pandas(Index=486, tweet_id='WYAFLOSI', safe_text='SB1095 [Engross] Volunteer immunity; providing exemption from liability for certain acts. Effective date. <url>', label=0.0, agreement=0.6666666666666666),\n",
       " Pandas(Index=487, tweet_id='ZAFMO1TM', safe_text='Jim Carey and Jenny McCarthy cause 1st confirmed measles death in US in 12 years.  Thanks. <url>', label=1.0, agreement=0.6666666666666666),\n",
       " Pandas(Index=488, tweet_id='79NNLJD1', safe_text=\"It's good to be back. <user> <user> #hookem #genetics #vaccines #health @ The… <url>\", label=0.0, agreement=0.6666666666666666),\n",
       " Pandas(Index=489, tweet_id='LG8Q7LDO', safe_text='Parents who refuse to vaccinate their kids for measles! What do you think?\\n720 tomorrow.<user> <user>', label=1.0, agreement=0.6666666666666666),\n",
       " Pandas(Index=490, tweet_id='CSVR9WC8', safe_text='Health department offers hepatitis A vaccinations to patrons of SouthPark restaurant: The Mecklenburg County Health… <url>', label=0.0, agreement=0.6666666666666666),\n",
       " Pandas(Index=491, tweet_id='C9W19T6D', safe_text='With all them bumps under her chin like she been sucking dick that had the measles', label=0.0, agreement=1.0),\n",
       " Pandas(Index=492, tweet_id='6PK0ECOJ', safe_text='Conn. expanding childhood vaccination program: HARTFORD, Conn. (AP) — The Connecticut Department of Public Health is... <url>', label=0.0, agreement=0.6666666666666666),\n",
       " Pandas(Index=493, tweet_id='VOTCLOF3', safe_text='<user> The Columbia Health Department plans on holding community clinics as long as it has some type of vaccination.', label=0.0, agreement=0.6666666666666666),\n",
       " Pandas(Index=494, tweet_id='NGLDIUR1', safe_text='<user> Autism &amp; relation to use of fetal cells in vaccines; please note: <url>', label=-1.0, agreement=0.6666666666666666),\n",
       " Pandas(Index=495, tweet_id='FI3WHSTJ', safe_text='Study: No link between MMR vaccine, autism: A new study finds the measles-mumps-rubella vaccination, commonly… <url>', label=1.0, agreement=1.0),\n",
       " Pandas(Index=496, tweet_id='34XPUMBP', safe_text=\"If you don't vaccinate your kids Jesus is going to teach your daughter to twerk.\", label=1.0, agreement=1.0),\n",
       " Pandas(Index=497, tweet_id='OXGSFVPQ', safe_text='<user> <user> <user> <user> school immunization requirements different issue.  <url> #sb277', label=0.0, agreement=1.0),\n",
       " Pandas(Index=498, tweet_id='7ID5E2AK', safe_text='Mmmmmhmmmm all these sick kids are kids I tried to immunize with the flu shot BUT NOOOOOOOOO ✋😒', label=1.0, agreement=1.0),\n",
       " Pandas(Index=499, tweet_id='9ZODJWXL', safe_text='\"<user> I really don\\'t get the #antivax nonsense. #VaccinateYourChildren - #StopWithTheStupid\" the child you save may be your own', label=1.0, agreement=1.0),\n",
       " Pandas(Index=500, tweet_id='6J04QZ1W', safe_text='Silly Hollywood logic: vaccines are bad &amp; dangerous for kids  but Botox is ok.', label=1.0, agreement=1.0),\n",
       " Pandas(Index=501, tweet_id='P4WX8EP7', safe_text='<url> Dr. Reveals truth about vaccines!', label=-1.0, agreement=0.6666666666666666),\n",
       " Pandas(Index=502, tweet_id='OUVHIHWG', safe_text='and I proudly stand up\\n\\nfor the general decency of having your children vaccinated', label=1.0, agreement=1.0),\n",
       " Pandas(Index=503, tweet_id='SIZ2CR2M', safe_text='Very scary <user> the measles', label=0.0, agreement=1.0),\n",
       " Pandas(Index=504, tweet_id='OW0G8TKD', safe_text='<user> <user> Yuppers, she is 16 and no matter how much data you put in front of me I will vaccinate my child, I value her life!', label=1.0, agreement=1.0),\n",
       " Pandas(Index=505, tweet_id='09B6SF4U', safe_text='how come i can refuse to vaccinate my child but not my dog?', label=0.0, agreement=1.0),\n",
       " Pandas(Index=506, tweet_id='NBOQKDL6', safe_text='CDC recommends getting vaccinated: While some of the viruses spreading this season are different from those in the… <url>', label=1.0, agreement=1.0),\n",
       " Pandas(Index=507, tweet_id='85O4DJYB', safe_text=\"Babies get all kinds of immunization shots.  it is a shame they don't have one to keep them from becoming teenagers with an attitude.\", label=1.0, agreement=1.0),\n",
       " Pandas(Index=508, tweet_id='J3ALBM1F', safe_text='“This is REALLY bad news for public health: Chris Christie makes vaccine issue partisan. <url> <user>', label=1.0, agreement=0.6666666666666666),\n",
       " Pandas(Index=509, tweet_id='A1MYFMGN', safe_text='<user> after measles shots.', label=1.0, agreement=0.6666666666666666),\n",
       " Pandas(Index=510, tweet_id='GT0UJ8B6', safe_text=\"So sick it's pneumonia! H1N1! That measles! RT<user> Just came up w/ a sick Idea\", label=0.0, agreement=0.6666666666666666),\n",
       " Pandas(Index=511, tweet_id='FFJQ2Q4N', safe_text=\"<user> So the expenditure of money is comparable to a capital crime? Doesn't RFK Jr have some vaccine lies to spread or something?\", label=-1.0, agreement=0.3333333333333333),\n",
       " Pandas(Index=512, tweet_id='UIIF1JT9', safe_text=\"I'm not subscribing to the panic du jour. Now it's measles, remember Ebola?\", label=0.0, agreement=1.0),\n",
       " Pandas(Index=513, tweet_id='ESSWXLMQ', safe_text=\"AIDS N : HIV: New vaccine which boosts body's immunity could lead to cure for disease: Researchers have said that a… <url>\", label=1.0, agreement=1.0),\n",
       " Pandas(Index=514, tweet_id='UX6AV6YG', safe_text='<user> ask the doc why #measles  is called \"measles\" #curious', label=0.0, agreement=0.6666666666666666),\n",
       " Pandas(Index=515, tweet_id='4HPRNLHP', safe_text='Are ppl aware that the majority of kids who got measles at Disneyland were UNVACCINATED? That means ur vaxx kids were not in danger so STFU!', label=0.0, agreement=0.6666666666666666),\n",
       " Pandas(Index=516, tweet_id='S907483O', safe_text='MMR school is opening 2 hours late. CARES begins at 9.', label=0.0, agreement=1.0),\n",
       " Pandas(Index=517, tweet_id='MBWEJAYE', safe_text='Vaccine preventable deaths and gun preventable death #peasinapod?', label=1.0, agreement=1.0),\n",
       " Pandas(Index=518, tweet_id='KS0GEW0G', safe_text='InfoWars Pictures presents:\\nM.M.R.\\nMeasles, Mumps, Ruebella\\nComing Soon to a first-world country near you', label=0.0, agreement=0.6666666666666666),\n",
       " Pandas(Index=519, tweet_id='113WDTAX', safe_text='Vaccinate your children &amp; stop the spread of measles. Protect our kids. #MeaslesOutbreak', label=1.0, agreement=1.0),\n",
       " Pandas(Index=520, tweet_id='8B1WXT9T', safe_text=\"SA health agency disagrees w/ DA Nico LaHood, says vaccines don't cause autism via mySA <url>\", label=1.0, agreement=0.6666666666666666),\n",
       " Pandas(Index=521, tweet_id='0G2ZG9O9', safe_text=\"If you don't vaccinate your kids because it's trendy &amp; you aren't fully informed, you are putting your child in danger.\", label=1.0, agreement=0.6666666666666666),\n",
       " Pandas(Index=522, tweet_id='GT8PIK2S', safe_text=\"Couple who do work for me had 2 turn in myriad of forms for kids' school vaccination.  Watched illegals waved thru, no forms needed.\", label=1.0, agreement=0.6666666666666666),\n",
       " Pandas(Index=523, tweet_id='HUQG4R4M', safe_text=\"ALSO EVEN OF VACCINES CAUSED AUTISM (which they don't) WOULD YOU RATHER A CHILD WITH AUTISM OR A DEAD CHILD? you guys act like autism is …\", label=1.0, agreement=1.0),\n",
       " Pandas(Index=524, tweet_id='SUU2YNPC', safe_text=\"Circumcising and ear piercing are parental choices, vaccinating children shouldn't be, not when that choice affects the health of others.\", label=1.0, agreement=1.0),\n",
       " Pandas(Index=525, tweet_id='ACI0U1UT', safe_text=\"WA currently allows vaccine exemptions for medical, personal or religious beliefs.\\n1 of these might be removed. \\nI'll explain at 6\", label=-1.0, agreement=0.6666666666666666),\n",
       " Pandas(Index=526, tweet_id='JOJIRZO6', safe_text='Measles is spreading, and the anti-vaccine movement is the cause <url>', label=1.0, agreement=1.0),\n",
       " Pandas(Index=527, tweet_id='QEAB498A', safe_text=\"How am I supposed to argue against childhood immunizations when that's not my opinion? They save lives people what don't you understand 💉💉💉\", label=1.0, agreement=1.0),\n",
       " Pandas(Index=528, tweet_id='K4SBJW2W', safe_text=\"Crazy diseases happen cause a Mfk that owns medical vaccine companies make hella money from insurance and people ain't Tryna doe $$$$ hustle\", label=-1.0, agreement=0.3333333333333333),\n",
       " Pandas(Index=529, tweet_id='GMOF8HPG', safe_text='<user> measles and polio are plotting your demise as we speak', label=0.0, agreement=0.6666666666666666),\n",
       " Pandas(Index=530, tweet_id='CAPZ6IJL', safe_text='\"<user> 4 important questions about #measles.\\n<url> <url> B4 #vax, measles affect pregnancies', label=0.0, agreement=1.0),\n",
       " Pandas(Index=531, tweet_id='Y1NI9FUS', safe_text='<user> <user> <user> When it comes to immunizations, which was your original argument, it does the same thing', label=0.0, agreement=0.6666666666666666),\n",
       " Pandas(Index=532, tweet_id='W800D144', safe_text=\"If you don't vaccinate your children from preventable diseases, for whatever reason, you're a danger to us all. <url> #Fail\", label=1.0, agreement=1.0),\n",
       " Pandas(Index=533, tweet_id='44Z8I5TJ', safe_text='Today in my feed: selling Twitter fame, cancer cures  &amp; vaccine injury lawsuits. Need a lot more coffee to wade through that much bullshit.', label=0.0, agreement=0.6666666666666666),\n",
       " Pandas(Index=534, tweet_id='1VRW4HCA', safe_text='Getting  four month vaccines because I want all kids to have a chance. <user>', label=1.0, agreement=1.0),\n",
       " Pandas(Index=535, tweet_id='4SERFCJ0', safe_text=\"<user> you don't deserve 3.2k mmr\", label=0.0, agreement=1.0),\n",
       " Pandas(Index=536, tweet_id='3N49SV67', safe_text='HB5361 [NEW] Health; immunizations; exemptions to immunization requirements; modify to require the use of forms c... <url>', label=0.0, agreement=1.0),\n",
       " Pandas(Index=537, tweet_id='CJYFBEGY', safe_text=\"Why are people walking around without their damn MMR?! That's it I want a hazmat suit\", label=-1.0, agreement=0.3333333333333333),\n",
       " Pandas(Index=538, tweet_id='F9KHNCAG', safe_text='\"<user> Measles Health Alert in California <url> due to unvaccinated child in Riverside County', label=0.0, agreement=0.6666666666666666),\n",
       " Pandas(Index=539, tweet_id='I86CTU04', safe_text='Still lovin Disney, and measles free! :-) @ Disney California Adventure <url>', label=0.0, agreement=1.0),\n",
       " Pandas(Index=540, tweet_id='NYUVN6GP', safe_text='<user> I agree with you but parents should have to vaccinate their children', label=1.0, agreement=1.0),\n",
       " Pandas(Index=541, tweet_id='QFJHILGV', safe_text='<user> This is the second occurrence I read of vaccines harming children in Syria. Intentional or contamination is the question?', label=-1.0, agreement=0.6666666666666666),\n",
       " Pandas(Index=542, tweet_id='2LK0E78K', safe_text='\"<user> Wondering how you caught the flu? CDC says this year\\'s flu vaccine is only 23 percent effective: <url> <user>', label=0.0, agreement=0.6666666666666666),\n",
       " Pandas(Index=543, tweet_id='RV2VNISO', safe_text='Search vaccine opt-out rates for Texas schools, districts <url>', label=-1.0, agreement=0.3333333333333333),\n",
       " Pandas(Index=544, tweet_id='8ZMRJHZZ', safe_text=\"Parents who choose not 2 vaccinate their children put the rest of us @ risk measles are real &amp; dangerous 2 seniors who haven't had them\", label=1.0, agreement=1.0),\n",
       " Pandas(Index=545, tweet_id='ZI0K1SQU', safe_text='Such a great read - \"I\\'ll take #autism over measles ...\" <url> 💙💙', label=1.0, agreement=0.6666666666666666),\n",
       " Pandas(Index=546, tweet_id='8PMRLHQD', safe_text=\"Science is OK for super complex war machines but not for waste like Children's Health Insurance CHIP vaccines\\n#uniteblue <user>\", label=0.0, agreement=0.6666666666666666),\n",
       " Pandas(Index=547, tweet_id='FTKXP8Z6', safe_text=\"spoke this am San Marco rotary club.  gift was donation in rethreaded's name allowing 20 kids to get polio vaccines <url>\", label=1.0, agreement=1.0),\n",
       " Pandas(Index=548, tweet_id='K0ZPLT5J', safe_text='#ZombieLie!\\nMajority of Americans get vaccines for kids; overseas travel. Business offer free vaccines 2 workers. <user> <user> #UniteBIue', label=1.0, agreement=0.6666666666666666),\n",
       " Pandas(Index=549, tweet_id='G3JVQ78B', safe_text='Unleash Your Inner ThunderCat madhatterdc #mmr #dc #dj #lionO #cheetara #snarf #sightbeyondsight… <url>', label=0.0, agreement=1.0),\n",
       " Pandas(Index=550, tweet_id='HN63GNHL', safe_text=\"<user> <user> I'm not following the CDC schedule at all- but I believe many vaccines are necessary for public safety\", label=1.0, agreement=1.0),\n",
       " Pandas(Index=551, tweet_id='INN5YHF2', safe_text='This year almost 90 people in 14 states have been infected with the measles <user> <user> <user>', label=0.0, agreement=0.6666666666666666),\n",
       " Pandas(Index=552, tweet_id='C43T6GNI', safe_text=\"Measles is in Camarillo &amp; everyone's freaking out. Thanks, Disneyland 😒\", label=0.0, agreement=1.0),\n",
       " Pandas(Index=553, tweet_id='QDA4YTJT', safe_text='Anti-vaccination movement contributing to 18-year high measles outbreak?: WASHINGTON — Sixty-eight and... <url>', label=1.0, agreement=0.6666666666666666),\n",
       " Pandas(Index=554, tweet_id='K2RW3LHJ', safe_text='Health: Officials Reminding Residents About Dangers Of Not Vaccinating Kids <url>', label=1.0, agreement=1.0),\n",
       " Pandas(Index=555, tweet_id='L4QFMYOK', safe_text='I ran 4.824 <user> to help <user> vaccinate children worldwide. #EveryMileMatters Because running makes everyone happy :)', label=1.0, agreement=1.0),\n",
       " Pandas(Index=556, tweet_id='8CMP3E2B', safe_text=\"Look at what we've become. A bunch of little kids. Immature,selfish,stupid little kids fighting to boost egotistical immunity.-\", label=0.0, agreement=1.0),\n",
       " Pandas(Index=557, tweet_id='KHKTJADU', safe_text='“On average, people who complain live longer -- Releasing this tension increases immunity and boosts their health.” <user>', label=0.0, agreement=1.0),\n",
       " Pandas(Index=558, tweet_id='8NICJ1YV', safe_text='Measles outbreak: Vaccinate kids or find new doctor, pediatrician says <url>', label=1.0, agreement=0.6666666666666666),\n",
       " Pandas(Index=559, tweet_id='PDIXL3JZ', safe_text='<user> what about protecting infants? Should people who chose not to vaccinate have lesser access?', label=1.0, agreement=0.6666666666666666),\n",
       " Pandas(Index=560, tweet_id='T53N96E7', safe_text='<user> when I initially clicked that it led me to some link about some pregnant girl who decided to vaccinate her baby!!', label=0.0, agreement=0.6666666666666666),\n",
       " Pandas(Index=561, tweet_id='NB20U2PE', safe_text='Who could have guessed RT <user> Conservatives are more likely to believe that vaccines cause autism <url>', label=0.0, agreement=0.6666666666666666),\n",
       " Pandas(Index=562, tweet_id='93BDY05K', safe_text=\"<user> Crooks, if u don't spend any money there u leave with the measles\", label=0.0, agreement=1.0),\n",
       " Pandas(Index=563, tweet_id='GR0OPTU9', safe_text='Student filmmakers find themselves drawn into the vaccine/autism fray: Student filmmakers, fro... <url> #Carlsbad #News', label=0.0, agreement=1.0),\n",
       " Pandas(Index=564, tweet_id='H9D7ZO37', safe_text='I was given a flu #vaccine and was experiencing complete muscle #fAilure. #storytelling #autism #life #overcoming #AgainstAllOdds', label=-1.0, agreement=1.0),\n",
       " Pandas(Index=565, tweet_id='LH5Z2AEP', safe_text='If Progressive Liberalism is the disease, Barack Obama may be the vaccination. He has certainly stimulated the liberty loving immune system', label=0.0, agreement=0.6666666666666666),\n",
       " Pandas(Index=566, tweet_id='0I4OZ19J', safe_text='ACIP Updates Guidelines for Preventing Measles, Mumps, and Rubella. <url>', label=0.0, agreement=0.6666666666666666),\n",
       " Pandas(Index=567, tweet_id='8EYCWOY7', safe_text='I\\'m gonna live forever\"<user> People who complain live longer. Releasing tension increases immunity and improves overall health.\"', label=0.0, agreement=1.0),\n",
       " Pandas(Index=568, tweet_id='7ZTJXKGQ', safe_text=\"Thanks everyone for the concern about the measles and good wishes for my borked knee. I think I just need a good night's sleep in general :)\", label=0.0, agreement=1.0),\n",
       " Pandas(Index=569, tweet_id='S4J9BY47', safe_text='Vt. officials urge adults to get vaccinated: BURLINGTON, Vt. (AP) — Vermont health officials are urging adults to... <url>', label=1.0, agreement=0.6666666666666666),\n",
       " Pandas(Index=570, tweet_id='WMC76NEW', safe_text='“<user> J&amp;J Ebola consortia gets 100m euros to accelerate vaccine <url> #pharma #health”', label=0.0, agreement=1.0),\n",
       " Pandas(Index=571, tweet_id='PSBTR7C9', safe_text='MT \"<user> Adults Mostly Getting Measles <url>\\nSing the Vaccination song. <url>', label=1.0, agreement=1.0),\n",
       " Pandas(Index=572, tweet_id='QGK3U8RM', safe_text='.MMR', label=0.0, agreement=1.0),\n",
       " Pandas(Index=573, tweet_id='EJKI9IKQ', safe_text=\"Yes! RT <user> There's a simple way to decrease the number of parents who choose not to vaccinate their children <url>\", label=1.0, agreement=1.0),\n",
       " Pandas(Index=574, tweet_id='FXOQF6BT', safe_text='\"Women in the developing world know the power of vaccines; will walk 10 km with their child in the heat &amp; line up \" <url>', label=1.0, agreement=1.0),\n",
       " Pandas(Index=575, tweet_id='64NLJYBJ', safe_text='Free Back-to-School Immunizations <url> <url>', label=1.0, agreement=1.0),\n",
       " Pandas(Index=576, tweet_id='AVVJW2VW', safe_text='<user> Some of these children are better vaccinated than American children.Ebola is only found in Africa so stop trying to associate the two', label=0.0, agreement=0.6666666666666666),\n",
       " Pandas(Index=577, tweet_id='STK5U760', safe_text='Vaccines for the furry child. (@ Broadway Veterinary Hospital) <url>', label=1.0, agreement=1.0),\n",
       " Pandas(Index=578, tweet_id='H4L0T5TF', safe_text='<user> <user> <user> yes! Watching abt how important it is to vaccinate the whole family with my kids!', label=1.0, agreement=1.0),\n",
       " Pandas(Index=579, tweet_id='MWLHW2WB', safe_text='Two unvaccinated adults in Indian River County have confirmed cases of measles, health officials say.', label=-1.0, agreement=0.3333333333333333),\n",
       " Pandas(Index=580, tweet_id='A0JPSTKO', safe_text='Another Study Finds No Link Between MMR Vaccine and Autism <url>', label=1.0, agreement=1.0),\n",
       " Pandas(Index=581, tweet_id='XYMT7FYH', safe_text='Had this vaccine gone through #FauxNews wouldnt be drumming up fear #Ebola Vaccine, Ready for Test, Sat on the Shelf \\n<url>', label=1.0, agreement=1.0),\n",
       " Pandas(Index=582, tweet_id='KE8QM4BF', safe_text='HB1425 [Enroll] Immunization Records For Temporary Child Care <url>', label=0.0, agreement=0.6666666666666666),\n",
       " Pandas(Index=583, tweet_id='2Z18XKQW', safe_text='A #CNN commentator just said there is a measles case at Baird College. Bet people at Bard are thrilled with this.', label=0.0, agreement=1.0),\n",
       " Pandas(Index=584, tweet_id='34KKL8ZV', safe_text='“<user> Kristin Cavallari: \"I\\'ve read too many books\" to vaccinate my child <url> Dr Skank from the OC', label=-1.0, agreement=1.0),\n",
       " Pandas(Index=585, tweet_id='1JKXZ0V5', safe_text='🍍🍊🌽🍈&lt;  these yellow and oranges contain beta carotene , which helps promotes healthy vision,immunity&amp; reduce risks of cancers', label=0.0, agreement=1.0),\n",
       " Pandas(Index=586, tweet_id='J3J6WQ74', safe_text=\"<user> Are you sure that's not from a smallpox vaccine? Measles vaccine isn't known to leave a scar\", label=0.0, agreement=0.6666666666666666),\n",
       " Pandas(Index=587, tweet_id='AML06IYB', safe_text=\"USSSA's Come Bat for Measles benefiting the American Heart Association in Lexington is quickly filling up!  Call Carrie 803.261.2698\", label=0.0, agreement=0.6666666666666666),\n",
       " Pandas(Index=588, tweet_id='BG1P568F', safe_text='Some ppl just sit down , mix some concussions and release  deadly disease into the world just to make money off the vaccine sales', label=-1.0, agreement=0.6666666666666666),\n",
       " Pandas(Index=589, tweet_id='L9MHIU9N', safe_text=\"<user> MMR shots failed always blame unvaccinated and push shots $$$ truth: shots don't work\", label=-1.0, agreement=1.0),\n",
       " Pandas(Index=590, tweet_id='K9K7BBHZ', safe_text='Thanks, Anti-Vaxxers. You Just Brought Back Measles in NYC. <url> via <user>', label=1.0, agreement=1.0),\n",
       " Pandas(Index=591, tweet_id='2VQNE3EC', safe_text=\"<user> why is everyone making such a big deal out of this. If want the measles don't get the vaccine, if you don't get the vaccine.\", label=0.0, agreement=0.6666666666666666),\n",
       " Pandas(Index=592, tweet_id='90OXYXVS', safe_text='Andrew Wakefield should be charged with crimes against humanity. .. seriously! !', label=1.0, agreement=0.6666666666666666),\n",
       " Pandas(Index=593, tweet_id='PCAC64BO', safe_text='What do #AntiVaxxers say to 400 kids who die daily from #measles?  Should they be happy no #vaccine access <user> <url>', label=1.0, agreement=1.0),\n",
       " Pandas(Index=594, tweet_id='EH5V27LC', safe_text=\"Better get your kids vaccinated so they don't catch these hands\", label=1.0, agreement=1.0),\n",
       " Pandas(Index=595, tweet_id='7F2QWS4N', safe_text='\"With immunizations... Diseases disappear.\" <user> <user> #RESULTSconf', label=1.0, agreement=1.0),\n",
       " Pandas(Index=596, tweet_id='TE000R36', safe_text=\"Flu deaths are up.... Vaccinations are down. We are talking about why it's all so worrisome to health officials this morning.\", label=1.0, agreement=1.0),\n",
       " Pandas(Index=597, tweet_id='OPEK9AMZ', safe_text='Paul Offit’s Measles Crusade: Illustration by GluekitIf you look at a bar graph of measles outbreaks in the United… <url>', label=0.0, agreement=0.6666666666666666),\n",
       " Pandas(Index=598, tweet_id='E5CXI8GS', safe_text=\"Jenny McCarthy will smoke e-cigs but won't vaccinate her kids. Smh. I'm unequivocally pro both of those things.\", label=1.0, agreement=1.0),\n",
       " Pandas(Index=599, tweet_id='IK8FFY0V', safe_text='I won 4.00 measles dollars on lottery last night. Spent 20.00. Hell of a way to get rich. Lol', label=0.0, agreement=1.0),\n",
       " Pandas(Index=600, tweet_id='5Y0FSD6N', safe_text='Facts About the Measles Outbreak - <url> <url>', label=0.0, agreement=1.0),\n",
       " Pandas(Index=601, tweet_id='3QJ27VJM', safe_text='Jenny McCarthy has blood on her hands RT <user> Mother Warns Parents To Vaccinate After Baby’s Near Death <url>', label=0.0, agreement=0.6666666666666666),\n",
       " Pandas(Index=602, tweet_id='G7SEWSO7', safe_text='TIL the state of Mississippi has the highest vaccination rate for school-aged kids in the country.', label=0.0, agreement=1.0),\n",
       " Pandas(Index=603, tweet_id='XGI2WTBN', safe_text=\"<user> it's scary to think about what other disease will make a comeback #vaccineswork\", label=1.0, agreement=0.6666666666666666),\n",
       " Pandas(Index=604, tweet_id='YUNTEXM1', safe_text='San Bernardino County: Two Confirmed Measles Cases Related To Disneyland Outbreak <url>', label=0.0, agreement=0.6666666666666666),\n",
       " Pandas(Index=605, tweet_id='Q69YFGZM', safe_text='Sex is known to produce health benefits such as stress reduction, weight loss, increased immunity, and improved cardiovascular functioning.', label=0.0, agreement=1.0),\n",
       " Pandas(Index=606, tweet_id='INJDXP9X', safe_text='CDC: Many U.S. Adults Not Getting Key Vaccines: Many U.S. adults are skipping recommended vaccinations that could... <url>', label=0.0, agreement=0.6666666666666666),\n",
       " Pandas(Index=607, tweet_id='5XM5CHYW', safe_text='The meaning of life: \"He was immunized by God from catching the diseases that he fought.\"  <url> <url>', label=0.0, agreement=1.0),\n",
       " Pandas(Index=608, tweet_id='RQXRYDLO', safe_text='I learned today that you cannot get autism from vaccinations.', label=1.0, agreement=1.0),\n",
       " Pandas(Index=609, tweet_id='533JPEMS', safe_text='#EazyMix \\n(Link in <user> bio) #ManyMenRecords #MMR @ Music Mondays <url>', label=0.0, agreement=1.0),\n",
       " Pandas(Index=610, tweet_id='RGYUDUYA', safe_text='Poor kid got 4 shots. One not given in Aus, one on the US schedule for his age and 2 because US/Aus use a different vaccine for same thing.', label=1.0, agreement=0.6666666666666666),\n",
       " Pandas(Index=611, tweet_id='374PTZ3O', safe_text='Malaria, arboviruses, leptospirosis, rickettsial disease, measles, rubella, or typhoid may present similar findings  <url>', label=0.0, agreement=0.6666666666666666),\n",
       " Pandas(Index=612, tweet_id='GZX4XXG2', safe_text='\"Typically you want to get girls vaccinated before their first sexual activity\" \\n\"So in elementary school\" \\n-Dr. Skeelz', label=1.0, agreement=1.0),\n",
       " Pandas(Index=613, tweet_id='OM7DA3O2', safe_text='DeSoto schools remind families to update student immunizations <url>', label=1.0, agreement=0.6666666666666666),\n",
       " Pandas(Index=614, tweet_id='L860ZX1L', safe_text=\"This week I'm writing about the wonders of virtual reality and reading about a measles vaccine curing cancer. So many wonders.\", label=1.0, agreement=1.0),\n",
       " Pandas(Index=615, tweet_id='0F1NWN7O', safe_text='“<user> Is <user> forcing CNN to suppress information about vaccines and autism? #CDCwhistleblower \" BS <url>', label=0.0, agreement=0.6666666666666666),\n",
       " Pandas(Index=616, tweet_id='FZ2AWJR6', safe_text='The view replaced one wacky blond with another. They traded in \"gays shouldn\\'t get married\" for \"vaccines cause autism.\"', label=1.0, agreement=0.6666666666666666),\n",
       " Pandas(Index=617, tweet_id='0MZTJ23Y', safe_text='Brain Cancer Patients Sought for Clinic Trial of Vaccine <url> via <url>', label=0.0, agreement=1.0),\n",
       " Pandas(Index=618, tweet_id='AZM9EKG5', safe_text=\"<user> <user> I just hope <user> doesn't miss games when his kid gets the measles\", label=0.0, agreement=0.6666666666666666),\n",
       " Pandas(Index=619, tweet_id='UVFPGZZT', safe_text='<user> <user> And why measles is making a comeback...', label=0.0, agreement=0.6666666666666666),\n",
       " Pandas(Index=620, tweet_id='VAWPDNJH', safe_text='Vaccines are poison.', label=-1.0, agreement=1.0),\n",
       " Pandas(Index=621, tweet_id='RQ5EBQ8S', safe_text='Dear Parents, no questions asked. Please get your kids vaccinated. #MeaslesOutbreak <url>', label=1.0, agreement=0.6666666666666666),\n",
       " Pandas(Index=622, tweet_id='MFDKJP84', safe_text='Republics turn everything partisan: Science, vaccines, Ebola, math (set theory). GOP a threat to modern society. #notajoke', label=0.0, agreement=1.0),\n",
       " Pandas(Index=623, tweet_id='I4LD9NS8', safe_text=\"<user> <user> what's difference so you can NOT vaccinate kids4religious reasons yet,they cannot  use religion4cake ?they will close:(\", label=1.0, agreement=1.0),\n",
       " Pandas(Index=624, tweet_id='QS5WM750', safe_text='Just got proof of my MMR shots! Yay! (@ Herando county school board office) [pic]: <url>', label=1.0, agreement=1.0),\n",
       " Pandas(Index=625, tweet_id='T4QSIF3J', safe_text='<user> Not getting vaccinated and ignoring traffic laws - both endanger the lives and health of others. We only debate one. Why?', label=1.0, agreement=1.0),\n",
       " Pandas(Index=626, tweet_id='C6HL40MM', safe_text='I shop here <user> Felton New Leaf employee confirmed to have measles; health officials urge precautions <url> #wtf', label=0.0, agreement=1.0),\n",
       " Pandas(Index=627, tweet_id='EZB0JJ6Y', safe_text='Measles Patients Identified As Framingham, Spencer Residents: FRAMINGHAM (CBS) – A restaurant and a corporation... <url>', label=0.0, agreement=1.0),\n",
       " Pandas(Index=628, tweet_id='A056OUXD', safe_text=\"We'll be on <user> #UpToTheMinute tonight talking flu shots, vaccines, and germ prevention for babies and pregnant moms\", label=1.0, agreement=1.0),\n",
       " Pandas(Index=629, tweet_id='8FJLUA0X', safe_text='<user> do you hate everyone because you were vaccinated as a kid?', label=-1.0, agreement=0.6666666666666666),\n",
       " Pandas(Index=630, tweet_id='2NO81KG5', safe_text='Anti-vaccine parents are similar to those religious crazies who choose to pray over a sick child instead of taking them to a hospital.', label=1.0, agreement=1.0),\n",
       " Pandas(Index=631, tweet_id='EM3TVQJS', safe_text='“<user> 5 measles cases at Palatine KinderCare <url> #chicago <url> lovely.', label=0.0, agreement=0.6666666666666666),\n",
       " Pandas(Index=632, tweet_id='7UV3URON', safe_text='<user> favorite mmr calendar girl..', label=0.0, agreement=1.0),\n",
       " Pandas(Index=633, tweet_id='DQ861G58', safe_text='Question: would there be *any* downsides to massive taxes on non-medical vaccine exemptions?', label=0.0, agreement=0.6666666666666666),\n",
       " Pandas(Index=634, tweet_id='OJKS1C3G', safe_text='US measles outbreak casts spotlight on anti-vaccine movement <url>', label=1.0, agreement=0.6666666666666666),\n",
       " Pandas(Index=635, tweet_id='IU7MOM0D', safe_text='Free back-to-school immunizations offered around South Florida -WPTV <url> #Sunrise #FL', label=1.0, agreement=0.6666666666666666),\n",
       " Pandas(Index=636, tweet_id='ZJ7OX2WI', safe_text='Vaccinated student. MMR. Photo credit: Shannon\\n#USDHealthComm @ University of San Diego <url>', label=1.0, agreement=1.0),\n",
       " Pandas(Index=637, tweet_id='HUULAPWP', safe_text=\"Apparently MMR doesn't like my twitter but not too bad considering #hungover #starvinglikemarvin <url>\", label=0.0, agreement=1.0),\n",
       " Pandas(Index=638, tweet_id='GTK7OX46', safe_text='measles is crackin off at disneyland', label=0.0, agreement=1.0),\n",
       " Pandas(Index=639, tweet_id='KTTZEY3F', safe_text='<user> <user> yeah, I already upload to GC, TP &amp; MMR. DM is just another hassle.', label=0.0, agreement=1.0),\n",
       " Pandas(Index=640, tweet_id='JYIMVB6Y', safe_text='“<user> On average, people who complain live longer -- Releasing this tension increases immunity and boosts their health.” <user> 😜😁', label=0.0, agreement=1.0),\n",
       " Pandas(Index=641, tweet_id='H38XPCH2', safe_text=\"At school getting shit done! It's gonna be a great week! Oh, and did I mention pep rally Friday &amp; game day is Saturday? #Excited #MMR #UTEP\", label=0.0, agreement=1.0),\n",
       " Pandas(Index=642, tweet_id='50DH1ELM', safe_text='After the news of a #BART passenger possibly spreading Measles, riding public transit feels like an episode of The Walking Dead.', label=1.0, agreement=0.6666666666666666),\n",
       " Pandas(Index=643, tweet_id='JAA3PQNE', safe_text='100+ HPV types,vaccine protects against a few that can lead to cancer. RT<user> HPV vaccines are recommended for children 11-12.\"', label=1.0, agreement=1.0),\n",
       " Pandas(Index=644, tweet_id='Q328SJOJ', safe_text='<user> Chicago should have been the only city they built on a swamp. And your airport has a measles infection!', label=0.0, agreement=1.0),\n",
       " Pandas(Index=645, tweet_id='6DOA90F4', safe_text='<user> he been had a fever since Monday..den it went away &amp; came bck today..poor baby got measles..', label=0.0, agreement=1.0),\n",
       " Pandas(Index=646, tweet_id='9YSRNFA6', safe_text='<user> do you have a science and/or medical degree? Stop spreading lies about vaccines.  Your (stupid choice) but plz keep private.', label=1.0, agreement=1.0),\n",
       " Pandas(Index=647, tweet_id='WVD2DK67', safe_text=\"<user> I'm not hostile. But not vaccinating put friends and their families at risk of sickness and death. So I also won't be silent.\", label=1.0, agreement=1.0),\n",
       " Pandas(Index=648, tweet_id='2JL3CJAJ', safe_text='Health Officials: Flu Vaccine Less Effective But Recommended <url>', label=1.0, agreement=1.0),\n",
       " Pandas(Index=649, tweet_id='JWT86LB2', safe_text='Well the measles are in Georgia and I never had the shot, bc allergic :-)', label=0.0, agreement=0.6666666666666666),\n",
       " Pandas(Index=650, tweet_id='UNSDCDH8', safe_text='Seems like its getting easier \"CMS Seeks to Expand Access to #Flu Vaccine\" MedPage Today <url> #health #hcsm #RNchat', label=1.0, agreement=0.6666666666666666),\n",
       " Pandas(Index=651, tweet_id='PQDGNG94', safe_text='“<user> Help me make <user> spend their money to vaccinate kids around the world for #Blogust - RT this!”', label=1.0, agreement=1.0),\n",
       " Pandas(Index=652, tweet_id='UGQUIRD3', safe_text='Many California Child Care Centers Have Low Measles Vaccination Rates <url>', label=0.0, agreement=1.0),\n",
       " Pandas(Index=653, tweet_id='T72QZIG4', safe_text='<user> <user> do I get an MMR show this summer???', label=0.0, agreement=0.6666666666666666),\n",
       " Pandas(Index=654, tweet_id='URKVQ5RF', safe_text=\"<user> It's like asking would you rather have the chickenpox or the measles\", label=0.0, agreement=1.0),\n",
       " Pandas(Index=655, tweet_id='KA4M1PUT', safe_text='Who takes unvaccinated kids to crowded theme parks and why this debate in the first place #VaccinateYourKids #CommonSense #SmartParents', label=1.0, agreement=1.0),\n",
       " Pandas(Index=656, tweet_id='0UZ6GT8I', safe_text='<user> that is hardly evidence that vaccine is harmful. As to the other comment, Vaccines do not require live virus.', label=1.0, agreement=0.6666666666666666),\n",
       " Pandas(Index=657, tweet_id='FEWC8OJT', safe_text='BREAKING NEWS: Fifth measles case confirmed in Clark County: A fifth measles case has been confirmed in Clark… <url>', label=0.0, agreement=1.0),\n",
       " Pandas(Index=658, tweet_id='N2F0ONBY', safe_text='U.S. Measles Cases Hit 20-Year High <url>', label=0.0, agreement=0.6666666666666666),\n",
       " Pandas(Index=659, tweet_id='UZA89HUW', safe_text='I am going to SCREAM~~STUPIDFox News: Ebola is entering the U.S. via Muslim terror babies and Obama spent vaccine research $$$ on golf...', label=0.0, agreement=0.6666666666666666),\n",
       " Pandas(Index=660, tweet_id='FJSFHECT', safe_text='Frisco ISD to Offer Back-to-School Immunizations <url>', label=1.0, agreement=0.6666666666666666),\n",
       " Pandas(Index=661, tweet_id='BS0YD04R', safe_text=\"“<user> BIG NEWS EVERYONE: I'm leaving The View to spend more time getting kids measles.”\", label=0.0, agreement=0.6666666666666666),\n",
       " Pandas(Index=662, tweet_id='I5IN61JX', safe_text='Another study proves no link between autism and vaccines: Having a child diagnosed with autism can be devastating... <url>', label=1.0, agreement=1.0),\n",
       " Pandas(Index=663, tweet_id='5IVT6GLB', safe_text='Vaccinations for upcoming trip to #China (@ Student Health Center) <url>', label=1.0, agreement=0.6666666666666666),\n",
       " Pandas(Index=664, tweet_id='3N8L2YY4', safe_text=\"Baby's doctor appointment tomorrow😞\\nHis gonna get his 4 month vaccine💉😭\", label=1.0, agreement=1.0),\n",
       " Pandas(Index=665, tweet_id='QWS71EVI', safe_text='Here we have a nice bit of information about Measles and Vaccinations <url>', label=1.0, agreement=0.6666666666666666),\n",
       " Pandas(Index=666, tweet_id='VREYIZOH', safe_text='Roughly proportional to population  RT <user> Where parents in Texas seeking to exempt their kids from vaccinations. <url>', label=0.0, agreement=1.0),\n",
       " Pandas(Index=667, tweet_id='U2CE8Y3O', safe_text='How many kids have to get measles before Jenny Mccarthy gets locked up ?', label=1.0, agreement=1.0),\n",
       " Pandas(Index=668, tweet_id='AUDAGQU0', safe_text='Three-kid vaccine \"catch-up\" appt. Yay! (<user> I\\'m oversharenting)', label=1.0, agreement=1.0),\n",
       " Pandas(Index=669, tweet_id='4P9064YH', safe_text=\"<user> <user> GD liberal Obama vaccine media school institution because 'Merica. CONSPIRACY!\", label=1.0, agreement=0.6666666666666666),\n",
       " Pandas(Index=670, tweet_id='JEO5K6DY', safe_text=\"<user> question, is the MMR Training app obsolete? It's now the mapmyrun upgrade to mvp? Will the coaching help w/couch to half marathon?\", label=0.0, agreement=1.0),\n",
       " Pandas(Index=671, tweet_id='SD1W8P09', safe_text='<user> <user> has anyone connected measles with an ongoing flood at our southern border? #cluelessPOTUS', label=0.0, agreement=1.0),\n",
       " Pandas(Index=672, tweet_id='U1KBDTPS', safe_text='To the parent of an unvaccinated child who exposed my at-risk kids to measles <url> via <user>', label=1.0, agreement=0.6666666666666666),\n",
       " Pandas(Index=673, tweet_id='T6TPLAWW', safe_text=\"<user> there are injections I encourage people to take. Just don't like the Mercury in them!! If removed, I'd take the flu shot.\", label=0.0, agreement=0.6666666666666666),\n",
       " Pandas(Index=674, tweet_id='3UYKCXYX', safe_text=\"Everyone get the measles vaccine so this doesn't have to be a story anymore, mmm'kay?\", label=1.0, agreement=1.0),\n",
       " Pandas(Index=675, tweet_id='UP20P359', safe_text=\"There is a vaccine for almost everything… Is there one for Barack Obama?  If you tell me it's Obamacare; that's a poison.\", label=0.0, agreement=1.0),\n",
       " Pandas(Index=676, tweet_id='HDKR9U3N', safe_text='Now just 4 countries where #polio transmission has never been stopped: #India, #Nigeria, #Pakistan & #Afghanistan. #Disease #vaccines', label=1.0, agreement=0.6666666666666666),\n",
       " Pandas(Index=677, tweet_id='D45D5ZPX', safe_text=\"It wasn't until Ebola exploded that vaccines escaped the limbo they were trapped in. Now other diseases lurk <url>\", label=0.0, agreement=0.6666666666666666),\n",
       " Pandas(Index=678, tweet_id='4SEQ6P80', safe_text='Study: Vaccination against measles may have other benefits: New research suggests the measles shot comes with a… <url>', label=1.0, agreement=0.6666666666666666),\n",
       " Pandas(Index=679, tweet_id='RNLJMS48', safe_text='Sick since a young age, u can call it measles', label=0.0, agreement=1.0),\n",
       " Pandas(Index=680, tweet_id='5Y2YJJ6H', safe_text='<url>\\nMeasles outbreak traced to Disneyland continues to grow..', label=0.0, agreement=1.0),\n",
       " Pandas(Index=681, tweet_id='ROSH009X', safe_text=\"Can someone explain the theory against immunization?  I really don't understand.\", label=1.0, agreement=0.6666666666666666),\n",
       " Pandas(Index=682, tweet_id='6ME31D4L', safe_text='#MiaBellaPediatrics &amp; Dr. Stahl on <user> show sunday talking about #measles outbreak w/ <user>  <url>', label=0.0, agreement=0.6666666666666666),\n",
       " Pandas(Index=683, tweet_id='FZ0ZYLVD', safe_text='<user> I see it a lot in fear of science. Medicinal at least. Extreme leftists & Christians are both anti-vaccine, for example.', label=1.0, agreement=1.0),\n",
       " Pandas(Index=684, tweet_id='HSWPR0XE', safe_text='Measles Killing Kids Is The New Freedom: <url>', label=0.0, agreement=0.6666666666666666),\n",
       " Pandas(Index=685, tweet_id='ELHEUPE1', safe_text=\"It's my immunity, and I want it now! 😂 Huck #Scandal\", label=0.0, agreement=0.6666666666666666),\n",
       " Pandas(Index=686, tweet_id='IB9AF4B7', safe_text='\"<user> 4 measles cases linked to restaurant at MGM Grand Hotel &amp; Casino in Las Vegas, health officials say. <url>', label=0.0, agreement=1.0),\n",
       " Pandas(Index=687, tweet_id='WNTKNMQP', safe_text='Arizona Cardiologist Responds to Critics Regarding Measles and Vaccines <url> via <user>', label=0.0, agreement=0.6666666666666666),\n",
       " Pandas(Index=688, tweet_id='JPK0ULWO', safe_text='<user> total supporter of vaccines, for both my kids and I!!', label=1.0, agreement=1.0),\n",
       " Pandas(Index=689, tweet_id='K28VLRSJ', safe_text='I get the hearts and all for valentines but it makes hello kitty look like she has measles. <url>', label=0.0, agreement=1.0),\n",
       " Pandas(Index=690, tweet_id='PTIQSMP5', safe_text='<user> <user> when queuing for arenas, does the system take your RBG rating into account to calculate MMR?', label=0.0, agreement=1.0),\n",
       " Pandas(Index=691, tweet_id='FNY3X0VB', safe_text=\"There's a measles outbreak in #nyc?? Do we need to get re-vaccinated? Serious question. Anyone know?\", label=1.0, agreement=0.6666666666666666),\n",
       " Pandas(Index=692, tweet_id='PA0JYLDV', safe_text='My baby is getting 4 vaccines tomorrow 😣💔', label=1.0, agreement=0.6666666666666666),\n",
       " Pandas(Index=693, tweet_id='3SY97LR5', safe_text='<user> Plz RT! #CDCwhistleblower admits MMR causes 340% inc in #autism in boys. 2x that 4 black boys <url>', label=-1.0, agreement=1.0),\n",
       " Pandas(Index=694, tweet_id='0ZAC5GP6', safe_text='INTERACTIVE MAP: Number of Marin Kids Without Immunizations on the Decline <url>', label=0.0, agreement=1.0),\n",
       " Pandas(Index=695, tweet_id='MDAQWW3A', safe_text='Life 5 builds and restores core intestinal health to enhance intestinal health, sustain energy and improve immunity. <url>', label=0.0, agreement=1.0),\n",
       " Pandas(Index=696, tweet_id='ZR8M04KB', safe_text='<user> I hope ur vaccinated 4 measles if you’re going to Orlando!', label=1.0, agreement=1.0),\n",
       " Pandas(Index=697, tweet_id='SI0EQ8CB', safe_text='😭😭😭 “<user> No , just the ones who might get sick RT <user> Do YALL believe all kids should be vaccinated?”', label=1.0, agreement=0.6666666666666666),\n",
       " Pandas(Index=698, tweet_id='I6Z9PX1U', safe_text='Extra #cayenne please🔥 #greenjuice #greens #immunity #health #selfcare #coach #nutrition… <url>', label=0.0, agreement=1.0),\n",
       " Pandas(Index=699, tweet_id='U8KYFLKI', safe_text='<user>\\n102 confirmed measles cases in the United States? Is that just NHL players or other people?', label=0.0, agreement=1.0),\n",
       " Pandas(Index=700, tweet_id='AGA9S3WV', safe_text='AIDS N : HIV, AIDS Cure &amp; Treatment: New Findings on Vaccine Response Out : Latinos Health News ... <url>', label=0.0, agreement=1.0),\n",
       " Pandas(Index=701, tweet_id='KI6MEOWE', safe_text='U.S. #Measles Caseload Hits a 15-Year High - Time <url>', label=0.0, agreement=1.0),\n",
       " Pandas(Index=702, tweet_id='0W5FT3J3', safe_text=\"You say your pockets got the mumps...it's more like the measles lmao\", label=0.0, agreement=1.0),\n",
       " Pandas(Index=703, tweet_id='96WFA4FX', safe_text='Pls RT <user> Vaccine scares have real costs says <user> <url> <url>', label=1.0, agreement=0.6666666666666666),\n",
       " Pandas(Index=704, tweet_id='FOXJB8QY', safe_text='Spirit of Pisgah 2014 #teamdundee #gravel #mmr @ Loess Hills State Forest <url>', label=0.0, agreement=1.0),\n",
       " Pandas(Index=705, tweet_id='O41J71NR', safe_text=\"<user> <user> we all had to go through measles as children, regular and german, don't do it, live clean\", label=-1.0, agreement=0.3333333333333333),\n",
       " Pandas(Index=706, tweet_id='M1FJ55XV', safe_text=\"<user> She's the baby-killing bitch who led the anti-vaccination movement, based on a study that fraudulently linked vaccines to autism.\", label=1.0, agreement=1.0),\n",
       " Pandas(Index=707, tweet_id='XFH9UUKB', safe_text=\"California's vaccine bill: State Assembly passes legislation outlawing personal belief and religious exemptions: A… <url>\", label=0.0, agreement=0.6666666666666666),\n",
       " Pandas(Index=708, tweet_id='FDJ4PLKR', safe_text='Vaccine Study Supports Immune Targeting of Brain Tumors <url>', label=1.0, agreement=1.0),\n",
       " Pandas(Index=709, tweet_id='G29DBDTB', safe_text='Measles tent at Kaiser <url> Check your immunizations!', label=1.0, agreement=1.0),\n",
       " Pandas(Index=710, tweet_id='PPPCJ9DK', safe_text='A baby was born on the J train this morning. Can we safely assume that it has immunity to all diseases that affect humans and rats?', label=-1.0, agreement=0.3333333333333333),\n",
       " Pandas(Index=711, tweet_id='US8EWQ9O', safe_text='Nice try, why seek balance?  RT <user> Christie just now: \"there is no question kids should be vaccinated\" <url>', label=0.0, agreement=0.6666666666666666),\n",
       " Pandas(Index=712, tweet_id='9WJ3BL2E', safe_text=\"<user> as a new father I've recently found out many pediatricians are starting to turn away non vaccinated kids to protect ones like mine\", label=1.0, agreement=1.0),\n",
       " Pandas(Index=713, tweet_id='W9V2SRS0', safe_text='2nite #DntMissTheShake #ClubSho #MovieTime #MMR \\n🔥🔥🔥🔥💥💥💥💥 @ Club Sho 2nite <url>', label=0.0, agreement=1.0),\n",
       " Pandas(Index=714, tweet_id='CX7EX2BU', safe_text='MMR tonight! You all should come. Caldera on Stark and 61st. At midnight we ride.', label=0.0, agreement=1.0),\n",
       " Pandas(Index=715, tweet_id='12RZWPIH', safe_text='No no no no “<user> Second measles case confirmed in D.C. <url>', label=0.0, agreement=0.6666666666666666),\n",
       " Pandas(Index=716, tweet_id='64JNSMFA', safe_text='\" #PTI #ImranKhan <user> \\n#MissionImranKhanWaziristan Peace March!!\"\\nend to drone killings. Yes to Polio vaccination.', label=1.0, agreement=0.6666666666666666),\n",
       " Pandas(Index=717, tweet_id='QJHINNIR', safe_text='Parents in some states have the right not to vaccinate their children Putting us in danger bullshit, Vaccinate those dirty little bastards', label=1.0, agreement=1.0),\n",
       " Pandas(Index=718, tweet_id='36DFUB65', safe_text='Thanks <user> for Leadership Guide for #SchoolNurses advocating for vaccines in schools <url> <user>', label=1.0, agreement=1.0),\n",
       " Pandas(Index=719, tweet_id='AY9GW4N0', safe_text=\"No immunizations? More paperwork for parents: Colorado parents who don't want their children to be immunized will… <url>\", label=1.0, agreement=0.6666666666666666),\n",
       " Pandas(Index=720, tweet_id='07S3NL2T', safe_text='Baby Luna is sore from her vaccines :( #poorpuppy', label=0.0, agreement=0.6666666666666666),\n",
       " Pandas(Index=721, tweet_id='UG7XYAEL', safe_text='Hanta, chickenpox, measles oh my! (@ CDPH Viral and Rickettsial Disease Laboratory) <url>', label=0.0, agreement=1.0),\n",
       " Pandas(Index=722, tweet_id='J01LGQKP', safe_text='There\\'s a virus that is called ANA and when parents bring their kids to the clinic to get the vaccination they say “we\\'re here for ANA\"', label=0.0, agreement=0.6666666666666666),\n",
       " Pandas(Index=723, tweet_id='E3974FJ3', safe_text='AM-News : BCG-TB Vaccination May Be Delayed for HIV-Exposed Infants: \"The immunogenicity of BCG vaccination in... <url>', label=0.0, agreement=1.0),\n",
       " Pandas(Index=724, tweet_id='YXXHGHS0', safe_text='<user> one at a time to keep from overwhelming the immune system.  MMR, DPT, POLIO, HEPATITIS all at once is overwhelming.', label=-1.0, agreement=0.3333333333333333),\n",
       " Pandas(Index=725, tweet_id='BM4LMC26', safe_text=\"<user> He didn't have the measles\", label=0.0, agreement=1.0),\n",
       " Pandas(Index=726, tweet_id='VKI4FI2J', safe_text='3rd world measles vax rates much higher than in US.  must love their children more. #gop #tcot', label=0.0, agreement=0.6666666666666666),\n",
       " Pandas(Index=727, tweet_id='OS29ZTK1', safe_text=\"Rinderpest, cattle disease, similar 2 measles has been declared by the UN 2 B eradicated from earth. Last wild case was in Kenya buffalo '01\", label=0.0, agreement=1.0),\n",
       " Pandas(Index=728, tweet_id='IHIN6JGW', safe_text='21 states trying to make #vaccine exemptions more difficult to get: <url>  <user> <user> #publichealth', label=0.0, agreement=0.6666666666666666),\n",
       " Pandas(Index=729, tweet_id='UY5U325U', safe_text='on bart, if I catch measles I am sueing.', label=0.0, agreement=1.0),\n",
       " Pandas(Index=730, tweet_id='5GUC03DR', safe_text=\"Many parents cite lack of insurance as reason kids don't have vaccines. Keep kids healthy #ExtendCHIP\", label=1.0, agreement=0.6666666666666666),\n",
       " Pandas(Index=731, tweet_id='JTNN2ZUM', safe_text='Clearly anyone who overlooks the privilege to play at UGA was not vaccinated as a kid. Auburn has enough measles dammit', label=1.0, agreement=1.0),\n",
       " Pandas(Index=732, tweet_id='LAIML62C', safe_text='Shocked when I walked into <user> practice &amp; asked if I had been to #WestAfrica. They are worried about #Ebola &amp; not #measles.', label=0.0, agreement=0.6666666666666666),\n",
       " Pandas(Index=733, tweet_id='9A0XGHD8', safe_text='Students at local high school get sick with whooping cough despite vaccinations, administrators say: An area high… <url>', label=0.0, agreement=0.6666666666666666),\n",
       " Pandas(Index=734, tweet_id='QRD0DYH6', safe_text='“<user> CDC scientist William Thompson says we hid the truth of MMR/Autism link. #CDCwhistleblower \" BS <url>', label=-1.0, agreement=0.6666666666666666),\n",
       " Pandas(Index=735, tweet_id='E9000VP7', safe_text='<user> <user> please tell christin cav that her and others personal choice to not vaccinate is causing a measles and polio outbreak!', label=1.0, agreement=0.6666666666666666),\n",
       " Pandas(Index=736, tweet_id='FLBF5HYD', safe_text='Please vaccinate your children.', label=1.0, agreement=1.0),\n",
       " Pandas(Index=737, tweet_id='CWP9TUSX', safe_text='#Vaccines Are Not Safe:Can Cause #Autism (Neuro Surgeon) Dr. Russell Blaylock.: <url>', label=-1.0, agreement=1.0),\n",
       " Pandas(Index=738, tweet_id='J72UM73Q', safe_text='AJR95 [Enroll] Designates August of each year as \"Adult Vaccine Preventable Disease Awareness and Improvement Mon... <url>', label=1.0, agreement=0.6666666666666666),\n",
       " Pandas(Index=739, tweet_id='LL2DV6HD', safe_text=\"<user> It's never to late to develop a vaccine. Babies are not going to stop being born.\", label=1.0, agreement=1.0),\n",
       " Pandas(Index=740, tweet_id='LRJP3MI0', safe_text='<user> <user> maybe but pretty sure measles vax does not scar FYI my ph.d. is not in medicine, biology or public health #IamNotanExpert', label=1.0, agreement=1.0),\n",
       " Pandas(Index=741, tweet_id='K6UATEDU', safe_text=\"Tell Pres. Obama: Help save 6 million kids' lives by supporting <user> the Vaccine Alliance. Sign the petition:  <url>\", label=1.0, agreement=1.0),\n",
       " Pandas(Index=742, tweet_id='17D6V4J7', safe_text='<user> yes &amp; we will Never give up on #Justice4RKids who were #VaccineInjured #CDCwhistleblower #truth will prevail #UnitedWeStand', label=-1.0, agreement=0.6666666666666666),\n",
       " Pandas(Index=743, tweet_id='CZ4RUXE9', safe_text=\"We have the power to prevent disease. But we're not using it. Learn about vaccines. <url>\", label=1.0, agreement=1.0),\n",
       " Pandas(Index=744, tweet_id='EW6760R8', safe_text='#ChildAbuse, <user> RT <user> ▶ 7.1 Percent Of Marin County Families Have Refused To Give Their Children Vaccines: <url>', label=0.0, agreement=0.6666666666666666),\n",
       " Pandas(Index=745, tweet_id='PJRI2VQ3', safe_text=\"<user> <user> I have approved an FDA-safe lead based vaccine. It's not that bad! The birth defects I mean.\", label=-1.0, agreement=0.6666666666666666),\n",
       " Pandas(Index=746, tweet_id='20FC9DJG', safe_text='<user> <user> more harm than good I think they deliberately put the wrong stuff in the vaccine 😢😱', label=-1.0, agreement=1.0),\n",
       " Pandas(Index=747, tweet_id='PG3MFOH7', safe_text='Free or Low-Cost Whooping Cough Vaccines Offered By Health Department: Add one more thing to your to-do list for... <url>', label=1.0, agreement=0.6666666666666666),\n",
       " Pandas(Index=748, tweet_id='3ZYZ2KRH', safe_text=\"Omg I'm so MF heated. My school is ridiculous won't let me register cause I don't have some immunization. What the F.\", label=0.0, agreement=0.6666666666666666),\n",
       " Pandas(Index=749, tweet_id='3DX4HUOZ', safe_text='Last round of vaccines for my double-trouble babies (@ Quality Care Animal Hospital) <url> <url>', label=1.0, agreement=1.0),\n",
       " Pandas(Index=750, tweet_id='C95EBZJU', safe_text='M.E.: Waukesha girl did not die of HPV vaccine: The August death of a 12-year-old girl is ruled to be unrelated to… <url>', label=0.0, agreement=0.6666666666666666),\n",
       " Pandas(Index=751, tweet_id='EV8XXAAB', safe_text='Ugh RT <user> Measles confirmed in D.C. <url>', label=0.0, agreement=1.0),\n",
       " Pandas(Index=752, tweet_id='5QVP0CBQ', safe_text='2 mos vaccines = sleepy, snuggly baby. Perfect for outlining grant proposals. #MaternityLeaveScience', label=1.0, agreement=0.6666666666666666),\n",
       " Pandas(Index=753, tweet_id='SAKM4PXD', safe_text='It’s back-to-school time. Which vaccines should your child get?: Concerns about vaccinations are common. But… <url>', label=1.0, agreement=1.0),\n",
       " Pandas(Index=754, tweet_id='FONP3LYS', safe_text='KOL. = Hazardous to your health??? RT <user> Kings of Leon Concert Attendees Warned of Measles Exposure <url>', label=0.0, agreement=0.6666666666666666),\n",
       " Pandas(Index=755, tweet_id='TTIH3IS4', safe_text='Polio, measles, smallpox vaccines yes. Flu vaccines no.', label=1.0, agreement=0.6666666666666666),\n",
       " Pandas(Index=756, tweet_id='20M3ME93', safe_text=\"Austin can't be indicted in the case until counter suit is heard. State says immunity was revoked, because he wasn't truthful #HollyBobo\", label=0.0, agreement=0.6666666666666666),\n",
       " Pandas(Index=757, tweet_id='1UK0SGN2', safe_text=\"When will people learn that vaccines don't cause autism? Because that study was done 10 yrs ago and proven wrong 2 yrs later\", label=1.0, agreement=1.0),\n",
       " Pandas(Index=758, tweet_id='POFENRLP', safe_text='Listening to <user> \"Is it your inalienable right to catch and transmit deadly diseases?\" Answer is NO. #vaccineswork #AAP12', label=1.0, agreement=1.0),\n",
       " Pandas(Index=759, tweet_id='ZR7SPJ3F', safe_text=\"Dumb parents who don't get their kids vaccinated piss me off <url>\", label=1.0, agreement=1.0),\n",
       " Pandas(Index=760, tweet_id='SWVG5N1L', safe_text='MRC - Fayette Co. Health Dept. Rabies Vaccination Clinic. (@ Fire Station #1: The Big House/ Headquarters) <url>', label=0.0, agreement=1.0),\n",
       " Pandas(Index=761, tweet_id='UGNQLFJX', safe_text='<user> On average, people who complain live longer -- Releasing this tension increases immunity and boosts their health. <user>', label=0.0, agreement=1.0),\n",
       " Pandas(Index=762, tweet_id='F40SYM3P', safe_text='Robert Kennedy Jr. Compares Vaccine Debate To Holocaust As CALawmakers Look At Banning Exemptions « CBS San Francisco <url>', label=0.0, agreement=0.6666666666666666),\n",
       " Pandas(Index=763, tweet_id='P656E41N', safe_text=\"If you don't vaccinate your kids, you're an idiot and I judge you so hard.\", label=1.0, agreement=1.0),\n",
       " Pandas(Index=764, tweet_id='4F3XQO7P', safe_text='Scary stupid. <user> Chris Christie has come out in support of parents who choose not to vaccinate their kids: <url>', label=-1.0, agreement=0.3333333333333333),\n",
       " Pandas(Index=765, tweet_id='YY53D8IW', safe_text=\"Sht. I need vaccinations/immunization/or whatever they call it. I can't go to school 'til I get my shots. Huehue, wag nlng mag-aral!!! 😒\", label=1.0, agreement=1.0),\n",
       " Pandas(Index=766, tweet_id='KVSZU2A0', safe_text='<user> <user> <user> <user> the vaccines are spreading the diseases! <url>', label=-1.0, agreement=0.6666666666666666),\n",
       " Pandas(Index=767, tweet_id='86RSYKDR', safe_text='Health Officials Promote Flu Shots: Health officials are continuing to stress the importance of getting vaccinated... <url>', label=1.0, agreement=0.6666666666666666),\n",
       " Pandas(Index=768, tweet_id='7R66AA1M', safe_text='Use this map to know where NOT to go for vacation. Via <user> More states let parents refuse to vaccinate kids <url>', label=1.0, agreement=1.0),\n",
       " Pandas(Index=769, tweet_id='OKCTCEPI', safe_text=\"<user> New York law requires  proof of MMR immunization upon enrollment. So how'd that happen?\", label=-1.0, agreement=0.6666666666666666),\n",
       " Pandas(Index=770, tweet_id='DH8PVIEC', safe_text='HAHAHAHA “<user> Chris Christie: Parents should have \"some measure of choice\" on vaccinating their children <url>', label=1.0, agreement=0.6666666666666666),\n",
       " Pandas(Index=771, tweet_id='9TY6IT99', safe_text='<user> vaccine truth: <url>', label=-1.0, agreement=0.3333333333333333),\n",
       " Pandas(Index=772, tweet_id='EHYZRDE9', safe_text=\"PEOPLE WHO DON'T VACCINATE YOUR KIDS\", label=1.0, agreement=0.6666666666666666),\n",
       " Pandas(Index=773, tweet_id='CN74HCG5', safe_text='<url>\\nOhio Measles outbreak adds to 18 year high.', label=0.0, agreement=1.0),\n",
       " Pandas(Index=774, tweet_id='V7ND06ZG', safe_text=\"<user> <user> <user> We can't even defend our own citizens against whooping cough &amp; measles anymore. Thanks <user>\", label=1.0, agreement=1.0),\n",
       " Pandas(Index=775, tweet_id='14F0MGTT', safe_text='<user> #AfricanAmerican boys willfully exposed to high risk of #autism from #vaccine\\n<url>\\n   #CDCwhistleblower', label=-1.0, agreement=0.6666666666666666),\n",
       " Pandas(Index=776, tweet_id='YZ6K0BGY', safe_text='2mar $2 Tuesday w. tyratonique Host: #Mmr &amp; #PopularNobodies Music: <user> Im in there So Meet Us… <url>', label=0.0, agreement=1.0),\n",
       " Pandas(Index=777, tweet_id='X2IO8IU7', safe_text=\"By next school year all students in Illinois have to have a whopping cough shot vaccine that didn't even exist a year ago?! I hate shots. :(\", label=-1.0, agreement=0.3333333333333333),\n",
       " Pandas(Index=778, tweet_id='459RL2NS', safe_text='What vaccination exemptions does your state allow?: All 50 states have laws requiring certain vaccines for… <url>', label=1.0, agreement=0.6666666666666666),\n",
       " Pandas(Index=779, tweet_id='PJ8ULPJ9', safe_text='Debate over vaccinations explodes in light of measles outbreaks <url>', label=0.0, agreement=1.0),\n",
       " Pandas(Index=780, tweet_id='QNISDOHH', safe_text=\"<user> that's s4 mmr I cry every time\", label=0.0, agreement=1.0),\n",
       " Pandas(Index=781, tweet_id='LO43D5PQ', safe_text='MMR', label=0.0, agreement=1.0),\n",
       " Pandas(Index=782, tweet_id='TDSHK4J4', safe_text='With measles on the rise, physicians urge vaccination <url>', label=1.0, agreement=0.6666666666666666),\n",
       " Pandas(Index=783, tweet_id='OYQDMUUN', safe_text='Vaccinate your children. Jesus!!!!', label=1.0, agreement=1.0),\n",
       " Pandas(Index=784, tweet_id='ZYKAGZJI', safe_text='The zenith of #BS --&gt;&gt; CDC Says Ebola Vaccine Only Works on White People  <url> <url>', label=0.0, agreement=0.6666666666666666),\n",
       " Pandas(Index=785, tweet_id='D9K58FB2', safe_text=\"I'm getting really fucking tired of hearing about the measles from other people.\", label=0.0, agreement=0.6666666666666666),\n",
       " Pandas(Index=786, tweet_id='MTP4MWW6', safe_text='<user> I always thought it was measles, mumps, and rubella.', label=0.0, agreement=1.0),\n",
       " Pandas(Index=787, tweet_id='Y7LWZ6KF', safe_text='<user> <user> that is totally irresponsible: if you love children and people, get them vaccinated. #savelives', label=1.0, agreement=1.0),\n",
       " Pandas(Index=788, tweet_id='C1JJO6OA', safe_text='“<user> Reminder: There are vaccines for diseases much more contagious than Ebola. <url> <url>', label=1.0, agreement=0.6666666666666666),\n",
       " Pandas(Index=789, tweet_id='VTJ7SNQ1', safe_text='#Measles outbreak growing; at least 102 people in 14 states infected: <url> - <user> <url>', label=0.0, agreement=0.6666666666666666),\n",
       " Pandas(Index=790, tweet_id='ZFYH4INN', safe_text='Wow gotta get vaccines at the doctors after school today smh', label=0.0, agreement=0.6666666666666666),\n",
       " Pandas(Index=791, tweet_id='8924LTHJ', safe_text='That is true.  Folks my age had all the diseases.  Measles, mumps and the chicken pox.  Rarely get it today. #vaccines', label=1.0, agreement=0.6666666666666666),\n",
       " Pandas(Index=792, tweet_id='U6GW2KS4', safe_text='So why does everyone have the measles all of a sudden', label=0.0, agreement=0.6666666666666666),\n",
       " Pandas(Index=793, tweet_id='OK4ZZYHY', safe_text='5 ways to boost immunity naturally: With the number of flu cases spreading across the country, a health and fitness... <url>', label=0.0, agreement=1.0),\n",
       " Pandas(Index=794, tweet_id='DH1H8BTZ', safe_text=\"“<user> Should the measles vaccine be mandatory? <url> Absolutely! I shouldn't suffer for someones bad decisions.\", label=1.0, agreement=1.0),\n",
       " Pandas(Index=795, tweet_id='EI10PS46', safe_text=\"<user>  your ignorance on vaccines isn't just dangerous to your innocent child but to others around you. Shame on you.\", label=1.0, agreement=0.6666666666666666),\n",
       " Pandas(Index=796, tweet_id='STF9149D', safe_text='Oops missed “<user> CDC: This flu vaccine is not as effective against current influenza because virus mutated. <url>', label=0.0, agreement=0.6666666666666666),\n",
       " Pandas(Index=797, tweet_id='Y4QA1B9L', safe_text='<user> <user> <user> Shows high vaccination rate has little 2 do w public health!  Poverty/wealth MUCH better predictors', label=0.0, agreement=0.6666666666666666),\n",
       " Pandas(Index=798, tweet_id='2G56ZWY1', safe_text='AIDS N : HIV/AIDS cure news: HIV vaccine gets clinical trial in Oregon: Oregon Health &amp; Science University (OHSU)… <url>', label=0.0, agreement=0.6666666666666666),\n",
       " Pandas(Index=799, tweet_id='TUMMTW9K', safe_text='Daydreaming about running up to Jenny McCarthy and shouting \"Vaccinate This!\" - Than I hold up a baby, and lift an eyebrow quizzically.', label=1.0, agreement=0.6666666666666666),\n",
       " Pandas(Index=800, tweet_id='PLWGAUGU', safe_text='Tonight is an nite of bro bands. Milk music = bros. German Measles played their best set i seen. Wonder if ill make it to TOnstartssbandht.', label=0.0, agreement=1.0),\n",
       " Pandas(Index=801, tweet_id='LK2Z5KTX', safe_text=\"“<user> Why you should care about the measles outbreak–even if you're vaccinated - Fortune <url> #untj4460\", label=0.0, agreement=1.0),\n",
       " Pandas(Index=802, tweet_id='PODCZX0J', safe_text='Good point in child vaccines bill- \"small employr also want to only pay for their kids but they pay for all\"<user> <url>', label=0.0, agreement=0.6666666666666666),\n",
       " Pandas(Index=803, tweet_id='SO661U11', safe_text='<user> <user> FREE MMR IS LIFE CHOCO', label=0.0, agreement=0.6666666666666666),\n",
       " Pandas(Index=804, tweet_id='K7Y6EPV8', safe_text='Vlasic not feeling well.\\nA Vlasic with the measles or Ebola is better than a healthy Scott Hannan.', label=0.0, agreement=1.0),\n",
       " Pandas(Index=805, tweet_id='HTMTN7IE', safe_text='More families are choosing not to vaccinate their children. Tomorrow at 10, one mom shares his very personal story.… <url>', label=0.0, agreement=0.6666666666666666),\n",
       " Pandas(Index=806, tweet_id='YBSWHNHY', safe_text=\"#MayweatherCotto What was with Floyd's entourage? 50 Cent, OK, he's been gunshot. Justin Bieber? His only shots were childhood immunizations\", label=0.0, agreement=1.0),\n",
       " Pandas(Index=807, tweet_id='B8E5BG4T', safe_text='More info on #MeaslesOutbreak: \\nIf you have had measles, you are protected for life. Babies are at risk. This is from DR. Besser!', label=0.0, agreement=0.6666666666666666),\n",
       " Pandas(Index=808, tweet_id='18V16H6G', safe_text='China investigates vaccine maker after baby deaths: BEIJING — China has sent health experts to investigate a drug... <url>', label=0.0, agreement=0.6666666666666666),\n",
       " Pandas(Index=809, tweet_id='R5G16TN1', safe_text='Should my child get the measles vaccine? -  <url>', label=0.0, agreement=1.0),\n",
       " Pandas(Index=810, tweet_id='4GQ4M6HI', safe_text='Hilary Koprowski, polio vaccine pioneer, dead at 96: Hilary Koprowski, a virologist and former director of the... <url>', label=0.0, agreement=0.6666666666666666),\n",
       " Pandas(Index=811, tweet_id='XC3U2TRI', safe_text='<user> <user> <user> <user> so why do U cover up #autism-#vaccines link? Why R U shilling?', label=0.0, agreement=0.6666666666666666),\n",
       " Pandas(Index=812, tweet_id='DKOEF4CQ', safe_text='Pretty depressing news day today, train crash, plane crash, burning a man alive and measles. Phew', label=0.0, agreement=1.0),\n",
       " Pandas(Index=813, tweet_id='0OEHKM07', safe_text='Think about vaccinating your children who are at risk of catching deadly diseases Thursday <url>', label=1.0, agreement=1.0),\n",
       " Pandas(Index=814, tweet_id='KYU7L6V5', safe_text=\"<user> <user> oh did we know to ask until after 2013?  I didn't .  Because #vaccines were safe.  Right? #Hearus\", label=-1.0, agreement=0.6666666666666666),\n",
       " Pandas(Index=815, tweet_id='NITP69Z0', safe_text=\"<user> Thought u'd find this interesting as a flu shot enthusiast.Chattanooga man paralyzed after getting flu vaccin <url>\", label=-1.0, agreement=1.0),\n",
       " Pandas(Index=816, tweet_id='070ZFKVU', safe_text='All cases were import-associated, meaning the cases were most likely exposed while traveling to a country where measles is endemic. <user>', label=0.0, agreement=1.0),\n",
       " Pandas(Index=817, tweet_id='NSVUMKGQ', safe_text=\"<user> Deborah, has anyone died from measles this season?  We all had it early 50's; we were not in the news!\", label=0.0, agreement=1.0),\n",
       " Pandas(Index=818, tweet_id='BHIWLL3Q', safe_text='SB550 [Update] In child protective services, further providing for definitions, for immunity from liability, for ... <url>', label=0.0, agreement=0.6666666666666666),\n",
       " Pandas(Index=819, tweet_id='QCLOPLBC', safe_text=\"RT <user> Breastmilk - A child's first vaccine: Mother's in Ghana learn lifesaving techniques: <url>\", label=0.0, agreement=0.6666666666666666),\n",
       " Pandas(Index=820, tweet_id='VBHU6G7E', safe_text=\"This measles outbreak reminds me of an SVU episode and the bitch who didn't get her kid immunized was found guilty for murder!!!!\", label=1.0, agreement=1.0),\n",
       " Pandas(Index=821, tweet_id='OVNHHAN0', safe_text='“<user> Salt Lake County Health Department Confirms Two Deaths From the Flu <url> get vaccinated!', label=1.0, agreement=0.6666666666666666),\n",
       " Pandas(Index=822, tweet_id='THK49D75', safe_text=\"<user> Magazine's Great Science Frauds: Andrew Wakefield <user> <url>\", label=0.0, agreement=0.6666666666666666),\n",
       " Pandas(Index=823, tweet_id='49WKZAR5', safe_text='Mississippi LEADS the US in Childhood Immunizations by <user> <url> Harvard Law Blog', label=1.0, agreement=0.6666666666666666),\n",
       " Pandas(Index=824, tweet_id='YQHMPQMM', safe_text='Health Officials Confirm 11th Measles Case in Cook County: Cook County Health Officials on Wednesday confirmed an… <url>', label=0.0, agreement=0.6666666666666666),\n",
       " Pandas(Index=825, tweet_id='B5YRCXCJ', safe_text='<user> free vaccines for kids 2-18 low income homes check health dist to find one near you', label=1.0, agreement=1.0),\n",
       " Pandas(Index=826, tweet_id='SPUB8TWT', safe_text='VACCINATION NATIONAL CHAMPIONS RT <user> Which states are the best (and worst) at vaccinating their kids <url>', label=0.0, agreement=0.6666666666666666),\n",
       " Pandas(Index=827, tweet_id='6WOTWCIX', safe_text='I credit my strong immunity system to sampling the communal lipsticks at the Lancôme counter in high school.', label=0.0, agreement=1.0),\n",
       " Pandas(Index=828, tweet_id='OVFG8XCD', safe_text='First American flu vaccine. (@ NYU Student Health Center) <url>', label=1.0, agreement=0.6666666666666666),\n",
       " Pandas(Index=829, tweet_id='8ZX9BOMZ', safe_text=\"I don't understand why people can't just vaccinate their kids!!!!\", label=1.0, agreement=1.0),\n",
       " Pandas(Index=830, tweet_id='UEP0Y8XF', safe_text='LATEST: Measles test negative for one of two in isolation: Portage County health officials say the test result for… <url>', label=0.0, agreement=1.0),\n",
       " Pandas(Index=831, tweet_id='0YX6EA35', safe_text=\"<user> <user> Yes b/c for health reasons some children can't be vaccinated -\\nyou're putting everyone at risk. Move to the woods, bye!\", label=1.0, agreement=0.6666666666666666),\n",
       " Pandas(Index=832, tweet_id='AIFANTSY', safe_text='Do you #Blogust? I do! Leave a comment. Vaccinate a child in developing country. Simple. <user>', label=1.0, agreement=1.0),\n",
       " Pandas(Index=833, tweet_id='1EX58PXM', safe_text=\"<user> <user> wants to be able to trash #Trayvon with immunity but doesn't want the jury to hear the truth about #Zimmerman.\", label=0.0, agreement=1.0),\n",
       " Pandas(Index=834, tweet_id='KHAKLPEY', safe_text='<user>  Vaccinate your kids, Mike.  <url>', label=1.0, agreement=1.0),\n",
       " Pandas(Index=835, tweet_id='V08EDQ2W', safe_text='Ladies about this measles outbreak do you think the timing of 80,000 unvaccinated illegal kids going to Disneyland might hmmmmm #Outnumbered', label=0.0, agreement=0.6666666666666666),\n",
       " Pandas(Index=836, tweet_id='B27UGQI5', safe_text='Pet rabies vaccines for $5: \\xa0 The Harford County Health Department is helping people afford rabies vaccinations... <url>', label=0.0, agreement=0.6666666666666666),\n",
       " Pandas(Index=837, tweet_id='X3ZG8C9N', safe_text='“<user> Dear parents of unvaccinated child who exposed my cancer-stricken daughter to the measles, thanks! <url>', label=1.0, agreement=1.0),\n",
       " Pandas(Index=838, tweet_id='5CGHUA5I', safe_text=\"California's measles outbreak is a huge indicator of the outcome placing immigrant children,not vaccinated with those who are. Red Flag\", label=1.0, agreement=0.6666666666666666),\n",
       " Pandas(Index=839, tweet_id='88Z6NYGF', safe_text='I wanna go to Disneyland so badly and get measles 😍', label=0.0, agreement=1.0),\n",
       " Pandas(Index=840, tweet_id='T6WBN84U', safe_text='Immunizations for the kids....all...3...kids...yay...fun. anymore fun n it would be illegal (@ gytnow) <url>', label=1.0, agreement=1.0),\n",
       " Pandas(Index=841, tweet_id='X4QF1CM6', safe_text='It should be illegal NOT to vaccinate your child. This trend of ignorance is out of control. Whooping cough is a scourge in Cal. as a result', label=1.0, agreement=1.0),\n",
       " Pandas(Index=842, tweet_id='QEC5Y5JF', safe_text=\"Ted Cruz: 'Of course' children should be vaccinated <url>\", label=1.0, agreement=0.6666666666666666),\n",
       " Pandas(Index=843, tweet_id='EG1D1MF5', safe_text='Dig this... #mmr #like #madhatterdc #dj #dc #dupontcircle #fame #photoshop #flyer #dope #midtowndc… <url>', label=0.0, agreement=1.0),\n",
       " Pandas(Index=844, tweet_id='OK4R0QNO', safe_text='#ExoticsOnFridays #MMR @ Exotics <url>', label=0.0, agreement=1.0),\n",
       " Pandas(Index=845, tweet_id='WQXYM0G7', safe_text='More parents opting out of vaccinating children <url>', label=-1.0, agreement=0.6666666666666666),\n",
       " Pandas(Index=846, tweet_id='6ICNWCYT', safe_text=\"I have a 32 yo autistic child. I'd look at GMO food and water and nuclear waste before I'd look at vaccines #vaccinedebate\", label=1.0, agreement=0.6666666666666666),\n",
       " Pandas(Index=847, tweet_id='AS3O57SZ', safe_text='I love mmr I laugh every morning bc of them', label=0.0, agreement=1.0),\n",
       " Pandas(Index=848, tweet_id='56GU2QFM', safe_text='AP Disney gave input on measles health messages: As the measles outbreak spread last month, Disneyland executives… <url>', label=0.0, agreement=1.0),\n",
       " Pandas(Index=849, tweet_id='BNAFLHC2', safe_text=\"<user> I'm b2 he is b1. Does that take precedence over mmr?\", label=0.0, agreement=1.0),\n",
       " Pandas(Index=850, tweet_id='8I4NUWD8', safe_text=\"Mashable: Roald Dahl's heartbreaking 1988 letter resurfaces amid current measles outbreak. <url> <user> <user>\", label=0.0, agreement=1.0),\n",
       " Pandas(Index=851, tweet_id='SUVZTUYH', safe_text='#Marketing #Job alert: Manager Immunization Program Pharmacy Ops | CVS Health | #Woonsocket, Rhode Island <url> #Jobs', label=0.0, agreement=1.0),\n",
       " Pandas(Index=852, tweet_id='AECQ8OHQ', safe_text='<user> chicken pox vaccine for kids fairly new but given due to unnecessary illness &amp; risk of exposing others to shingles', label=1.0, agreement=0.6666666666666666),\n",
       " Pandas(Index=853, tweet_id='GZMU2C4S', safe_text='VACCINATE YOUR FUCKING KIDS', label=1.0, agreement=1.0),\n",
       " Pandas(Index=854, tweet_id='Q5AD47HI', safe_text=\"Can't even imagine how angry and scared parents of too-young-to-vaccinate kids are right now\", label=1.0, agreement=1.0),\n",
       " Pandas(Index=855, tweet_id='ENW8HKT4', safe_text='Measles Count Reaches 49 in California <url> #scpick', label=0.0, agreement=1.0),\n",
       " Pandas(Index=856, tweet_id='EN9SXBL8', safe_text='Measles outbreak continues to grow: Health officials say 102 people in 14 states were reported to have measles in… <url>', label=0.0, agreement=0.6666666666666666),\n",
       " Pandas(Index=857, tweet_id='NTCOPL54', safe_text='How do vaccines cause autism? <url>', label=0.0, agreement=0.6666666666666666),\n",
       " Pandas(Index=858, tweet_id='KKP8DVLF', safe_text='#cooties shots (@ Allegheny County Health Department Immunization Clinic - <user> <url>', label=0.0, agreement=0.6666666666666666),\n",
       " Pandas(Index=859, tweet_id='4DDXUBJU', safe_text='Or, not enough \"<user> Kristin Cavallari: \"I\\'ve read too many books\" to vaccinate my child <url>', label=-1.0, agreement=0.6666666666666666),\n",
       " Pandas(Index=860, tweet_id='WTECMV6X', safe_text='Foe wtf is measles', label=0.0, agreement=1.0),\n",
       " Pandas(Index=861, tweet_id='6NDGZHTV', safe_text=\"Why don't dogs ever get like strep throat or the measles?\", label=0.0, agreement=1.0),\n",
       " Pandas(Index=862, tweet_id='UEZKC0O3', safe_text='Getting shorty updated on her vaccines #preventativehealth (@ Metropolitan Pediatrics - <user> <url>', label=1.0, agreement=1.0),\n",
       " Pandas(Index=863, tweet_id='E4OHD50S', safe_text=\"That's an interesting way to get people to vaccinate their kids... <url>\", label=0.0, agreement=0.6666666666666666),\n",
       " Pandas(Index=864, tweet_id='QK5Y1ZWX', safe_text=\"Don't let the schools tell you to vaccinate your children\", label=-1.0, agreement=0.6666666666666666),\n",
       " Pandas(Index=865, tweet_id='AA26GWDP', safe_text='.<user> offers FREE vaccines for Kindergarten &amp; 7th grade students this Sat. from 11am - 3pm at 4 local high schools. <user>', label=1.0, agreement=0.6666666666666666),\n",
       " Pandas(Index=866, tweet_id='P018KB2T', safe_text='Oh, the Irony!  \"<user> ...\\n\"Anti-vaccine megachurch hit with measles epidemic, now offering free\\xa0vaccinations <url>', label=1.0, agreement=1.0),\n",
       " Pandas(Index=867, tweet_id='Q1BFY513', safe_text='Proof: Measles Outbreak Causesd By Measles Shot: <url>', label=-1.0, agreement=1.0),\n",
       " Pandas(Index=868, tweet_id='6QSFDHZR', safe_text=\"And when ten years from now my kid gets the Measles I'm blaming y'all.\", label=0.0, agreement=0.6666666666666666),\n",
       " Pandas(Index=869, tweet_id='397KZ8J7', safe_text='<user> very true! Nothing in life is 100% but science shows #Vaccine pros greatly outweigh rare risks.', label=1.0, agreement=1.0),\n",
       " Pandas(Index=870, tweet_id='Q7YHLAG8', safe_text='RT <user> Boy Recovers From Autism By Removing Dairy &amp;amp; Gluten. Strong Evidence Links Vaccines to Autism <url>', label=-1.0, agreement=1.0),\n",
       " Pandas(Index=871, tweet_id='IR3JL6I6', safe_text=\"Cadillac Pimpin' madhatterdc #mmr #music #mixmasterrod #edm #top40 #throwbacks #tagsforlikes… <url>\", label=0.0, agreement=1.0),\n",
       " Pandas(Index=872, tweet_id='V4MBMSL8', safe_text='Via <user> Paralympic Champion Makes The Case For Meningitis Vaccine <url>', label=1.0, agreement=1.0),\n",
       " Pandas(Index=873, tweet_id='WUDDEO72', safe_text='Truth. #vaccineswork <url>', label=1.0, agreement=0.6666666666666666),\n",
       " Pandas(Index=874, tweet_id='GUE4IQDF', safe_text='“<user> No one gets the measles, mumps, or  rubella anymore, so learning paperas, sarampión, and rubéola is irrelevant.”', label=-1.0, agreement=0.3333333333333333),\n",
       " Pandas(Index=875, tweet_id='PRX8HJX5', safe_text='The outbreaks from measles seem to be similar to our worries about Ebola - not good!', label=0.0, agreement=1.0),\n",
       " Pandas(Index=876, tweet_id='3CC7WYOV', safe_text='“<user> See you all next week for #MadMen #s3e9 #mmr” <user> 👍', label=0.0, agreement=1.0),\n",
       " Pandas(Index=877, tweet_id='BB3VTASM', safe_text='Wivick had so much fun with all the fur babies at <user> today! They offer low-cost vaccines… <url>', label=1.0, agreement=1.0),\n",
       " Pandas(Index=878, tweet_id='YK8X714L', safe_text=\"“<user> Everything you want to know about measles. --&gt; <url> #WHAS11”here's a tip: vaccinate your kids\", label=1.0, agreement=1.0),\n",
       " Pandas(Index=879, tweet_id='YFK817S9', safe_text='<user> Herd immunity is for too young or immunocompromised to vacc. Vaccines can have side effects, but so do cars: relative risk is low', label=1.0, agreement=1.0),\n",
       " Pandas(Index=880, tweet_id='0VE4NWWQ', safe_text='Measles Outbreak Hits Texas Church That Preached Against Vaccines - <url>\\nMaybe they should have another talk with God.', label=1.0, agreement=0.6666666666666666),\n",
       " Pandas(Index=881, tweet_id='779XWY13', safe_text='“<user> average, people who complain live longer -Releasing this tension increases immunity and boosts their health<user> 😂', label=0.0, agreement=1.0),\n",
       " Pandas(Index=882, tweet_id='9B8XIIDM', safe_text='MT <user> One thing we are most certain of, the #measles vaccine is safe and very effective. <url> <url>', label=1.0, agreement=1.0),\n",
       " Pandas(Index=883, tweet_id='4R2WLOLE', safe_text=\"it wasn't already there...? RT <user> Sick Quebec tourist may have spread measles in OOB, Saco last weekend, health officials say.\", label=0.0, agreement=0.6666666666666666),\n",
       " Pandas(Index=884, tweet_id='KQGB9LP1', safe_text='Via <user> Immune amnesia...Scientists Crack A 50-Year-Old Mystery About The Measles Vaccine. <url>', label=0.0, agreement=0.6666666666666666),\n",
       " Pandas(Index=885, tweet_id='1G5X7MV7', safe_text=\"Measles cases rise in New York City as health department urges vaccinations for 'highly contagious' virus: The... <url>\", label=1.0, agreement=0.6666666666666666),\n",
       " Pandas(Index=886, tweet_id='IUAC8NR4', safe_text='This book is dangerous idiocy. \"<user> Did you see antivacc picture book that equates measles w/chicken pox? <url>', label=1.0, agreement=1.0),\n",
       " Pandas(Index=887, tweet_id='OGRM5LUK', safe_text=\"They hate what they don't understand fear what they cant conquer....   #MBS #MMR #RRR @ MeanBoy Masion <url>\", label=0.0, agreement=0.6666666666666666),\n",
       " Pandas(Index=888, tweet_id='HBDBBVJP', safe_text='Vaccinations for the kiddo :(', label=1.0, agreement=0.6666666666666666),\n",
       " Pandas(Index=889, tweet_id='110GQQQJ', safe_text='Measles outbreak: Different states, different rules on vaccinations: The rash of measles cases across the country… <url>', label=0.0, agreement=1.0),\n",
       " Pandas(Index=890, tweet_id='2L5FZVG6', safe_text='After Super Bowls they\\'re always like \"I\\'m going to Disney Land\" but like watch out for them measles boy', label=0.0, agreement=0.6666666666666666),\n",
       " Pandas(Index=891, tweet_id='R29GUM1A', safe_text=\"<user> I really wish you guys had just gone the Dota route of having separate mmr's\", label=0.0, agreement=1.0),\n",
       " Pandas(Index=892, tweet_id='N6OIHOQK', safe_text='Picked a group topic yesterday 4 community health :vaccines &amp; the nuts who refuse them lol. &amp; bam CNN &amp; Huffington Post does a piece. Score!', label=1.0, agreement=1.0),\n",
       " Pandas(Index=893, tweet_id='ZEYDWYOH', safe_text='<user> because they most likely are immune to measles via having contracted the disease', label=0.0, agreement=1.0),\n",
       " Pandas(Index=894, tweet_id='PHL2BUXH', safe_text='Lane County Health Department is working on more vaccination clinics w/ U of O after fifth case of meningitis bacteria on campus. #liveonK2', label=1.0, agreement=1.0),\n",
       " Pandas(Index=895, tweet_id='O2OPIX2I', safe_text='Vaccine baby <url>', label=-1.0, agreement=0.6666666666666666),\n",
       " Pandas(Index=896, tweet_id='3AHJ1R4H', safe_text='Free back-to-school immunizations offered around South Florida -WPTV <url> #Sunrise #FL', label=0.0, agreement=1.0),\n",
       " Pandas(Index=897, tweet_id='CTN7XBFC', safe_text=\"<user> <user> if you guys don't vaccinate your kids they'll drop like flies\", label=1.0, agreement=1.0),\n",
       " Pandas(Index=898, tweet_id='8DCH5W0Q', safe_text='Measles outbreak brings new guidelines for Ohio health-care workers: The state is making sure that health-care... <url>', label=0.0, agreement=1.0),\n",
       " Pandas(Index=899, tweet_id='QX07YHW0', safe_text=\"Disney's parks revenue rises despite measles outbreak <url>\", label=0.0, agreement=0.6666666666666666),\n",
       " Pandas(Index=900, tweet_id='BSXQ54OW', safe_text=\"So Jenny McCarthy thinks that vaccines caused her sons autism?! If that's the case then shouldnt anybody who has been vaccinated have autism\", label=1.0, agreement=0.6666666666666666),\n",
       " Pandas(Index=901, tweet_id='I4O3D66Y', safe_text=\"<user> I'm going to laugh so hard when you have measles.\", label=0.0, agreement=1.0),\n",
       " Pandas(Index=902, tweet_id='YTBXQYNX', safe_text='<user> Have you seen the research that supports measles vaccine to cure a form of blood cancer? Up your alley.', label=1.0, agreement=1.0),\n",
       " Pandas(Index=903, tweet_id='DDXTC1DP', safe_text='MMR vaccine &amp; autism. A hot topic, local leaders dispelling rumors after #measlesoutbreak <url> <url>', label=1.0, agreement=1.0),\n",
       " Pandas(Index=904, tweet_id='GOIFCJ8V', safe_text='And NO, this Tunnel of Love does not come with Measles, unlike the Tunnel of Love at Disneyland.', label=0.0, agreement=1.0),\n",
       " Pandas(Index=905, tweet_id='DAX8C31D', safe_text='Nancy Dirubbo says \"Think of immunizations as your 5th Vital Sign\" visit booth # 862 #AANP12 American Travel Health Nurses Association', label=1.0, agreement=1.0),\n",
       " Pandas(Index=906, tweet_id='0Y4GAUKA', safe_text='“<user> #BREAKING: Measles outbreak grows to 20 cases in NYC <url> <url>', label=0.0, agreement=1.0),\n",
       " Pandas(Index=907, tweet_id='52UR71N6', safe_text='9 measles cases linked to Disney theme parks in California: Seven Californians and two people in Utah have… <url>', label=0.0, agreement=1.0),\n",
       " Pandas(Index=908, tweet_id='J9VOF8T9', safe_text='Thnks fr th mmr @ United Center <url>', label=0.0, agreement=1.0),\n",
       " Pandas(Index=909, tweet_id='JPRHXCNF', safe_text=\"excuse me? no <user> Parents who don't vaccinate kids should face criminal charges or lawsuits. Simple as that: <url>\", label=1.0, agreement=0.6666666666666666),\n",
       " Pandas(Index=910, tweet_id='X44CIIGJ', safe_text='#uknowyouugly a vet gave your baby his first immunizations', label=1.0, agreement=1.0),\n",
       " Pandas(Index=911, tweet_id='5Y8A829P', safe_text=\"Health is not Political, it's Science. Get your children Vaccinated!\", label=1.0, agreement=1.0),\n",
       " Pandas(Index=912, tweet_id='ZF0RBEJR', safe_text='Measles everywhere RT <user> <url> <url>', label=0.0, agreement=1.0),\n",
       " Pandas(Index=913, tweet_id='TZ6DN7EL', safe_text=\"If you dont vaccinate your kids keep them at home. Do not risk Other people's babies.Saying you dont think you put anyone at risk is CRAZY!\", label=1.0, agreement=1.0),\n",
       " Pandas(Index=914, tweet_id='HNJ8OGI6', safe_text='Screw you, <user> “<user> Measles case confirmed in U of M student. | <url> <url>', label=1.0, agreement=1.0),\n",
       " Pandas(Index=915, tweet_id='3G0XX9CN', safe_text=\"It's a good thing kids can administer the cootie vaccine themselves.\\n\\nRemember kids: circle circle dot dot\", label=0.0, agreement=0.6666666666666666),\n",
       " Pandas(Index=916, tweet_id='0BH6KCNG', safe_text=\"<user> <user> it's some risk, but USA has a vaccine they are testing and have been preparing for ebola since the 90s. Stuff the\", label=1.0, agreement=0.6666666666666666),\n",
       " Pandas(Index=917, tweet_id='JDRS6D2E', safe_text='<user> the vaccine were not available when I was growing up Measles and chicken pox are not fun. I even had German Measles.', label=0.0, agreement=0.6666666666666666),\n",
       " Pandas(Index=918, tweet_id='N64ALDBE', safe_text='Why Childhood Vaccines Are Essential <url>', label=1.0, agreement=1.0),\n",
       " Pandas(Index=919, tweet_id='8HMRYBG0', safe_text='#CDCwhistleblower more details out on the CDCs manipulation of data to hide the the correlation between autism and age of vaccines.', label=-1.0, agreement=1.0),\n",
       " Pandas(Index=920, tweet_id='XLJOYIO6', safe_text=\"14 babies who were too young to get vaccinated now have measles b/c a bunch of selfish dumb fucks didn't have their kids vaccinated!\", label=1.0, agreement=1.0),\n",
       " Pandas(Index=921, tweet_id='03G7E6FG', safe_text=\"I think it's extremely selfish to not get your children vaccinated.\", label=1.0, agreement=1.0),\n",
       " Pandas(Index=922, tweet_id='1WATQGLQ', safe_text=\"Michigan's measles case: Oakland County adult has it; unclear if Disneyland outbreak is connected: DETROIT, MI --… <url>\", label=0.0, agreement=1.0),\n",
       " Pandas(Index=923, tweet_id='QJUU9SHN', safe_text='\"<user> It\\'s NOT Only a Coincidence! Click LIKE if  agree. #vaccines <url> advocate <url>', label=-1.0, agreement=0.3333333333333333),\n",
       " Pandas(Index=924, tweet_id='U6QQ2VXL', safe_text='Mogul Caribbean Resturant almost completed. #Brooklyn #MMR he sporting old style Street Mogul shirt <url>', label=0.0, agreement=1.0),\n",
       " Pandas(Index=925, tweet_id='ZXCPO6XG', safe_text='Not vaccinating ones child should be a criminal offense for child neglect and public endangerment.', label=1.0, agreement=1.0),\n",
       " Pandas(Index=926, tweet_id='CB0FR06C', safe_text='When I see \"I didn\\'t vaccinate my child\" I just assume you want your child to contract measles, rubella, polio, and pertussis', label=1.0, agreement=1.0),\n",
       " Pandas(Index=927, tweet_id='KOX57SMG', safe_text='A lady in the office apparently JUST found out that vaccines do not cause autism... WTF?', label=1.0, agreement=0.6666666666666666),\n",
       " Pandas(Index=928, tweet_id='1EY7ULCR', safe_text=\"Rand Paul's idea to change vaccinations will cause huge outbreaks of diseases that government must respond to using lots of taxpayers money!\", label=1.0, agreement=0.6666666666666666),\n",
       " Pandas(Index=929, tweet_id='D7F2ZAHV', safe_text='\"Don\\'t be an idiot. Vaccinate your future freaking kids people.\" -Microbiology professor 😂😂😂', label=1.0, agreement=1.0),\n",
       " Pandas(Index=930, tweet_id='9RP60P25', safe_text='“<user> On average, people who complain live longer -- Releasing this tension increases immunity and boosts their health.” <user>', label=0.0, agreement=1.0),\n",
       " Pandas(Index=931, tweet_id='FD8RQ5WD', safe_text='<user> NCAA tourney Edition.Hot-Faking measles.10minsAgo-Faking strep throat.Not-actually hurting back but get to watch games #Truth', label=0.0, agreement=1.0),\n",
       " Pandas(Index=932, tweet_id='APEI238N', safe_text='Immunizations for school 😥👎💉', label=0.0, agreement=0.6666666666666666),\n",
       " Pandas(Index=933, tweet_id='JVJB6SVC', safe_text='Object lesson re not vaccinating  -harrowing story of measles infection. <url>', label=1.0, agreement=1.0),\n",
       " Pandas(Index=934, tweet_id='O8B914DK', safe_text='RT <user> A call about vaccines just came in. Mark revealed that his son is unvaccinated. Is this child abuse? Yes, without a doubt!', label=1.0, agreement=1.0),\n",
       " Pandas(Index=935, tweet_id='K9GHVZLS', safe_text=\"I ALWAYS make sure I listen to MMR when <user> is on. The guy is f*ckin' hysterical. (no that wasn't a Todd Glass style shameless plug)\", label=0.0, agreement=1.0),\n",
       " Pandas(Index=936, tweet_id='NKI9GIT7', safe_text='“<user> Original Article: Intussusception Risk after Rotavirus Vaccination in U.S. Infants. <url>', label=-1.0, agreement=0.6666666666666666),\n",
       " Pandas(Index=937, tweet_id='AK55YXRS', safe_text='<user> <user> <user> 3.) Diseases were on the decline before the intro of vaccines. Thanks to better sanitation practices', label=-1.0, agreement=1.0),\n",
       " Pandas(Index=938, tweet_id='RISQJZZ4', safe_text='<user> #GOP STOP blaming #Immigrants first #Ebola now #measles Which diseases?brought their ancestors? #AINF <url>', label=0.0, agreement=1.0),\n",
       " Pandas(Index=939, tweet_id='PX9SU16F', safe_text='Rubella measles officially eliminated from the Americas: Health officials say the first region of the world to rid… <url>', label=0.0, agreement=0.6666666666666666),\n",
       " Pandas(Index=940, tweet_id='STU2AC36', safe_text='Iowa dept of public health calls me and says I was exposed to measles on my recent flight but that I SHOULD be ok. Ummm ok.', label=0.0, agreement=1.0),\n",
       " Pandas(Index=941, tweet_id='Z5PVYZBJ', safe_text=\"<user>  Are you in favor of saving kids' lives? I hope so. Let me know Wednesday. <user> #vaccineswork\", label=1.0, agreement=1.0),\n",
       " Pandas(Index=942, tweet_id='OJ79RORA', safe_text=\"<user> -I agree. Vaccines harness the body's own immune defenses to conquer and prevent disease. A real win-win.\", label=1.0, agreement=1.0),\n",
       " Pandas(Index=943, tweet_id='ZPMI6D8R', safe_text='Strawberries provide vitamin C and antioxidants. Good for skin (collagen production), immunity, and heart health.', label=0.0, agreement=1.0),\n",
       " Pandas(Index=944, tweet_id='72UUXXDP', safe_text='Great documentary on vaccines #Nova #pbs <url>', label=-1.0, agreement=0.3333333333333333),\n",
       " Pandas(Index=945, tweet_id='SOACKMWX', safe_text='<user> I want to know why American children are excluded from an education for not being immunized but illegals get a pass?', label=1.0, agreement=0.6666666666666666),\n",
       " Pandas(Index=946, tweet_id='V30YDZ65', safe_text='Of coarse trutherbot is anti vaccine 😂😂', label=0.0, agreement=0.6666666666666666),\n",
       " Pandas(Index=947, tweet_id='QLQ2MDL1', safe_text='VACCINATE YA FUCKING KIDS', label=1.0, agreement=1.0),\n",
       " Pandas(Index=948, tweet_id='C7OJCRG0', safe_text='My professor is telling us about how bad it was wen kids used to get measles more oftn, blows my mind tht parents r still anti-vaccination', label=1.0, agreement=1.0),\n",
       " Pandas(Index=949, tweet_id='0T6VOMVD', safe_text=\"More children at risk of measles in wake of Ebola epidemic: Ebola's toll moved beyond 10,000 deaths Thursday even… <url>\", label=0.0, agreement=1.0),\n",
       " Pandas(Index=950, tweet_id='8SYFXR56', safe_text=\"MT <user> <user> research Q: how to persuade parents that MMR vaccine is safe and beneficial? A: Can't. <url>\", label=0.0, agreement=0.6666666666666666),\n",
       " Pandas(Index=951, tweet_id='JOW3IM6Q', safe_text='This Ekocenter creates a Hub for a <user> safe H2O, AND storage for vaccines in remote areas abroad. #BIF10 <url>', label=0.0, agreement=0.6666666666666666),\n",
       " Pandas(Index=952, tweet_id='04ADSR24', safe_text='Still at the Pediatrician...I got 3 vaccines... And a lollipop lol Im such a child', label=1.0, agreement=1.0),\n",
       " Pandas(Index=953, tweet_id='4JBYLCQX', safe_text=\"Gilbert pediatrician furious over daughter's exposure to measles: Dr. Tim Jacks got a phone call from a Phoenix… <url>\", label=0.0, agreement=0.6666666666666666),\n",
       " Pandas(Index=954, tweet_id='5W4GZTQV', safe_text='\"Hey kids and/or 3rd world families, come get vaccinated, they\\'re great and look like this\"', label=1.0, agreement=0.6666666666666666),\n",
       " Pandas(Index=955, tweet_id='VJMQALMI', safe_text=\"<user> <user>   I'm pissed. measles outbreak  lets blame the American parents 4 not vaccinating.Root cause. Mexican illegal children?\", label=-1.0, agreement=0.3333333333333333),\n",
       " Pandas(Index=956, tweet_id='UQS9Z7ML', safe_text='I generally agree but I think freedom is limited by harm to others, and not vaccinating harms others<user> <user> <user>', label=1.0, agreement=1.0),\n",
       " Pandas(Index=957, tweet_id='DU9YWAET', safe_text='Today I learned the nbr 1,2&amp;3 causes of death and illness in many South American countries. #traveldoctorvisit #immunized', label=1.0, agreement=0.6666666666666666),\n",
       " Pandas(Index=958, tweet_id='XTAOLGWW', safe_text='5 children at Illinois day care diagnosed with measles <url>', label=0.0, agreement=0.6666666666666666),\n",
       " Pandas(Index=959, tweet_id='0VOEL2IE', safe_text=\"HB2584 [NEW] Establishes a voluntary replacement alternative program for children's vaccines which do not contai... <url>\", label=0.0, agreement=1.0),\n",
       " Pandas(Index=960, tweet_id='YFV7DCMA', safe_text='“<user> #⃣MMR <url> u cute', label=0.0, agreement=1.0),\n",
       " Pandas(Index=961, tweet_id='CHO1BNH0', safe_text='Mumps &amp; measles. In idaho. In 2015.', label=0.0, agreement=1.0),\n",
       " Pandas(Index=962, tweet_id='Q6DH28JJ', safe_text=\"<user> ~story about measles outbreak, HELLO people pull your craniums out of your rectums~ measles immunization doesn't cause autism!\", label=1.0, agreement=1.0),\n",
       " Pandas(Index=963, tweet_id='QKIQ1BJH', safe_text='Babies to be offered vomiting bug vaccine. <url>', label=0.0, agreement=0.6666666666666666),\n",
       " Pandas(Index=964, tweet_id='2RJWXS2V', safe_text='AIDS N : HIV-Positive Youth May Lack Immunity to MMR Diseases <url>', label=0.0, agreement=0.6666666666666666),\n",
       " Pandas(Index=965, tweet_id='3ZIBRY08', safe_text='\"That\\'s cool don\\'t catch the measles\" \"you can catch these hands\"', label=0.0, agreement=1.0),\n",
       " Pandas(Index=966, tweet_id='GLSMKDKC', safe_text='<user> #GOP STOP blaming #Immigrants first #Ebola now #measles Which diseases?brought their ancestors? #AINF <url>', label=0.0, agreement=1.0),\n",
       " Pandas(Index=967, tweet_id='OOT30WQY', safe_text='you guys were prolific saboteurs for almost 5 decades though. Measles anyone?age 9 across oceans? #Barbara #Walters  <user>', label=0.0, agreement=1.0),\n",
       " Pandas(Index=968, tweet_id='S16RAG5L', safe_text='Come Stay Warm <user> #mmr #dc #dj #dmv #djflyer #downtowndc #dcnightlife #downtowndc… <url>', label=0.0, agreement=1.0),\n",
       " Pandas(Index=969, tweet_id='64FTIZVN', safe_text='<user> ayy akala ko measles mumps rubella vaccine. Hahahhaha', label=0.0, agreement=0.6666666666666666),\n",
       " Pandas(Index=970, tweet_id='T207OL3W', safe_text='How many people have to get measles for it to be an #outbreak ?', label=0.0, agreement=1.0),\n",
       " Pandas(Index=971, tweet_id='GRC728PU', safe_text='\"Tom Brady, you just won the Super Bowl. What are you going to do now?\"\\nBrady: \"Sure as hell not going to Disneyland and get the measles!\"', label=0.0, agreement=1.0),\n",
       " Pandas(Index=972, tweet_id='YI8J73ZA', safe_text='Health fair kicks off the National Infant Immunization Week: A multi-state measles outbreak earlier this year… <url>', label=1.0, agreement=1.0),\n",
       " Pandas(Index=973, tweet_id='Y80IZB4I', safe_text='I wanna be at mmr day! :(', label=0.0, agreement=1.0),\n",
       " Pandas(Index=974, tweet_id='AZSP1UFJ', safe_text='900 dollars worth of medicine/vaccines/shots for Africa. \\nMy arms as dead as my bank', label=1.0, agreement=1.0),\n",
       " Pandas(Index=975, tweet_id='7A78OWAL', safe_text='Smurf got 4167 mmr last night! 0_0', label=0.0, agreement=1.0),\n",
       " Pandas(Index=976, tweet_id='YSOTHNE4', safe_text='My bestfriend MMR knows Miley hold song the climb lmboo iLovee that poop .', label=0.0, agreement=1.0),\n",
       " Pandas(Index=977, tweet_id='395RZAIO', safe_text=\"In other news, it was officially tested and proven that vaccines don't cause autism. So vaccinate your kids you fucking morons\", label=1.0, agreement=1.0),\n",
       " Pandas(Index=978, tweet_id='E2S086CC', safe_text='How One Unvaccinated Child Sparked The Minnesota Measles Outbreak: A measles outbreak in Minnesota offers a case... <url>', label=0.0, agreement=0.6666666666666666),\n",
       " Pandas(Index=979, tweet_id='I1TFJ9O3', safe_text='Good thing I didn\\'t get one then lol \"<user> CDC: Flu vaccine may not be effective for this year’s strains <url>', label=-1.0, agreement=0.6666666666666666),\n",
       " Pandas(Index=980, tweet_id='SRVZPJ9T', safe_text='Holy crap, I had no idea RT <user> My #measles shot scar from childhood. Do we still need it? <url>', label=0.0, agreement=1.0),\n",
       " Pandas(Index=981, tweet_id='UKLLWVZ9', safe_text='barefoot child in mall. #immunitybuilder', label=0.0, agreement=1.0),\n",
       " Pandas(Index=982, tweet_id='5BWOJ7QG', safe_text='66 confirmed cases of measles in California-centered outbreak <url>', label=0.0, agreement=1.0),\n",
       " Pandas(Index=983, tweet_id='6UM6XPTB', safe_text='<user> <user> Did you hear that Eric Holder said School Districts have to Admit them without Vaccinations! ?', label=0.0, agreement=0.6666666666666666),\n",
       " Pandas(Index=984, tweet_id='ZU8DG00Z', safe_text='\"LOOKING ASS BITCHES\" <user> <url> #EAZYMIX #MMR #CIROCBOYZ 💯 <user> @ EazyMix <url>', label=0.0, agreement=1.0),\n",
       " Pandas(Index=985, tweet_id='HPQ63SLS', safe_text='“<user> Measles Virus Proves Deadly To Cancer  <url> 😊', label=0.0, agreement=0.6666666666666666),\n",
       " Pandas(Index=986, tweet_id='5NY5UVX9', safe_text='“<user> Today in 1954 kids received first polio vaccine #DrSalk #Innovation #PublicHealth” #Pittsburgh', label=0.0, agreement=1.0),\n",
       " Pandas(Index=987, tweet_id='65LY6B7B', safe_text='Yellow Fever vaccine #ghana (@ Passport Health NYC - <user> in New York, NY) <url>', label=0.0, agreement=1.0),\n",
       " Pandas(Index=988, tweet_id='CF664BEA', safe_text='No geom for today! Yay will be at school half of my second block. But oh god 2 shots of immunization for me later', label=1.0, agreement=0.6666666666666666),\n",
       " Pandas(Index=989, tweet_id='98D8W69Q', safe_text='1 in 5 #children lack access to life-saving immunizations they need to stay healthy - Join the fight… <url>', label=1.0, agreement=1.0),\n",
       " Pandas(Index=990, tweet_id='K7SMD3VA', safe_text='two dozen measles cases tied to Disney theme parks: <url> <url> protect your kids! Fucking anti-vaxers', label=1.0, agreement=1.0),\n",
       " Pandas(Index=991, tweet_id='2QAOYO2I', safe_text=\"<user> Grampy, why did you say that? Don't bring me measles that's just what I don't need now!\", label=0.0, agreement=1.0),\n",
       " Pandas(Index=992, tweet_id='OK2IFDE9', safe_text='😷😷😷😷 “<user> 70 measles cases linked to Disney theme parks <url> <url>', label=0.0, agreement=0.6666666666666666),\n",
       " Pandas(Index=993, tweet_id='ZFPIUYSE', safe_text=\"Poverty isn't hereditary.... \\n\\nPoverty is an infectious disease; only wealthy people are vaccinated!\", label=0.0, agreement=0.6666666666666666),\n",
       " Pandas(Index=994, tweet_id='UB3XNSC9', safe_text=\"Got Caught Slippin' <user> #mmr #connecticutave #dupontcircle #dj #dc #dmv #dcdj… <url>\", label=0.0, agreement=1.0),\n",
       " Pandas(Index=995, tweet_id='XZ1ZSLHO', safe_text='Measle vaccinations should be mandatory#ronation#cdc', label=1.0, agreement=0.6666666666666666),\n",
       " Pandas(Index=996, tweet_id='P47KVI4C', safe_text=\"Got email from my health insurance about measles. I shouldn't have to know anything - there's a vaccine, no one should have it!\", label=-1.0, agreement=0.6666666666666666),\n",
       " Pandas(Index=997, tweet_id='WSEEG8UH', safe_text='Getting the measles vaccine is much safer than getting the measles infection. #10minutes4truth #AAP #getvaccinated', label=1.0, agreement=1.0),\n",
       " Pandas(Index=998, tweet_id='L8ZSA5DJ', safe_text=\"2nd measles case reported in Denver area: A man exposed to the measles at a Lone Tree doctor's office is... <url>\", label=0.0, agreement=1.0),\n",
       " Pandas(Index=999, tweet_id='K225HPSE', safe_text='#CDC has changed recommendation for getting infants vaccinated against #Measles. My report next on #Fox35 or watch on <user>', label=0.0, agreement=0.6666666666666666),\n",
       " ...]"
      ]
     },
     "execution_count": 13,
     "metadata": {},
     "output_type": "execute_result"
    }
   ],
   "source": [
    "list(df_train.itertuples())"
   ]
  },
  {
   "cell_type": "code",
   "execution_count": 14,
   "metadata": {},
   "outputs": [
    {
     "data": {
      "text/plain": [
       "[]"
      ]
     },
     "execution_count": 14,
     "metadata": {},
     "output_type": "execute_result"
    }
   ],
   "source": [
    "##checking blank messages\n",
    "blank_index = [i[0] for i in df_train.itertuples() if i[2].isspace()]\n",
    "blank_index"
   ]
  },
  {
   "cell_type": "code",
   "execution_count": 15,
   "metadata": {},
   "outputs": [
    {
     "data": {
      "text/plain": [
       "tweet_id     0\n",
       "safe_text    0\n",
       "label        1\n",
       "agreement    2\n",
       "dtype: int64"
      ]
     },
     "execution_count": 15,
     "metadata": {},
     "output_type": "execute_result"
    }
   ],
   "source": [
    "##checking null values on the train\n",
    "df_train.isnull().sum()"
   ]
  },
  {
   "cell_type": "code",
   "execution_count": 16,
   "metadata": {},
   "outputs": [],
   "source": [
    "##deleting null values\n",
    "df_train.dropna(inplace=True)"
   ]
  },
  {
   "cell_type": "code",
   "execution_count": 17,
   "metadata": {},
   "outputs": [
    {
     "data": {
      "text/plain": [
       "tweet_id     0\n",
       "safe_text    0\n",
       "label        0\n",
       "agreement    0\n",
       "dtype: int64"
      ]
     },
     "execution_count": 17,
     "metadata": {},
     "output_type": "execute_result"
    }
   ],
   "source": [
    "df_train.isnull().sum()"
   ]
  },
  {
   "cell_type": "code",
   "execution_count": 18,
   "metadata": {},
   "outputs": [],
   "source": [
    "##spitting the data into traing and validation set\n",
    "X = df_train['safe_text']\n",
    "y = df_train['label']"
   ]
  },
  {
   "cell_type": "code",
   "execution_count": 19,
   "metadata": {},
   "outputs": [],
   "source": [
    "from sklearn.model_selection import train_test_split\n",
    "from sklearn.svm import LinearSVC,SVC\n",
    "from sklearn.linear_model import LogisticRegression\n",
    "from xgboost import XGBClassifier\n",
    "from sklearn.ensemble import RandomForestClassifier\n",
    "from sklearn.naive_bayes import MultinomialNB\n",
    "from sklearn.pipeline import Pipeline\n",
    "from sklearn.feature_extraction.text import TfidfVectorizer"
   ]
  },
  {
   "cell_type": "code",
   "execution_count": 20,
   "metadata": {},
   "outputs": [],
   "source": [
    "X_train, X_test, y_train, y_test = train_test_split(X, y, test_size=0.2, random_state=42)"
   ]
  },
  {
   "cell_type": "code",
   "execution_count": 21,
   "metadata": {},
   "outputs": [],
   "source": [
    "lsv = Pipeline([('vec',TfidfVectorizer()),('clf',LinearSVC())])\n",
    "sv = Pipeline([('vec',TfidfVectorizer()),('clf',SVC())])\n",
    "lg = Pipeline([('vec',TfidfVectorizer()),('clf',LogisticRegression(max_iter=10000,class_weight='balanced'))])\n",
    "mnb = Pipeline([('vec',TfidfVectorizer()),('clf',MultinomialNB())])\n",
    "xgb = Pipeline([('vec',TfidfVectorizer()),('clf',XGBClassifier())])\n",
    "rf = Pipeline([('vec',TfidfVectorizer()),('clf',RandomForestClassifier())])"
   ]
  },
  {
   "cell_type": "code",
   "execution_count": 22,
   "metadata": {},
   "outputs": [],
   "source": [
    "##training all the models\n",
    "def fit_all(lst,X,y):\n",
    "    lis = []\n",
    "    for pip in lst:\n",
    "        pip.fit(X,y)\n",
    "        lis.append(pip)\n",
    "    return lis"
   ]
  },
  {
   "cell_type": "code",
   "execution_count": 23,
   "metadata": {},
   "outputs": [],
   "source": [
    "trained = fit_all([lsv,sv,lg,mnb,xgb,rf],X_train,y_train)"
   ]
  },
  {
   "cell_type": "code",
   "execution_count": 24,
   "metadata": {},
   "outputs": [
    {
     "data": {
      "text/plain": [
       "[Pipeline(steps=[('vec', TfidfVectorizer()), ('clf', LinearSVC())]),\n",
       " Pipeline(steps=[('vec', TfidfVectorizer()), ('clf', SVC())]),\n",
       " Pipeline(steps=[('vec', TfidfVectorizer()),\n",
       "                 ('clf',\n",
       "                  LogisticRegression(class_weight='balanced', max_iter=10000))]),\n",
       " Pipeline(steps=[('vec', TfidfVectorizer()), ('clf', MultinomialNB())]),\n",
       " Pipeline(steps=[('vec', TfidfVectorizer()),\n",
       "                 ('clf',\n",
       "                  XGBClassifier(base_score=0.5, booster='gbtree',\n",
       "                                colsample_bylevel=1, colsample_bynode=1,\n",
       "                                colsample_bytree=1, gamma=0, gpu_id=-1,\n",
       "                                importance_type='gain',\n",
       "                                interaction_constraints='',\n",
       "                                learning_rate=0.300000012, max_delta_step=0,\n",
       "                                max_depth=6, min_child_weight=1, missing=nan,\n",
       "                                monotone_constraints='()', n_estimators=100,\n",
       "                                n_jobs=0, num_parallel_tree=1,\n",
       "                                objective='multi:softprob', random_state=0,\n",
       "                                reg_alpha=0, reg_lambda=1, scale_pos_weight=None,\n",
       "                                subsample=1, tree_method='exact',\n",
       "                                validate_parameters=1, verbosity=None))]),\n",
       " Pipeline(steps=[('vec', TfidfVectorizer()), ('clf', RandomForestClassifier())])]"
      ]
     },
     "execution_count": 24,
     "metadata": {},
     "output_type": "execute_result"
    }
   ],
   "source": [
    "trained"
   ]
  },
  {
   "cell_type": "code",
   "execution_count": 25,
   "metadata": {},
   "outputs": [],
   "source": [
    "##making predictions for each trained model\n",
    "\n",
    "##LinearSV\n",
    "lsvc_pred= trained[0].predict(X_test)\n",
    "##SVC\n",
    "svc_pred= trained[1].predict(X_test)\n",
    "##Logistic\n",
    "lg_pred= trained[2].predict(X_test)\n",
    "##MultinomialNB\n",
    "mnb_pred= trained[3].predict(X_test)\n",
    "##Xgboost\n",
    "xgb_pred = trained[4].predict(X_test)\n",
    "##Random forest\n",
    "rf_pred = trained[5].predict(X_test)"
   ]
  },
  {
   "cell_type": "code",
   "execution_count": 26,
   "metadata": {},
   "outputs": [],
   "source": [
    "from sklearn.metrics import classification_report,mean_squared_error"
   ]
  },
  {
   "cell_type": "code",
   "execution_count": 27,
   "metadata": {},
   "outputs": [
    {
     "name": "stdout",
     "output_type": "stream",
     "text": [
      "LinearSV\n",
      "              precision    recall  f1-score   support\n",
      "\n",
      "        -1.0       0.58      0.30      0.39       240\n",
      "         0.0       0.77      0.80      0.79       943\n",
      "         1.0       0.69      0.76      0.72       817\n",
      "\n",
      "    accuracy                           0.72      2000\n",
      "   macro avg       0.68      0.62      0.63      2000\n",
      "weighted avg       0.72      0.72      0.71      2000\n",
      "\n",
      "\n",
      "\n",
      "\n",
      "SVC\n",
      "              precision    recall  f1-score   support\n",
      "\n",
      "        -1.0       0.85      0.14      0.24       240\n",
      "         0.0       0.78      0.85      0.81       943\n",
      "         1.0       0.69      0.78      0.73       817\n",
      "\n",
      "    accuracy                           0.73      2000\n",
      "   macro avg       0.77      0.59      0.59      2000\n",
      "weighted avg       0.75      0.73      0.71      2000\n",
      "\n",
      "\n",
      "\n",
      "\n",
      "LOgistc\n",
      "              precision    recall  f1-score   support\n",
      "\n",
      "        -1.0       0.42      0.58      0.49       240\n",
      "         0.0       0.83      0.79      0.81       943\n",
      "         1.0       0.73      0.69      0.71       817\n",
      "\n",
      "    accuracy                           0.73      2000\n",
      "   macro avg       0.66      0.69      0.67      2000\n",
      "weighted avg       0.74      0.72      0.73      2000\n",
      "\n",
      "\n",
      "\n",
      "\n",
      "Multinomial\n",
      "              precision    recall  f1-score   support\n",
      "\n",
      "        -1.0       1.00      0.01      0.02       240\n",
      "         0.0       0.75      0.79      0.77       943\n",
      "         1.0       0.64      0.79      0.70       817\n",
      "\n",
      "    accuracy                           0.69      2000\n",
      "   macro avg       0.80      0.53      0.50      2000\n",
      "weighted avg       0.74      0.69      0.65      2000\n",
      "\n",
      "\n",
      "\n",
      "\n",
      "Xgboot\n",
      "              precision    recall  f1-score   support\n",
      "\n",
      "        -1.0       0.64      0.23      0.33       240\n",
      "         0.0       0.79      0.84      0.81       943\n",
      "         1.0       0.69      0.77      0.73       817\n",
      "\n",
      "    accuracy                           0.74      2000\n",
      "   macro avg       0.71      0.61      0.62      2000\n",
      "weighted avg       0.73      0.74      0.72      2000\n",
      "\n",
      "\n",
      "\n",
      "\n",
      "Random forest\n",
      "              precision    recall  f1-score   support\n",
      "\n",
      "        -1.0       0.73      0.10      0.18       240\n",
      "         0.0       0.77      0.83      0.80       943\n",
      "         1.0       0.67      0.77      0.72       817\n",
      "\n",
      "    accuracy                           0.72      2000\n",
      "   macro avg       0.72      0.57      0.56      2000\n",
      "weighted avg       0.72      0.72      0.69      2000\n",
      "\n"
     ]
    }
   ],
   "source": [
    "##evaluation of the models\n",
    "\n",
    "print('LinearSV')\n",
    "print(classification_report(y_test,lsvc_pred))\n",
    "print('\\n\\n')\n",
    "print('SVC')\n",
    "print(classification_report(y_test,svc_pred))\n",
    "print('\\n\\n')\n",
    "print('LOgistc')\n",
    "print(classification_report(y_test,lg_pred))\n",
    "print('\\n\\n')\n",
    "print('Multinomial')\n",
    "print(classification_report(y_test,mnb_pred))\n",
    "print('\\n\\n')\n",
    "print('Xgboot')\n",
    "print(classification_report(y_test,xgb_pred))\n",
    "print('\\n\\n')\n",
    "print('Random forest')\n",
    "print(classification_report(y_test,rf_pred))"
   ]
  },
  {
   "cell_type": "code",
   "execution_count": 28,
   "metadata": {},
   "outputs": [
    {
     "name": "stdout",
     "output_type": "stream",
     "text": [
      "LinearSV\n",
      "0.700713921654194\n",
      "\n",
      "\n",
      "\n",
      "SVC\n",
      "0.7042726744663603\n",
      "\n",
      "\n",
      "\n",
      "LOgistc\n",
      "0.7592759709091287\n",
      "\n",
      "\n",
      "\n",
      "Multinomial\n",
      "0.7443117626371358\n",
      "\n",
      "\n",
      "\n",
      "Xgboot\n",
      "0.7099295739719539\n",
      "\n",
      "\n",
      "\n",
      "Random forest\n",
      "0.7276675064890558\n"
     ]
    }
   ],
   "source": [
    "import numpy as np\n",
    "\n",
    "print('LinearSV')\n",
    "print(np.sqrt(mean_squared_error(y_test,lsvc_pred)))\n",
    "print('\\n\\n')\n",
    "print('SVC')\n",
    "print(np.sqrt(mean_squared_error(y_test,svc_pred)))\n",
    "print('\\n\\n')\n",
    "print('LOgistc')\n",
    "print(np.sqrt(mean_squared_error(y_test,lg_pred)))\n",
    "print('\\n\\n')\n",
    "print('Multinomial')\n",
    "print(np.sqrt(mean_squared_error(y_test,mnb_pred)))\n",
    "print('\\n\\n')\n",
    "print('Xgboot')\n",
    "print(np.sqrt(mean_squared_error(y_test,xgb_pred)))\n",
    "print('\\n\\n')\n",
    "print('Random forest')\n",
    "print(np.sqrt(mean_squared_error(y_test,rf_pred)))"
   ]
  },
  {
   "cell_type": "code",
   "execution_count": 29,
   "metadata": {},
   "outputs": [],
   "source": [
    "from sklearn.model_selection import GridSearchCV\n",
    "\n",
    "##hyperparameter tunning"
   ]
  },
  {
   "cell_type": "code",
   "execution_count": 30,
   "metadata": {},
   "outputs": [
    {
     "data": {
      "text/plain": [
       "GridSearchCV(estimator=Pipeline(steps=[('vec', TfidfVectorizer()),\n",
       "                                       ('clf',\n",
       "                                        LogisticRegression(class_weight='balanced',\n",
       "                                                           max_iter=10000))]),\n",
       "             n_jobs=-1,\n",
       "             param_grid={'clf__C': array([  1.        ,   1.09854114,   1.20679264,   1.32571137,\n",
       "         1.45634848,   1.59985872,   1.75751062,   1.93069773,\n",
       "         2.12095089,   2.32995181,   2.55954792,   2.8117687 ,\n",
       "         3.0888436 ,   3.39322177,   3.72759372,   4.09491506,\n",
       "         4.49843267,   4...2,\n",
       "         6.55128557,   7.19685673,   7.90604321,   8.68511374,\n",
       "         9.54095476,  10.48113134,  11.51395399,  12.64855217,\n",
       "        13.89495494,  15.26417967,  16.76832937,  18.42069969,\n",
       "        20.23589648,  22.22996483,  24.42053095,  26.82695795,\n",
       "        29.47051703,  32.37457543,  35.56480306,  39.06939937,\n",
       "        42.9193426 ,  47.14866363,  51.79474679,  56.89866029,\n",
       "        62.50551925,  68.6648845 ,  75.43120063,  82.86427729,\n",
       "        91.0298178 , 100.        ])})"
      ]
     },
     "execution_count": 30,
     "metadata": {},
     "output_type": "execute_result"
    }
   ],
   "source": [
    "param_grid = {\n",
    "    'clf__C': np.logspace(0, 2)\n",
    "}\n",
    "search = GridSearchCV(lg, param_grid, n_jobs=-1)\n",
    "search.fit(X_train, y_train)"
   ]
  },
  {
   "cell_type": "code",
   "execution_count": 31,
   "metadata": {},
   "outputs": [
    {
     "data": {
      "text/plain": [
       "{'clf__C': 4.094915062380425}"
      ]
     },
     "execution_count": 31,
     "metadata": {},
     "output_type": "execute_result"
    }
   ],
   "source": [
    "search.best_params_"
   ]
  },
  {
   "cell_type": "code",
   "execution_count": 32,
   "metadata": {},
   "outputs": [],
   "source": [
    "predic = search.best_estimator_.predict(X_test)"
   ]
  },
  {
   "cell_type": "code",
   "execution_count": 33,
   "metadata": {},
   "outputs": [
    {
     "name": "stdout",
     "output_type": "stream",
     "text": [
      "The root mean square error is 0.7483314773547883\n"
     ]
    }
   ],
   "source": [
    "print(f\"The root mean square error is {np.sqrt(mean_squared_error(y_test,predic))}\")"
   ]
  },
  {
   "cell_type": "code",
   "execution_count": 36,
   "metadata": {},
   "outputs": [],
   "source": [
    "df_test.dropna(inplace=True)"
   ]
  },
  {
   "cell_type": "code",
   "execution_count": 37,
   "metadata": {},
   "outputs": [],
   "source": [
    "X_val = df_test['safe_text']"
   ]
  },
  {
   "cell_type": "code",
   "execution_count": 38,
   "metadata": {},
   "outputs": [],
   "source": [
    "df_test['label']=search.best_estimator_.predict(X_val)"
   ]
  },
  {
   "cell_type": "code",
   "execution_count": 39,
   "metadata": {},
   "outputs": [],
   "source": [
    "submision5 = df_test[['tweet_id','label']]"
   ]
  },
  {
   "cell_type": "code",
   "execution_count": 40,
   "metadata": {},
   "outputs": [],
   "source": [
    "submision5.to_csv('submision5.csv',index=False)"
   ]
  },
  {
   "cell_type": "code",
   "execution_count": null,
   "metadata": {},
   "outputs": [],
   "source": []
  },
  {
   "cell_type": "code",
   "execution_count": null,
   "metadata": {},
   "outputs": [],
   "source": []
  },
  {
   "cell_type": "code",
   "execution_count": null,
   "metadata": {},
   "outputs": [],
   "source": []
  },
  {
   "cell_type": "code",
   "execution_count": 41,
   "metadata": {},
   "outputs": [],
   "source": [
    "##making prediction on the test set"
   ]
  },
  {
   "cell_type": "code",
   "execution_count": 42,
   "metadata": {},
   "outputs": [],
   "source": [
    "df_test.dropna(inplace=True)"
   ]
  },
  {
   "cell_type": "code",
   "execution_count": 43,
   "metadata": {},
   "outputs": [],
   "source": [
    "X_val = df_test['safe_text']\n"
   ]
  },
  {
   "cell_type": "code",
   "execution_count": 44,
   "metadata": {},
   "outputs": [],
   "source": [
    "df_test['label']=lg.predict(X_val)"
   ]
  },
  {
   "cell_type": "code",
   "execution_count": 45,
   "metadata": {},
   "outputs": [
    {
     "data": {
      "text/html": [
       "<div>\n",
       "<style scoped>\n",
       "    .dataframe tbody tr th:only-of-type {\n",
       "        vertical-align: middle;\n",
       "    }\n",
       "\n",
       "    .dataframe tbody tr th {\n",
       "        vertical-align: top;\n",
       "    }\n",
       "\n",
       "    .dataframe thead th {\n",
       "        text-align: right;\n",
       "    }\n",
       "</style>\n",
       "<table border=\"1\" class=\"dataframe\">\n",
       "  <thead>\n",
       "    <tr style=\"text-align: right;\">\n",
       "      <th></th>\n",
       "      <th>tweet_id</th>\n",
       "      <th>safe_text</th>\n",
       "      <th>label</th>\n",
       "    </tr>\n",
       "  </thead>\n",
       "  <tbody>\n",
       "    <tr>\n",
       "      <th>0</th>\n",
       "      <td>00BHHHP1</td>\n",
       "      <td>&lt;user&gt; &lt;user&gt; ... &amp;amp; 4 a vaccine given 2 he...</td>\n",
       "      <td>-1.0</td>\n",
       "    </tr>\n",
       "    <tr>\n",
       "      <th>1</th>\n",
       "      <td>00UNMD0E</td>\n",
       "      <td>Students starting school without whooping coug...</td>\n",
       "      <td>1.0</td>\n",
       "    </tr>\n",
       "    <tr>\n",
       "      <th>2</th>\n",
       "      <td>01AXPTJF</td>\n",
       "      <td>I'm kinda over every ep of &lt;user&gt; being \"rippe...</td>\n",
       "      <td>0.0</td>\n",
       "    </tr>\n",
       "    <tr>\n",
       "      <th>3</th>\n",
       "      <td>01HOEQJW</td>\n",
       "      <td>How many innocent children die for lack of vac...</td>\n",
       "      <td>1.0</td>\n",
       "    </tr>\n",
       "    <tr>\n",
       "      <th>4</th>\n",
       "      <td>01JUKMAO</td>\n",
       "      <td>CDC eyeing bird flu vaccine for humans, though...</td>\n",
       "      <td>0.0</td>\n",
       "    </tr>\n",
       "  </tbody>\n",
       "</table>\n",
       "</div>"
      ],
      "text/plain": [
       "   tweet_id                                          safe_text  label\n",
       "0  00BHHHP1  <user> <user> ... &amp; 4 a vaccine given 2 he...   -1.0\n",
       "1  00UNMD0E  Students starting school without whooping coug...    1.0\n",
       "2  01AXPTJF  I'm kinda over every ep of <user> being \"rippe...    0.0\n",
       "3  01HOEQJW  How many innocent children die for lack of vac...    1.0\n",
       "4  01JUKMAO  CDC eyeing bird flu vaccine for humans, though...    0.0"
      ]
     },
     "execution_count": 45,
     "metadata": {},
     "output_type": "execute_result"
    }
   ],
   "source": [
    "df_test.head()"
   ]
  },
  {
   "cell_type": "code",
   "execution_count": 47,
   "metadata": {},
   "outputs": [],
   "source": [
    "submision = df_test[['tweet_id','label']]"
   ]
  },
  {
   "cell_type": "code",
   "execution_count": 48,
   "metadata": {},
   "outputs": [],
   "source": [
    "submision.to_csv('submision1.csv',index=False)"
   ]
  },
  {
   "cell_type": "code",
   "execution_count": 49,
   "metadata": {},
   "outputs": [],
   "source": [
    "################################################### working on submission2 ###############################\n",
    "lg2 = Pipeline([('vec',TfidfVectorizer()),('clf',LogisticRegression(multi_class=\"multinomial\"))])"
   ]
  },
  {
   "cell_type": "code",
   "execution_count": 50,
   "metadata": {},
   "outputs": [
    {
     "data": {
      "text/plain": [
       "Pipeline(steps=[('vec', TfidfVectorizer()),\n",
       "                ('clf', LogisticRegression(multi_class='multinomial'))])"
      ]
     },
     "execution_count": 50,
     "metadata": {},
     "output_type": "execute_result"
    }
   ],
   "source": [
    "lg2.fit(X_train,y_train)"
   ]
  },
  {
   "cell_type": "code",
   "execution_count": 51,
   "metadata": {},
   "outputs": [],
   "source": [
    "lg2_pred=lg2.predict(X_test)"
   ]
  },
  {
   "cell_type": "code",
   "execution_count": 52,
   "metadata": {},
   "outputs": [
    {
     "name": "stdout",
     "output_type": "stream",
     "text": [
      "The root mean square error is 0.6902897942168926\n"
     ]
    }
   ],
   "source": [
    "print(f\"The root mean square error is {np.sqrt(mean_squared_error(y_test,lg2_pred))}\")"
   ]
  },
  {
   "cell_type": "code",
   "execution_count": 53,
   "metadata": {},
   "outputs": [],
   "source": [
    "df1 = df_train.copy()"
   ]
  },
  {
   "cell_type": "code",
   "execution_count": 54,
   "metadata": {},
   "outputs": [],
   "source": [
    "import string\n",
    "from nltk.corpus import stopwords"
   ]
  },
  {
   "cell_type": "code",
   "execution_count": 55,
   "metadata": {},
   "outputs": [],
   "source": [
    "from nltk.tokenize import RegexpTokenizer"
   ]
  },
  {
   "cell_type": "code",
   "execution_count": 56,
   "metadata": {},
   "outputs": [],
   "source": [
    "##removing puntuations\n",
    "def remove_punc(string1):\n",
    "    tokenizer = RegexpTokenizer(r'\\w+')\n",
    "    return ' '.join(tokenizer.tokenize(string1))\n",
    "     \n",
    "    "
   ]
  },
  {
   "cell_type": "code",
   "execution_count": 57,
   "metadata": {},
   "outputs": [],
   "source": [
    "df1[\"no_puct\"]=df1['safe_text'].apply(remove_punc)"
   ]
  },
  {
   "cell_type": "code",
   "execution_count": 58,
   "metadata": {},
   "outputs": [
    {
     "data": {
      "text/html": [
       "<div>\n",
       "<style scoped>\n",
       "    .dataframe tbody tr th:only-of-type {\n",
       "        vertical-align: middle;\n",
       "    }\n",
       "\n",
       "    .dataframe tbody tr th {\n",
       "        vertical-align: top;\n",
       "    }\n",
       "\n",
       "    .dataframe thead th {\n",
       "        text-align: right;\n",
       "    }\n",
       "</style>\n",
       "<table border=\"1\" class=\"dataframe\">\n",
       "  <thead>\n",
       "    <tr style=\"text-align: right;\">\n",
       "      <th></th>\n",
       "      <th>tweet_id</th>\n",
       "      <th>safe_text</th>\n",
       "      <th>label</th>\n",
       "      <th>agreement</th>\n",
       "      <th>no_puct</th>\n",
       "    </tr>\n",
       "  </thead>\n",
       "  <tbody>\n",
       "    <tr>\n",
       "      <th>0</th>\n",
       "      <td>CL1KWCMY</td>\n",
       "      <td>Me &amp;amp; The Big Homie meanboy3000 #MEANBOY #M...</td>\n",
       "      <td>0.0</td>\n",
       "      <td>1.0</td>\n",
       "      <td>Me amp The Big Homie meanboy3000 MEANBOY MB MB...</td>\n",
       "    </tr>\n",
       "    <tr>\n",
       "      <th>1</th>\n",
       "      <td>E3303EME</td>\n",
       "      <td>I'm 100% thinking of devoting my career to pro...</td>\n",
       "      <td>1.0</td>\n",
       "      <td>1.0</td>\n",
       "      <td>I m 100 thinking of devoting my career to prov...</td>\n",
       "    </tr>\n",
       "    <tr>\n",
       "      <th>2</th>\n",
       "      <td>M4IVFSMS</td>\n",
       "      <td>#whatcausesautism VACCINES, DO NOT VACCINATE Y...</td>\n",
       "      <td>-1.0</td>\n",
       "      <td>1.0</td>\n",
       "      <td>whatcausesautism VACCINES DO NOT VACCINATE YOU...</td>\n",
       "    </tr>\n",
       "    <tr>\n",
       "      <th>3</th>\n",
       "      <td>1DR6ROZ4</td>\n",
       "      <td>I mean if they immunize my kid with something ...</td>\n",
       "      <td>-1.0</td>\n",
       "      <td>1.0</td>\n",
       "      <td>I mean if they immunize my kid with something ...</td>\n",
       "    </tr>\n",
       "    <tr>\n",
       "      <th>4</th>\n",
       "      <td>J77ENIIE</td>\n",
       "      <td>Thanks to &lt;user&gt; Catch me performing at La Nui...</td>\n",
       "      <td>0.0</td>\n",
       "      <td>1.0</td>\n",
       "      <td>Thanks to user Catch me performing at La Nuit ...</td>\n",
       "    </tr>\n",
       "  </tbody>\n",
       "</table>\n",
       "</div>"
      ],
      "text/plain": [
       "   tweet_id                                          safe_text  label  \\\n",
       "0  CL1KWCMY  Me &amp; The Big Homie meanboy3000 #MEANBOY #M...    0.0   \n",
       "1  E3303EME  I'm 100% thinking of devoting my career to pro...    1.0   \n",
       "2  M4IVFSMS  #whatcausesautism VACCINES, DO NOT VACCINATE Y...   -1.0   \n",
       "3  1DR6ROZ4  I mean if they immunize my kid with something ...   -1.0   \n",
       "4  J77ENIIE  Thanks to <user> Catch me performing at La Nui...    0.0   \n",
       "\n",
       "   agreement                                            no_puct  \n",
       "0        1.0  Me amp The Big Homie meanboy3000 MEANBOY MB MB...  \n",
       "1        1.0  I m 100 thinking of devoting my career to prov...  \n",
       "2        1.0  whatcausesautism VACCINES DO NOT VACCINATE YOU...  \n",
       "3        1.0  I mean if they immunize my kid with something ...  \n",
       "4        1.0  Thanks to user Catch me performing at La Nuit ...  "
      ]
     },
     "execution_count": 58,
     "metadata": {},
     "output_type": "execute_result"
    }
   ],
   "source": [
    "df1.head()"
   ]
  },
  {
   "cell_type": "code",
   "execution_count": 59,
   "metadata": {},
   "outputs": [],
   "source": [
    "##converting to lowercase\n",
    "def lower_case(string1):\n",
    "    return string1.lower()"
   ]
  },
  {
   "cell_type": "code",
   "execution_count": 60,
   "metadata": {},
   "outputs": [
    {
     "data": {
      "text/plain": [
       "'marumo abel'"
      ]
     },
     "execution_count": 60,
     "metadata": {},
     "output_type": "execute_result"
    }
   ],
   "source": [
    "lower_case(\"MARUMO ABEL\")"
   ]
  },
  {
   "cell_type": "code",
   "execution_count": 61,
   "metadata": {},
   "outputs": [],
   "source": [
    "df1[\"lower_case\"]=df1['no_puct'].apply(lower_case)"
   ]
  },
  {
   "cell_type": "code",
   "execution_count": 62,
   "metadata": {},
   "outputs": [
    {
     "data": {
      "text/html": [
       "<div>\n",
       "<style scoped>\n",
       "    .dataframe tbody tr th:only-of-type {\n",
       "        vertical-align: middle;\n",
       "    }\n",
       "\n",
       "    .dataframe tbody tr th {\n",
       "        vertical-align: top;\n",
       "    }\n",
       "\n",
       "    .dataframe thead th {\n",
       "        text-align: right;\n",
       "    }\n",
       "</style>\n",
       "<table border=\"1\" class=\"dataframe\">\n",
       "  <thead>\n",
       "    <tr style=\"text-align: right;\">\n",
       "      <th></th>\n",
       "      <th>tweet_id</th>\n",
       "      <th>safe_text</th>\n",
       "      <th>label</th>\n",
       "      <th>agreement</th>\n",
       "      <th>no_puct</th>\n",
       "      <th>lower_case</th>\n",
       "    </tr>\n",
       "  </thead>\n",
       "  <tbody>\n",
       "    <tr>\n",
       "      <th>0</th>\n",
       "      <td>CL1KWCMY</td>\n",
       "      <td>Me &amp;amp; The Big Homie meanboy3000 #MEANBOY #M...</td>\n",
       "      <td>0.0</td>\n",
       "      <td>1.0</td>\n",
       "      <td>Me amp The Big Homie meanboy3000 MEANBOY MB MB...</td>\n",
       "      <td>me amp the big homie meanboy3000 meanboy mb mb...</td>\n",
       "    </tr>\n",
       "    <tr>\n",
       "      <th>1</th>\n",
       "      <td>E3303EME</td>\n",
       "      <td>I'm 100% thinking of devoting my career to pro...</td>\n",
       "      <td>1.0</td>\n",
       "      <td>1.0</td>\n",
       "      <td>I m 100 thinking of devoting my career to prov...</td>\n",
       "      <td>i m 100 thinking of devoting my career to prov...</td>\n",
       "    </tr>\n",
       "    <tr>\n",
       "      <th>2</th>\n",
       "      <td>M4IVFSMS</td>\n",
       "      <td>#whatcausesautism VACCINES, DO NOT VACCINATE Y...</td>\n",
       "      <td>-1.0</td>\n",
       "      <td>1.0</td>\n",
       "      <td>whatcausesautism VACCINES DO NOT VACCINATE YOU...</td>\n",
       "      <td>whatcausesautism vaccines do not vaccinate you...</td>\n",
       "    </tr>\n",
       "    <tr>\n",
       "      <th>3</th>\n",
       "      <td>1DR6ROZ4</td>\n",
       "      <td>I mean if they immunize my kid with something ...</td>\n",
       "      <td>-1.0</td>\n",
       "      <td>1.0</td>\n",
       "      <td>I mean if they immunize my kid with something ...</td>\n",
       "      <td>i mean if they immunize my kid with something ...</td>\n",
       "    </tr>\n",
       "    <tr>\n",
       "      <th>4</th>\n",
       "      <td>J77ENIIE</td>\n",
       "      <td>Thanks to &lt;user&gt; Catch me performing at La Nui...</td>\n",
       "      <td>0.0</td>\n",
       "      <td>1.0</td>\n",
       "      <td>Thanks to user Catch me performing at La Nuit ...</td>\n",
       "      <td>thanks to user catch me performing at la nuit ...</td>\n",
       "    </tr>\n",
       "  </tbody>\n",
       "</table>\n",
       "</div>"
      ],
      "text/plain": [
       "   tweet_id                                          safe_text  label  \\\n",
       "0  CL1KWCMY  Me &amp; The Big Homie meanboy3000 #MEANBOY #M...    0.0   \n",
       "1  E3303EME  I'm 100% thinking of devoting my career to pro...    1.0   \n",
       "2  M4IVFSMS  #whatcausesautism VACCINES, DO NOT VACCINATE Y...   -1.0   \n",
       "3  1DR6ROZ4  I mean if they immunize my kid with something ...   -1.0   \n",
       "4  J77ENIIE  Thanks to <user> Catch me performing at La Nui...    0.0   \n",
       "\n",
       "   agreement                                            no_puct  \\\n",
       "0        1.0  Me amp The Big Homie meanboy3000 MEANBOY MB MB...   \n",
       "1        1.0  I m 100 thinking of devoting my career to prov...   \n",
       "2        1.0  whatcausesautism VACCINES DO NOT VACCINATE YOU...   \n",
       "3        1.0  I mean if they immunize my kid with something ...   \n",
       "4        1.0  Thanks to user Catch me performing at La Nuit ...   \n",
       "\n",
       "                                          lower_case  \n",
       "0  me amp the big homie meanboy3000 meanboy mb mb...  \n",
       "1  i m 100 thinking of devoting my career to prov...  \n",
       "2  whatcausesautism vaccines do not vaccinate you...  \n",
       "3  i mean if they immunize my kid with something ...  \n",
       "4  thanks to user catch me performing at la nuit ...  "
      ]
     },
     "execution_count": 62,
     "metadata": {},
     "output_type": "execute_result"
    }
   ],
   "source": [
    "df1.head()"
   ]
  },
  {
   "cell_type": "code",
   "execution_count": 63,
   "metadata": {},
   "outputs": [],
   "source": [
    "###removing numbers\n",
    "def remove_numbers(string1):\n",
    "    return ''.join(i for i in string1 if i not in '0123456789')"
   ]
  },
  {
   "cell_type": "code",
   "execution_count": 64,
   "metadata": {},
   "outputs": [
    {
     "data": {
      "text/plain": [
       "'marumo abel'"
      ]
     },
     "execution_count": 64,
     "metadata": {},
     "output_type": "execute_result"
    }
   ],
   "source": [
    "remove_numbers('marumo1 abel2')"
   ]
  },
  {
   "cell_type": "code",
   "execution_count": 65,
   "metadata": {},
   "outputs": [],
   "source": [
    "df1['no_numbers']=df1['lower_case'].apply(remove_numbers)"
   ]
  },
  {
   "cell_type": "code",
   "execution_count": 66,
   "metadata": {},
   "outputs": [
    {
     "data": {
      "text/html": [
       "<div>\n",
       "<style scoped>\n",
       "    .dataframe tbody tr th:only-of-type {\n",
       "        vertical-align: middle;\n",
       "    }\n",
       "\n",
       "    .dataframe tbody tr th {\n",
       "        vertical-align: top;\n",
       "    }\n",
       "\n",
       "    .dataframe thead th {\n",
       "        text-align: right;\n",
       "    }\n",
       "</style>\n",
       "<table border=\"1\" class=\"dataframe\">\n",
       "  <thead>\n",
       "    <tr style=\"text-align: right;\">\n",
       "      <th></th>\n",
       "      <th>tweet_id</th>\n",
       "      <th>safe_text</th>\n",
       "      <th>label</th>\n",
       "      <th>agreement</th>\n",
       "      <th>no_puct</th>\n",
       "      <th>lower_case</th>\n",
       "      <th>no_numbers</th>\n",
       "    </tr>\n",
       "  </thead>\n",
       "  <tbody>\n",
       "    <tr>\n",
       "      <th>0</th>\n",
       "      <td>CL1KWCMY</td>\n",
       "      <td>Me &amp;amp; The Big Homie meanboy3000 #MEANBOY #M...</td>\n",
       "      <td>0.0</td>\n",
       "      <td>1.0</td>\n",
       "      <td>Me amp The Big Homie meanboy3000 MEANBOY MB MB...</td>\n",
       "      <td>me amp the big homie meanboy3000 meanboy mb mb...</td>\n",
       "      <td>me amp the big homie meanboy meanboy mb mbs mm...</td>\n",
       "    </tr>\n",
       "    <tr>\n",
       "      <th>1</th>\n",
       "      <td>E3303EME</td>\n",
       "      <td>I'm 100% thinking of devoting my career to pro...</td>\n",
       "      <td>1.0</td>\n",
       "      <td>1.0</td>\n",
       "      <td>I m 100 thinking of devoting my career to prov...</td>\n",
       "      <td>i m 100 thinking of devoting my career to prov...</td>\n",
       "      <td>i m  thinking of devoting my career to proving...</td>\n",
       "    </tr>\n",
       "    <tr>\n",
       "      <th>2</th>\n",
       "      <td>M4IVFSMS</td>\n",
       "      <td>#whatcausesautism VACCINES, DO NOT VACCINATE Y...</td>\n",
       "      <td>-1.0</td>\n",
       "      <td>1.0</td>\n",
       "      <td>whatcausesautism VACCINES DO NOT VACCINATE YOU...</td>\n",
       "      <td>whatcausesautism vaccines do not vaccinate you...</td>\n",
       "      <td>whatcausesautism vaccines do not vaccinate you...</td>\n",
       "    </tr>\n",
       "    <tr>\n",
       "      <th>3</th>\n",
       "      <td>1DR6ROZ4</td>\n",
       "      <td>I mean if they immunize my kid with something ...</td>\n",
       "      <td>-1.0</td>\n",
       "      <td>1.0</td>\n",
       "      <td>I mean if they immunize my kid with something ...</td>\n",
       "      <td>i mean if they immunize my kid with something ...</td>\n",
       "      <td>i mean if they immunize my kid with something ...</td>\n",
       "    </tr>\n",
       "    <tr>\n",
       "      <th>4</th>\n",
       "      <td>J77ENIIE</td>\n",
       "      <td>Thanks to &lt;user&gt; Catch me performing at La Nui...</td>\n",
       "      <td>0.0</td>\n",
       "      <td>1.0</td>\n",
       "      <td>Thanks to user Catch me performing at La Nuit ...</td>\n",
       "      <td>thanks to user catch me performing at la nuit ...</td>\n",
       "      <td>thanks to user catch me performing at la nuit ...</td>\n",
       "    </tr>\n",
       "  </tbody>\n",
       "</table>\n",
       "</div>"
      ],
      "text/plain": [
       "   tweet_id                                          safe_text  label  \\\n",
       "0  CL1KWCMY  Me &amp; The Big Homie meanboy3000 #MEANBOY #M...    0.0   \n",
       "1  E3303EME  I'm 100% thinking of devoting my career to pro...    1.0   \n",
       "2  M4IVFSMS  #whatcausesautism VACCINES, DO NOT VACCINATE Y...   -1.0   \n",
       "3  1DR6ROZ4  I mean if they immunize my kid with something ...   -1.0   \n",
       "4  J77ENIIE  Thanks to <user> Catch me performing at La Nui...    0.0   \n",
       "\n",
       "   agreement                                            no_puct  \\\n",
       "0        1.0  Me amp The Big Homie meanboy3000 MEANBOY MB MB...   \n",
       "1        1.0  I m 100 thinking of devoting my career to prov...   \n",
       "2        1.0  whatcausesautism VACCINES DO NOT VACCINATE YOU...   \n",
       "3        1.0  I mean if they immunize my kid with something ...   \n",
       "4        1.0  Thanks to user Catch me performing at La Nuit ...   \n",
       "\n",
       "                                          lower_case  \\\n",
       "0  me amp the big homie meanboy3000 meanboy mb mb...   \n",
       "1  i m 100 thinking of devoting my career to prov...   \n",
       "2  whatcausesautism vaccines do not vaccinate you...   \n",
       "3  i mean if they immunize my kid with something ...   \n",
       "4  thanks to user catch me performing at la nuit ...   \n",
       "\n",
       "                                          no_numbers  \n",
       "0  me amp the big homie meanboy meanboy mb mbs mm...  \n",
       "1  i m  thinking of devoting my career to proving...  \n",
       "2  whatcausesautism vaccines do not vaccinate you...  \n",
       "3  i mean if they immunize my kid with something ...  \n",
       "4  thanks to user catch me performing at la nuit ...  "
      ]
     },
     "execution_count": 66,
     "metadata": {},
     "output_type": "execute_result"
    }
   ],
   "source": [
    "df1.head()"
   ]
  },
  {
   "cell_type": "code",
   "execution_count": 67,
   "metadata": {},
   "outputs": [],
   "source": [
    "##spiling the data\n",
    "X1 = df1['no_numbers']\n",
    "y1 = df1['label']"
   ]
  },
  {
   "cell_type": "code",
   "execution_count": 68,
   "metadata": {},
   "outputs": [],
   "source": [
    " X_train1, X_test1, y_train1, y_test1= train_test_split(X1, y1, test_size=0.2, random_state=42)"
   ]
  },
  {
   "cell_type": "code",
   "execution_count": 69,
   "metadata": {},
   "outputs": [],
   "source": [
    "lsv1 = Pipeline([('vec',TfidfVectorizer()),('clf',LinearSVC())])\n",
    "sv1 = Pipeline([('vec',TfidfVectorizer()),('clf',SVC())])\n",
    "lg1 = Pipeline([('vec',TfidfVectorizer()),('clf',LogisticRegression(multi_class='multinomial'))])\n",
    "mnb1 = Pipeline([('vec',TfidfVectorizer()),('clf',MultinomialNB())])\n",
    "xgb1 = Pipeline([('vec',TfidfVectorizer()),('clf',XGBClassifier())])\n",
    "rf1 = Pipeline([('vec',TfidfVectorizer()),('clf',RandomForestClassifier())])"
   ]
  },
  {
   "cell_type": "code",
   "execution_count": 70,
   "metadata": {},
   "outputs": [
    {
     "data": {
      "text/plain": [
       "GridSearchCV(estimator=Pipeline(steps=[('vec', TfidfVectorizer()),\n",
       "                                       ('clf',\n",
       "                                        LogisticRegression(class_weight='balanced',\n",
       "                                                           max_iter=10000))]),\n",
       "             n_jobs=-1,\n",
       "             param_grid={'clf__C': array([  1.        ,   1.09854114,   1.20679264,   1.32571137,\n",
       "         1.45634848,   1.59985872,   1.75751062,   1.93069773,\n",
       "         2.12095089,   2.32995181,   2.55954792,   2.8117687 ,\n",
       "         3.0888436 ,   3.39322177,   3.72759372,   4.09491506,\n",
       "         4.49843267,   4...2,\n",
       "         6.55128557,   7.19685673,   7.90604321,   8.68511374,\n",
       "         9.54095476,  10.48113134,  11.51395399,  12.64855217,\n",
       "        13.89495494,  15.26417967,  16.76832937,  18.42069969,\n",
       "        20.23589648,  22.22996483,  24.42053095,  26.82695795,\n",
       "        29.47051703,  32.37457543,  35.56480306,  39.06939937,\n",
       "        42.9193426 ,  47.14866363,  51.79474679,  56.89866029,\n",
       "        62.50551925,  68.6648845 ,  75.43120063,  82.86427729,\n",
       "        91.0298178 , 100.        ])})"
      ]
     },
     "execution_count": 70,
     "metadata": {},
     "output_type": "execute_result"
    }
   ],
   "source": [
    "param_grid = {\n",
    "    'clf__C': np.logspace(0, 2)\n",
    "}\n",
    "search1 = GridSearchCV(lg, param_grid, n_jobs=-1)\n",
    "search1.fit(X_train1, y_train1)"
   ]
  },
  {
   "cell_type": "code",
   "execution_count": 71,
   "metadata": {},
   "outputs": [],
   "source": [
    "pred1=search1.best_estimator_.predict(X_test1)"
   ]
  },
  {
   "cell_type": "code",
   "execution_count": 72,
   "metadata": {},
   "outputs": [
    {
     "name": "stdout",
     "output_type": "stream",
     "text": [
      "The root mean square error is 0.7503332592921628\n"
     ]
    }
   ],
   "source": [
    "print(f\"The root mean square error is {np.sqrt(mean_squared_error(y_test1,pred1))}\")"
   ]
  },
  {
   "cell_type": "code",
   "execution_count": null,
   "metadata": {},
   "outputs": [],
   "source": []
  },
  {
   "cell_type": "code",
   "execution_count": 73,
   "metadata": {},
   "outputs": [],
   "source": [
    "trained1 = fit_all([lsv1,sv1,lg1,mnb1,xgb1,rf1],X_train1,y_train1)"
   ]
  },
  {
   "cell_type": "code",
   "execution_count": 75,
   "metadata": {},
   "outputs": [],
   "source": [
    "pred1 = search.best_estimator_.predict(X_test1)"
   ]
  },
  {
   "cell_type": "code",
   "execution_count": 76,
   "metadata": {},
   "outputs": [
    {
     "name": "stdout",
     "output_type": "stream",
     "text": [
      "The root mean square error is 0.6902897942168926\n"
     ]
    }
   ],
   "source": [
    "print(f\"The root mean square error is {np.sqrt(mean_squared_error(y_test,lg2_pred))}\")"
   ]
  },
  {
   "cell_type": "code",
   "execution_count": 77,
   "metadata": {},
   "outputs": [],
   "source": [
    "##making predictions for each trained model\n",
    "\n",
    "##LinearSV\n",
    "lsvc1_pred= trained1[0].predict(X_test1)\n",
    "##SVC\n",
    "svc1_pred= trained1[1].predict(X_test1)\n",
    "##Logistic\n",
    "lg1_pred= trained1[2].predict(X_test1)\n",
    "##MultinomialNB\n",
    "mnb1_pred= trained1[3].predict(X_test1)\n",
    "##Xgboost\n",
    "xgb1_pred = trained1[4].predict(X_test1)\n",
    "##Random forest\n",
    "rf1_pred = trained1[5].predict(X_test1)"
   ]
  },
  {
   "cell_type": "code",
   "execution_count": 78,
   "metadata": {},
   "outputs": [
    {
     "name": "stdout",
     "output_type": "stream",
     "text": [
      "LinearSV\n",
      "0.6928203230275509\n",
      "\n",
      "\n",
      "\n",
      "SVC\n",
      "0.7060453243241541\n",
      "\n",
      "\n",
      "\n",
      "LOgistc\n",
      "0.6855654600401044\n",
      "\n",
      "\n",
      "\n",
      "Multinomial\n",
      "0.7439758060582347\n",
      "\n",
      "\n",
      "\n",
      "Xgboot\n",
      "0.722841614740048\n",
      "\n",
      "\n",
      "\n",
      "Random forest\n",
      "0.7300684899377592\n"
     ]
    }
   ],
   "source": [
    "print('LinearSV')\n",
    "print(np.sqrt(mean_squared_error(y_test1,lsvc1_pred)))\n",
    "print('\\n\\n')\n",
    "print('SVC')\n",
    "print(np.sqrt(mean_squared_error(y_test1,svc1_pred)))\n",
    "print('\\n\\n')\n",
    "print('LOgistc')\n",
    "print(np.sqrt(mean_squared_error(y_test1,lg1_pred)))\n",
    "print('\\n\\n')\n",
    "print('Multinomial')\n",
    "print(np.sqrt(mean_squared_error(y_test1,mnb1_pred)))\n",
    "print('\\n\\n')\n",
    "print('Xgboot')\n",
    "print(np.sqrt(mean_squared_error(y_test1,xgb1_pred)))\n",
    "print('\\n\\n')\n",
    "print('Random forest')\n",
    "print(np.sqrt(mean_squared_error(y_test1,rf1_pred)))"
   ]
  },
  {
   "cell_type": "code",
   "execution_count": 79,
   "metadata": {},
   "outputs": [],
   "source": [
    "##preparing the test set\n",
    "df2 =df_test.copy()"
   ]
  },
  {
   "cell_type": "code",
   "execution_count": 80,
   "metadata": {},
   "outputs": [],
   "source": [
    "##df2.drop('label',axis=1,inplace=True)"
   ]
  },
  {
   "cell_type": "code",
   "execution_count": 81,
   "metadata": {},
   "outputs": [
    {
     "data": {
      "text/html": [
       "<div>\n",
       "<style scoped>\n",
       "    .dataframe tbody tr th:only-of-type {\n",
       "        vertical-align: middle;\n",
       "    }\n",
       "\n",
       "    .dataframe tbody tr th {\n",
       "        vertical-align: top;\n",
       "    }\n",
       "\n",
       "    .dataframe thead th {\n",
       "        text-align: right;\n",
       "    }\n",
       "</style>\n",
       "<table border=\"1\" class=\"dataframe\">\n",
       "  <thead>\n",
       "    <tr style=\"text-align: right;\">\n",
       "      <th></th>\n",
       "      <th>tweet_id</th>\n",
       "      <th>safe_text</th>\n",
       "      <th>label</th>\n",
       "    </tr>\n",
       "  </thead>\n",
       "  <tbody>\n",
       "    <tr>\n",
       "      <th>0</th>\n",
       "      <td>00BHHHP1</td>\n",
       "      <td>&lt;user&gt; &lt;user&gt; ... &amp;amp; 4 a vaccine given 2 he...</td>\n",
       "      <td>-1.0</td>\n",
       "    </tr>\n",
       "    <tr>\n",
       "      <th>1</th>\n",
       "      <td>00UNMD0E</td>\n",
       "      <td>Students starting school without whooping coug...</td>\n",
       "      <td>1.0</td>\n",
       "    </tr>\n",
       "    <tr>\n",
       "      <th>2</th>\n",
       "      <td>01AXPTJF</td>\n",
       "      <td>I'm kinda over every ep of &lt;user&gt; being \"rippe...</td>\n",
       "      <td>0.0</td>\n",
       "    </tr>\n",
       "    <tr>\n",
       "      <th>3</th>\n",
       "      <td>01HOEQJW</td>\n",
       "      <td>How many innocent children die for lack of vac...</td>\n",
       "      <td>1.0</td>\n",
       "    </tr>\n",
       "    <tr>\n",
       "      <th>4</th>\n",
       "      <td>01JUKMAO</td>\n",
       "      <td>CDC eyeing bird flu vaccine for humans, though...</td>\n",
       "      <td>0.0</td>\n",
       "    </tr>\n",
       "  </tbody>\n",
       "</table>\n",
       "</div>"
      ],
      "text/plain": [
       "   tweet_id                                          safe_text  label\n",
       "0  00BHHHP1  <user> <user> ... &amp; 4 a vaccine given 2 he...   -1.0\n",
       "1  00UNMD0E  Students starting school without whooping coug...    1.0\n",
       "2  01AXPTJF  I'm kinda over every ep of <user> being \"rippe...    0.0\n",
       "3  01HOEQJW  How many innocent children die for lack of vac...    1.0\n",
       "4  01JUKMAO  CDC eyeing bird flu vaccine for humans, though...    0.0"
      ]
     },
     "execution_count": 81,
     "metadata": {},
     "output_type": "execute_result"
    }
   ],
   "source": [
    "df2.head()"
   ]
  },
  {
   "cell_type": "code",
   "execution_count": 82,
   "metadata": {},
   "outputs": [],
   "source": [
    "##remove punc\n",
    "df2['no_punc']=df2['safe_text'].apply(remove_punc)"
   ]
  },
  {
   "cell_type": "code",
   "execution_count": 83,
   "metadata": {},
   "outputs": [
    {
     "data": {
      "text/html": [
       "<div>\n",
       "<style scoped>\n",
       "    .dataframe tbody tr th:only-of-type {\n",
       "        vertical-align: middle;\n",
       "    }\n",
       "\n",
       "    .dataframe tbody tr th {\n",
       "        vertical-align: top;\n",
       "    }\n",
       "\n",
       "    .dataframe thead th {\n",
       "        text-align: right;\n",
       "    }\n",
       "</style>\n",
       "<table border=\"1\" class=\"dataframe\">\n",
       "  <thead>\n",
       "    <tr style=\"text-align: right;\">\n",
       "      <th></th>\n",
       "      <th>tweet_id</th>\n",
       "      <th>safe_text</th>\n",
       "      <th>label</th>\n",
       "      <th>no_punc</th>\n",
       "    </tr>\n",
       "  </thead>\n",
       "  <tbody>\n",
       "    <tr>\n",
       "      <th>0</th>\n",
       "      <td>00BHHHP1</td>\n",
       "      <td>&lt;user&gt; &lt;user&gt; ... &amp;amp; 4 a vaccine given 2 he...</td>\n",
       "      <td>-1.0</td>\n",
       "      <td>user user amp 4 a vaccine given 2 healthy peep...</td>\n",
       "    </tr>\n",
       "    <tr>\n",
       "      <th>1</th>\n",
       "      <td>00UNMD0E</td>\n",
       "      <td>Students starting school without whooping coug...</td>\n",
       "      <td>1.0</td>\n",
       "      <td>Students starting school without whooping coug...</td>\n",
       "    </tr>\n",
       "    <tr>\n",
       "      <th>2</th>\n",
       "      <td>01AXPTJF</td>\n",
       "      <td>I'm kinda over every ep of &lt;user&gt; being \"rippe...</td>\n",
       "      <td>0.0</td>\n",
       "      <td>I m kinda over every ep of user being ripped f...</td>\n",
       "    </tr>\n",
       "    <tr>\n",
       "      <th>3</th>\n",
       "      <td>01HOEQJW</td>\n",
       "      <td>How many innocent children die for lack of vac...</td>\n",
       "      <td>1.0</td>\n",
       "      <td>How many innocent children die for lack of vac...</td>\n",
       "    </tr>\n",
       "    <tr>\n",
       "      <th>4</th>\n",
       "      <td>01JUKMAO</td>\n",
       "      <td>CDC eyeing bird flu vaccine for humans, though...</td>\n",
       "      <td>0.0</td>\n",
       "      <td>CDC eyeing bird flu vaccine for humans though ...</td>\n",
       "    </tr>\n",
       "  </tbody>\n",
       "</table>\n",
       "</div>"
      ],
      "text/plain": [
       "   tweet_id                                          safe_text  label  \\\n",
       "0  00BHHHP1  <user> <user> ... &amp; 4 a vaccine given 2 he...   -1.0   \n",
       "1  00UNMD0E  Students starting school without whooping coug...    1.0   \n",
       "2  01AXPTJF  I'm kinda over every ep of <user> being \"rippe...    0.0   \n",
       "3  01HOEQJW  How many innocent children die for lack of vac...    1.0   \n",
       "4  01JUKMAO  CDC eyeing bird flu vaccine for humans, though...    0.0   \n",
       "\n",
       "                                             no_punc  \n",
       "0  user user amp 4 a vaccine given 2 healthy peep...  \n",
       "1  Students starting school without whooping coug...  \n",
       "2  I m kinda over every ep of user being ripped f...  \n",
       "3  How many innocent children die for lack of vac...  \n",
       "4  CDC eyeing bird flu vaccine for humans though ...  "
      ]
     },
     "execution_count": 83,
     "metadata": {},
     "output_type": "execute_result"
    }
   ],
   "source": [
    "df2.head()"
   ]
  },
  {
   "cell_type": "code",
   "execution_count": 84,
   "metadata": {},
   "outputs": [],
   "source": [
    "df2['lower_case']=df2['no_punc'].apply(lower_case)"
   ]
  },
  {
   "cell_type": "code",
   "execution_count": 85,
   "metadata": {},
   "outputs": [
    {
     "data": {
      "text/html": [
       "<div>\n",
       "<style scoped>\n",
       "    .dataframe tbody tr th:only-of-type {\n",
       "        vertical-align: middle;\n",
       "    }\n",
       "\n",
       "    .dataframe tbody tr th {\n",
       "        vertical-align: top;\n",
       "    }\n",
       "\n",
       "    .dataframe thead th {\n",
       "        text-align: right;\n",
       "    }\n",
       "</style>\n",
       "<table border=\"1\" class=\"dataframe\">\n",
       "  <thead>\n",
       "    <tr style=\"text-align: right;\">\n",
       "      <th></th>\n",
       "      <th>tweet_id</th>\n",
       "      <th>safe_text</th>\n",
       "      <th>label</th>\n",
       "      <th>no_punc</th>\n",
       "      <th>lower_case</th>\n",
       "    </tr>\n",
       "  </thead>\n",
       "  <tbody>\n",
       "    <tr>\n",
       "      <th>0</th>\n",
       "      <td>00BHHHP1</td>\n",
       "      <td>&lt;user&gt; &lt;user&gt; ... &amp;amp; 4 a vaccine given 2 he...</td>\n",
       "      <td>-1.0</td>\n",
       "      <td>user user amp 4 a vaccine given 2 healthy peep...</td>\n",
       "      <td>user user amp 4 a vaccine given 2 healthy peep...</td>\n",
       "    </tr>\n",
       "    <tr>\n",
       "      <th>1</th>\n",
       "      <td>00UNMD0E</td>\n",
       "      <td>Students starting school without whooping coug...</td>\n",
       "      <td>1.0</td>\n",
       "      <td>Students starting school without whooping coug...</td>\n",
       "      <td>students starting school without whooping coug...</td>\n",
       "    </tr>\n",
       "    <tr>\n",
       "      <th>2</th>\n",
       "      <td>01AXPTJF</td>\n",
       "      <td>I'm kinda over every ep of &lt;user&gt; being \"rippe...</td>\n",
       "      <td>0.0</td>\n",
       "      <td>I m kinda over every ep of user being ripped f...</td>\n",
       "      <td>i m kinda over every ep of user being ripped f...</td>\n",
       "    </tr>\n",
       "    <tr>\n",
       "      <th>3</th>\n",
       "      <td>01HOEQJW</td>\n",
       "      <td>How many innocent children die for lack of vac...</td>\n",
       "      <td>1.0</td>\n",
       "      <td>How many innocent children die for lack of vac...</td>\n",
       "      <td>how many innocent children die for lack of vac...</td>\n",
       "    </tr>\n",
       "    <tr>\n",
       "      <th>4</th>\n",
       "      <td>01JUKMAO</td>\n",
       "      <td>CDC eyeing bird flu vaccine for humans, though...</td>\n",
       "      <td>0.0</td>\n",
       "      <td>CDC eyeing bird flu vaccine for humans though ...</td>\n",
       "      <td>cdc eyeing bird flu vaccine for humans though ...</td>\n",
       "    </tr>\n",
       "  </tbody>\n",
       "</table>\n",
       "</div>"
      ],
      "text/plain": [
       "   tweet_id                                          safe_text  label  \\\n",
       "0  00BHHHP1  <user> <user> ... &amp; 4 a vaccine given 2 he...   -1.0   \n",
       "1  00UNMD0E  Students starting school without whooping coug...    1.0   \n",
       "2  01AXPTJF  I'm kinda over every ep of <user> being \"rippe...    0.0   \n",
       "3  01HOEQJW  How many innocent children die for lack of vac...    1.0   \n",
       "4  01JUKMAO  CDC eyeing bird flu vaccine for humans, though...    0.0   \n",
       "\n",
       "                                             no_punc  \\\n",
       "0  user user amp 4 a vaccine given 2 healthy peep...   \n",
       "1  Students starting school without whooping coug...   \n",
       "2  I m kinda over every ep of user being ripped f...   \n",
       "3  How many innocent children die for lack of vac...   \n",
       "4  CDC eyeing bird flu vaccine for humans though ...   \n",
       "\n",
       "                                          lower_case  \n",
       "0  user user amp 4 a vaccine given 2 healthy peep...  \n",
       "1  students starting school without whooping coug...  \n",
       "2  i m kinda over every ep of user being ripped f...  \n",
       "3  how many innocent children die for lack of vac...  \n",
       "4  cdc eyeing bird flu vaccine for humans though ...  "
      ]
     },
     "execution_count": 85,
     "metadata": {},
     "output_type": "execute_result"
    }
   ],
   "source": [
    "df2.head()"
   ]
  },
  {
   "cell_type": "code",
   "execution_count": 86,
   "metadata": {},
   "outputs": [],
   "source": [
    "df2['no_numbers']=df2['lower_case'].apply(remove_numbers)"
   ]
  },
  {
   "cell_type": "code",
   "execution_count": 87,
   "metadata": {},
   "outputs": [
    {
     "data": {
      "text/html": [
       "<div>\n",
       "<style scoped>\n",
       "    .dataframe tbody tr th:only-of-type {\n",
       "        vertical-align: middle;\n",
       "    }\n",
       "\n",
       "    .dataframe tbody tr th {\n",
       "        vertical-align: top;\n",
       "    }\n",
       "\n",
       "    .dataframe thead th {\n",
       "        text-align: right;\n",
       "    }\n",
       "</style>\n",
       "<table border=\"1\" class=\"dataframe\">\n",
       "  <thead>\n",
       "    <tr style=\"text-align: right;\">\n",
       "      <th></th>\n",
       "      <th>tweet_id</th>\n",
       "      <th>safe_text</th>\n",
       "      <th>label</th>\n",
       "      <th>no_punc</th>\n",
       "      <th>lower_case</th>\n",
       "      <th>no_numbers</th>\n",
       "    </tr>\n",
       "  </thead>\n",
       "  <tbody>\n",
       "    <tr>\n",
       "      <th>0</th>\n",
       "      <td>00BHHHP1</td>\n",
       "      <td>&lt;user&gt; &lt;user&gt; ... &amp;amp; 4 a vaccine given 2 he...</td>\n",
       "      <td>-1.0</td>\n",
       "      <td>user user amp 4 a vaccine given 2 healthy peep...</td>\n",
       "      <td>user user amp 4 a vaccine given 2 healthy peep...</td>\n",
       "      <td>user user amp  a vaccine given  healthy peeps ...</td>\n",
       "    </tr>\n",
       "    <tr>\n",
       "      <th>1</th>\n",
       "      <td>00UNMD0E</td>\n",
       "      <td>Students starting school without whooping coug...</td>\n",
       "      <td>1.0</td>\n",
       "      <td>Students starting school without whooping coug...</td>\n",
       "      <td>students starting school without whooping coug...</td>\n",
       "      <td>students starting school without whooping coug...</td>\n",
       "    </tr>\n",
       "    <tr>\n",
       "      <th>2</th>\n",
       "      <td>01AXPTJF</td>\n",
       "      <td>I'm kinda over every ep of &lt;user&gt; being \"rippe...</td>\n",
       "      <td>0.0</td>\n",
       "      <td>I m kinda over every ep of user being ripped f...</td>\n",
       "      <td>i m kinda over every ep of user being ripped f...</td>\n",
       "      <td>i m kinda over every ep of user being ripped f...</td>\n",
       "    </tr>\n",
       "    <tr>\n",
       "      <th>3</th>\n",
       "      <td>01HOEQJW</td>\n",
       "      <td>How many innocent children die for lack of vac...</td>\n",
       "      <td>1.0</td>\n",
       "      <td>How many innocent children die for lack of vac...</td>\n",
       "      <td>how many innocent children die for lack of vac...</td>\n",
       "      <td>how many innocent children die for lack of vac...</td>\n",
       "    </tr>\n",
       "    <tr>\n",
       "      <th>4</th>\n",
       "      <td>01JUKMAO</td>\n",
       "      <td>CDC eyeing bird flu vaccine for humans, though...</td>\n",
       "      <td>0.0</td>\n",
       "      <td>CDC eyeing bird flu vaccine for humans though ...</td>\n",
       "      <td>cdc eyeing bird flu vaccine for humans though ...</td>\n",
       "      <td>cdc eyeing bird flu vaccine for humans though ...</td>\n",
       "    </tr>\n",
       "  </tbody>\n",
       "</table>\n",
       "</div>"
      ],
      "text/plain": [
       "   tweet_id                                          safe_text  label  \\\n",
       "0  00BHHHP1  <user> <user> ... &amp; 4 a vaccine given 2 he...   -1.0   \n",
       "1  00UNMD0E  Students starting school without whooping coug...    1.0   \n",
       "2  01AXPTJF  I'm kinda over every ep of <user> being \"rippe...    0.0   \n",
       "3  01HOEQJW  How many innocent children die for lack of vac...    1.0   \n",
       "4  01JUKMAO  CDC eyeing bird flu vaccine for humans, though...    0.0   \n",
       "\n",
       "                                             no_punc  \\\n",
       "0  user user amp 4 a vaccine given 2 healthy peep...   \n",
       "1  Students starting school without whooping coug...   \n",
       "2  I m kinda over every ep of user being ripped f...   \n",
       "3  How many innocent children die for lack of vac...   \n",
       "4  CDC eyeing bird flu vaccine for humans though ...   \n",
       "\n",
       "                                          lower_case  \\\n",
       "0  user user amp 4 a vaccine given 2 healthy peep...   \n",
       "1  students starting school without whooping coug...   \n",
       "2  i m kinda over every ep of user being ripped f...   \n",
       "3  how many innocent children die for lack of vac...   \n",
       "4  cdc eyeing bird flu vaccine for humans though ...   \n",
       "\n",
       "                                          no_numbers  \n",
       "0  user user amp  a vaccine given  healthy peeps ...  \n",
       "1  students starting school without whooping coug...  \n",
       "2  i m kinda over every ep of user being ripped f...  \n",
       "3  how many innocent children die for lack of vac...  \n",
       "4  cdc eyeing bird flu vaccine for humans though ...  "
      ]
     },
     "execution_count": 87,
     "metadata": {},
     "output_type": "execute_result"
    }
   ],
   "source": [
    "df2.head()"
   ]
  },
  {
   "cell_type": "code",
   "execution_count": 88,
   "metadata": {},
   "outputs": [],
   "source": [
    "X_val1 = df2['no_numbers']"
   ]
  },
  {
   "cell_type": "code",
   "execution_count": 89,
   "metadata": {},
   "outputs": [],
   "source": [
    "##df2['label']=lg1.predict(X_val)"
   ]
  },
  {
   "cell_type": "code",
   "execution_count": 90,
   "metadata": {},
   "outputs": [],
   "source": [
    "submission2 = df2[['tweet_id','label']]"
   ]
  },
  {
   "cell_type": "code",
   "execution_count": 91,
   "metadata": {},
   "outputs": [
    {
     "data": {
      "text/html": [
       "<div>\n",
       "<style scoped>\n",
       "    .dataframe tbody tr th:only-of-type {\n",
       "        vertical-align: middle;\n",
       "    }\n",
       "\n",
       "    .dataframe tbody tr th {\n",
       "        vertical-align: top;\n",
       "    }\n",
       "\n",
       "    .dataframe thead th {\n",
       "        text-align: right;\n",
       "    }\n",
       "</style>\n",
       "<table border=\"1\" class=\"dataframe\">\n",
       "  <thead>\n",
       "    <tr style=\"text-align: right;\">\n",
       "      <th></th>\n",
       "      <th>tweet_id</th>\n",
       "      <th>label</th>\n",
       "    </tr>\n",
       "  </thead>\n",
       "  <tbody>\n",
       "    <tr>\n",
       "      <th>0</th>\n",
       "      <td>00BHHHP1</td>\n",
       "      <td>-1.0</td>\n",
       "    </tr>\n",
       "    <tr>\n",
       "      <th>1</th>\n",
       "      <td>00UNMD0E</td>\n",
       "      <td>1.0</td>\n",
       "    </tr>\n",
       "    <tr>\n",
       "      <th>2</th>\n",
       "      <td>01AXPTJF</td>\n",
       "      <td>0.0</td>\n",
       "    </tr>\n",
       "    <tr>\n",
       "      <th>3</th>\n",
       "      <td>01HOEQJW</td>\n",
       "      <td>1.0</td>\n",
       "    </tr>\n",
       "    <tr>\n",
       "      <th>4</th>\n",
       "      <td>01JUKMAO</td>\n",
       "      <td>0.0</td>\n",
       "    </tr>\n",
       "  </tbody>\n",
       "</table>\n",
       "</div>"
      ],
      "text/plain": [
       "   tweet_id  label\n",
       "0  00BHHHP1   -1.0\n",
       "1  00UNMD0E    1.0\n",
       "2  01AXPTJF    0.0\n",
       "3  01HOEQJW    1.0\n",
       "4  01JUKMAO    0.0"
      ]
     },
     "execution_count": 91,
     "metadata": {},
     "output_type": "execute_result"
    }
   ],
   "source": [
    "submission2.head()"
   ]
  },
  {
   "cell_type": "code",
   "execution_count": 92,
   "metadata": {},
   "outputs": [],
   "source": [
    "submission2.to_csv('submission2.csv',index=False)"
   ]
  },
  {
   "cell_type": "code",
   "execution_count": 93,
   "metadata": {},
   "outputs": [],
   "source": [
    "df2['label']=lsv1.predict(X_val)"
   ]
  },
  {
   "cell_type": "code",
   "execution_count": 94,
   "metadata": {},
   "outputs": [],
   "source": [
    "submission3 = df2[['tweet_id','label']]"
   ]
  },
  {
   "cell_type": "code",
   "execution_count": 95,
   "metadata": {},
   "outputs": [],
   "source": [
    "submission3.to_csv('submission3.csv',index=False)"
   ]
  },
  {
   "cell_type": "code",
   "execution_count": 96,
   "metadata": {},
   "outputs": [],
   "source": [
    "################### working on submision 3 #################################################\n",
    "##romoving stopwords\n",
    "\n",
    "    "
   ]
  },
  {
   "cell_type": "code",
   "execution_count": 97,
   "metadata": {},
   "outputs": [],
   "source": [
    "stop=stopwords.words('english')"
   ]
  },
  {
   "cell_type": "code",
   "execution_count": 98,
   "metadata": {},
   "outputs": [],
   "source": [
    "def remove_stop(string1):\n",
    "    totenizer=RegexpTokenizer(r'\\w+')\n",
    "    \n",
    "    return ' '.join(i for i in totenizer.tokenize(string1) if i not in stop)"
   ]
  },
  {
   "cell_type": "code",
   "execution_count": 99,
   "metadata": {},
   "outputs": [
    {
     "data": {
      "text/plain": [
       "'love playing weights'"
      ]
     },
     "execution_count": 99,
     "metadata": {},
     "output_type": "execute_result"
    }
   ],
   "source": [
    "remove_stop('i love playing with weights')"
   ]
  },
  {
   "cell_type": "code",
   "execution_count": 100,
   "metadata": {},
   "outputs": [],
   "source": [
    "df1['no_stop'] = df1['no_numbers'].apply(remove_stop)"
   ]
  },
  {
   "cell_type": "code",
   "execution_count": 101,
   "metadata": {},
   "outputs": [],
   "source": [
    "X2 = df1['no_stop']\n",
    "y2 = df1['label']"
   ]
  },
  {
   "cell_type": "code",
   "execution_count": 102,
   "metadata": {},
   "outputs": [],
   "source": [
    "X_train2, X_test2, y_train2, y_test2 = train_test_split(X2, y2, test_size=0.2, random_state=42)"
   ]
  },
  {
   "cell_type": "code",
   "execution_count": 103,
   "metadata": {},
   "outputs": [],
   "source": [
    "lsv2 = Pipeline([('vec',TfidfVectorizer()),('clf',LinearSVC())])\n",
    "sv2 = Pipeline([('vec',TfidfVectorizer()),('clf',SVC())])\n",
    "lg2 = Pipeline([('vec',TfidfVectorizer()),('clf',LogisticRegression(max_iter=1000))])\n",
    "mnb2 = Pipeline([('vec',TfidfVectorizer()),('clf',MultinomialNB())])\n",
    "xgb2 = Pipeline([('vec',TfidfVectorizer()),('clf',XGBClassifier())])\n",
    "rf2 = Pipeline([('vec',TfidfVectorizer()),('clf',RandomForestClassifier())])"
   ]
  },
  {
   "cell_type": "code",
   "execution_count": 104,
   "metadata": {},
   "outputs": [
    {
     "data": {
      "text/plain": [
       "GridSearchCV(estimator=Pipeline(steps=[('vec', TfidfVectorizer()),\n",
       "                                       ('clf',\n",
       "                                        LogisticRegression(class_weight='balanced',\n",
       "                                                           max_iter=10000))]),\n",
       "             n_jobs=-1,\n",
       "             param_grid={'clf__C': array([  1.        ,   1.09854114,   1.20679264,   1.32571137,\n",
       "         1.45634848,   1.59985872,   1.75751062,   1.93069773,\n",
       "         2.12095089,   2.32995181,   2.55954792,   2.8117687 ,\n",
       "         3.0888436 ,   3.39322177,   3.72759372,   4.09491506,\n",
       "         4.49843267,   4...2,\n",
       "         6.55128557,   7.19685673,   7.90604321,   8.68511374,\n",
       "         9.54095476,  10.48113134,  11.51395399,  12.64855217,\n",
       "        13.89495494,  15.26417967,  16.76832937,  18.42069969,\n",
       "        20.23589648,  22.22996483,  24.42053095,  26.82695795,\n",
       "        29.47051703,  32.37457543,  35.56480306,  39.06939937,\n",
       "        42.9193426 ,  47.14866363,  51.79474679,  56.89866029,\n",
       "        62.50551925,  68.6648845 ,  75.43120063,  82.86427729,\n",
       "        91.0298178 , 100.        ])})"
      ]
     },
     "execution_count": 104,
     "metadata": {},
     "output_type": "execute_result"
    }
   ],
   "source": [
    "param_grid = {\n",
    "    'clf__C': np.logspace(0, 2)\n",
    "}\n",
    "search2 = GridSearchCV(lg, param_grid, n_jobs=-1)\n",
    "search2.fit(X_train2, y_train2)"
   ]
  },
  {
   "cell_type": "code",
   "execution_count": 105,
   "metadata": {},
   "outputs": [],
   "source": [
    "pred2=search2.best_estimator_.predict(X_test2)"
   ]
  },
  {
   "cell_type": "code",
   "execution_count": 106,
   "metadata": {},
   "outputs": [
    {
     "name": "stdout",
     "output_type": "stream",
     "text": [
      "The root mean square error is 0.7526619427073485\n"
     ]
    }
   ],
   "source": [
    "print(f\"The root mean square error is {np.sqrt(mean_squared_error(y_test2,pred2))}\")"
   ]
  },
  {
   "cell_type": "code",
   "execution_count": 107,
   "metadata": {},
   "outputs": [],
   "source": [
    "trained2 = fit_all([lsv2,sv2,lg2,mnb2,xgb2,rf2],X_train2,y_train2)"
   ]
  },
  {
   "cell_type": "code",
   "execution_count": 108,
   "metadata": {},
   "outputs": [],
   "source": [
    "##LinearSV\n",
    "lsvc2_pred= trained2[0].predict(X_test2)\n",
    "##SVC\n",
    "svc2_pred= trained2[1].predict(X_test2)\n",
    "##Logistic\n",
    "lg2_pred= trained2[2].predict(X_test2)\n",
    "##MultinomialNB\n",
    "mnb2_pred= trained2[3].predict(X_test2)\n",
    "##Xgboost\n",
    "xgb2_pred = trained2[4].predict(X_test2)\n",
    "##Random forest\n",
    "rf2_pred = trained2[5].predict(X_test2)"
   ]
  },
  {
   "cell_type": "code",
   "execution_count": 109,
   "metadata": {},
   "outputs": [
    {
     "name": "stdout",
     "output_type": "stream",
     "text": [
      "LinearSV\n",
      "0.6931810730249348\n",
      "\n",
      "\n",
      "\n",
      "SVC\n",
      "0.698212002188447\n",
      "\n",
      "\n",
      "\n",
      "LOgistc\n",
      "0.6989277502002621\n",
      "\n",
      "\n",
      "\n",
      "Multinomial\n",
      "0.7402702209328699\n",
      "\n",
      "\n",
      "\n",
      "Xgboot\n",
      "0.7099295739719539\n",
      "\n",
      "\n",
      "\n",
      "Random forest\n",
      "0.7276675064890558\n"
     ]
    }
   ],
   "source": [
    "print('LinearSV')\n",
    "print(np.sqrt(mean_squared_error(y_test2,lsvc2_pred)))\n",
    "print('\\n\\n')\n",
    "print('SVC')\n",
    "print(np.sqrt(mean_squared_error(y_test2,svc2_pred)))\n",
    "print('\\n\\n')\n",
    "print('LOgistc')\n",
    "print(np.sqrt(mean_squared_error(y_test2,lg2_pred)))\n",
    "print('\\n\\n')\n",
    "print('Multinomial')\n",
    "print(np.sqrt(mean_squared_error(y_test2,mnb2_pred)))\n",
    "print('\\n\\n')\n",
    "print('Xgboot')\n",
    "print(np.sqrt(mean_squared_error(y_test2,xgb2_pred)))\n",
    "print('\\n\\n')\n",
    "print('Random forest')\n",
    "print(np.sqrt(mean_squared_error(y_test2,rf2_pred)))"
   ]
  },
  {
   "cell_type": "code",
   "execution_count": 110,
   "metadata": {},
   "outputs": [],
   "source": [
    "from nltk.stem import WordNetLemmatizer\n",
    "##lemalization\n",
    "def lemmatise(string1):\n",
    "    lem = WordNetLemmatizer()\n",
    "    totenizer=RegexpTokenizer(r'\\w+')\n",
    "    \n",
    "    return ' '.join(lem.lemmatize(i) for i in totenizer.tokenize(string1))"
   ]
  },
  {
   "cell_type": "code",
   "execution_count": 111,
   "metadata": {},
   "outputs": [
    {
     "data": {
      "text/plain": [
       "'i am currently doing my degree in computer science'"
      ]
     },
     "execution_count": 111,
     "metadata": {},
     "output_type": "execute_result"
    }
   ],
   "source": [
    "lemmatise('i am currently doing my degrees in computer sciences')"
   ]
  },
  {
   "cell_type": "code",
   "execution_count": 112,
   "metadata": {},
   "outputs": [],
   "source": [
    "df1['lemmatized']=df1['no_stop'].apply(lemmatise)"
   ]
  },
  {
   "cell_type": "code",
   "execution_count": 113,
   "metadata": {},
   "outputs": [
    {
     "data": {
      "text/html": [
       "<div>\n",
       "<style scoped>\n",
       "    .dataframe tbody tr th:only-of-type {\n",
       "        vertical-align: middle;\n",
       "    }\n",
       "\n",
       "    .dataframe tbody tr th {\n",
       "        vertical-align: top;\n",
       "    }\n",
       "\n",
       "    .dataframe thead th {\n",
       "        text-align: right;\n",
       "    }\n",
       "</style>\n",
       "<table border=\"1\" class=\"dataframe\">\n",
       "  <thead>\n",
       "    <tr style=\"text-align: right;\">\n",
       "      <th></th>\n",
       "      <th>tweet_id</th>\n",
       "      <th>safe_text</th>\n",
       "      <th>label</th>\n",
       "      <th>agreement</th>\n",
       "      <th>no_puct</th>\n",
       "      <th>lower_case</th>\n",
       "      <th>no_numbers</th>\n",
       "      <th>no_stop</th>\n",
       "      <th>lemmatized</th>\n",
       "    </tr>\n",
       "  </thead>\n",
       "  <tbody>\n",
       "    <tr>\n",
       "      <th>0</th>\n",
       "      <td>CL1KWCMY</td>\n",
       "      <td>Me &amp;amp; The Big Homie meanboy3000 #MEANBOY #M...</td>\n",
       "      <td>0.0</td>\n",
       "      <td>1.0</td>\n",
       "      <td>Me amp The Big Homie meanboy3000 MEANBOY MB MB...</td>\n",
       "      <td>me amp the big homie meanboy3000 meanboy mb mb...</td>\n",
       "      <td>me amp the big homie meanboy meanboy mb mbs mm...</td>\n",
       "      <td>amp big homie meanboy meanboy mb mbs mmr stegm...</td>\n",
       "      <td>amp big homie meanboy meanboy mb mb mmr stegma...</td>\n",
       "    </tr>\n",
       "    <tr>\n",
       "      <th>1</th>\n",
       "      <td>E3303EME</td>\n",
       "      <td>I'm 100% thinking of devoting my career to pro...</td>\n",
       "      <td>1.0</td>\n",
       "      <td>1.0</td>\n",
       "      <td>I m 100 thinking of devoting my career to prov...</td>\n",
       "      <td>i m 100 thinking of devoting my career to prov...</td>\n",
       "      <td>i m  thinking of devoting my career to proving...</td>\n",
       "      <td>thinking devoting career proving autism caused...</td>\n",
       "      <td>thinking devoting career proving autism caused...</td>\n",
       "    </tr>\n",
       "    <tr>\n",
       "      <th>2</th>\n",
       "      <td>M4IVFSMS</td>\n",
       "      <td>#whatcausesautism VACCINES, DO NOT VACCINATE Y...</td>\n",
       "      <td>-1.0</td>\n",
       "      <td>1.0</td>\n",
       "      <td>whatcausesautism VACCINES DO NOT VACCINATE YOU...</td>\n",
       "      <td>whatcausesautism vaccines do not vaccinate you...</td>\n",
       "      <td>whatcausesautism vaccines do not vaccinate you...</td>\n",
       "      <td>whatcausesautism vaccines vaccinate child</td>\n",
       "      <td>whatcausesautism vaccine vaccinate child</td>\n",
       "    </tr>\n",
       "    <tr>\n",
       "      <th>3</th>\n",
       "      <td>1DR6ROZ4</td>\n",
       "      <td>I mean if they immunize my kid with something ...</td>\n",
       "      <td>-1.0</td>\n",
       "      <td>1.0</td>\n",
       "      <td>I mean if they immunize my kid with something ...</td>\n",
       "      <td>i mean if they immunize my kid with something ...</td>\n",
       "      <td>i mean if they immunize my kid with something ...</td>\n",
       "      <td>mean immunize kid something secretly kill year...</td>\n",
       "      <td>mean immunize kid something secretly kill year...</td>\n",
       "    </tr>\n",
       "    <tr>\n",
       "      <th>4</th>\n",
       "      <td>J77ENIIE</td>\n",
       "      <td>Thanks to &lt;user&gt; Catch me performing at La Nui...</td>\n",
       "      <td>0.0</td>\n",
       "      <td>1.0</td>\n",
       "      <td>Thanks to user Catch me performing at La Nuit ...</td>\n",
       "      <td>thanks to user catch me performing at la nuit ...</td>\n",
       "      <td>thanks to user catch me performing at la nuit ...</td>\n",
       "      <td>thanks user catch performing la nuit nyc st av...</td>\n",
       "      <td>thanks user catch performing la nuit nyc st av...</td>\n",
       "    </tr>\n",
       "  </tbody>\n",
       "</table>\n",
       "</div>"
      ],
      "text/plain": [
       "   tweet_id                                          safe_text  label  \\\n",
       "0  CL1KWCMY  Me &amp; The Big Homie meanboy3000 #MEANBOY #M...    0.0   \n",
       "1  E3303EME  I'm 100% thinking of devoting my career to pro...    1.0   \n",
       "2  M4IVFSMS  #whatcausesautism VACCINES, DO NOT VACCINATE Y...   -1.0   \n",
       "3  1DR6ROZ4  I mean if they immunize my kid with something ...   -1.0   \n",
       "4  J77ENIIE  Thanks to <user> Catch me performing at La Nui...    0.0   \n",
       "\n",
       "   agreement                                            no_puct  \\\n",
       "0        1.0  Me amp The Big Homie meanboy3000 MEANBOY MB MB...   \n",
       "1        1.0  I m 100 thinking of devoting my career to prov...   \n",
       "2        1.0  whatcausesautism VACCINES DO NOT VACCINATE YOU...   \n",
       "3        1.0  I mean if they immunize my kid with something ...   \n",
       "4        1.0  Thanks to user Catch me performing at La Nuit ...   \n",
       "\n",
       "                                          lower_case  \\\n",
       "0  me amp the big homie meanboy3000 meanboy mb mb...   \n",
       "1  i m 100 thinking of devoting my career to prov...   \n",
       "2  whatcausesautism vaccines do not vaccinate you...   \n",
       "3  i mean if they immunize my kid with something ...   \n",
       "4  thanks to user catch me performing at la nuit ...   \n",
       "\n",
       "                                          no_numbers  \\\n",
       "0  me amp the big homie meanboy meanboy mb mbs mm...   \n",
       "1  i m  thinking of devoting my career to proving...   \n",
       "2  whatcausesautism vaccines do not vaccinate you...   \n",
       "3  i mean if they immunize my kid with something ...   \n",
       "4  thanks to user catch me performing at la nuit ...   \n",
       "\n",
       "                                             no_stop  \\\n",
       "0  amp big homie meanboy meanboy mb mbs mmr stegm...   \n",
       "1  thinking devoting career proving autism caused...   \n",
       "2          whatcausesautism vaccines vaccinate child   \n",
       "3  mean immunize kid something secretly kill year...   \n",
       "4  thanks user catch performing la nuit nyc st av...   \n",
       "\n",
       "                                          lemmatized  \n",
       "0  amp big homie meanboy meanboy mb mb mmr stegma...  \n",
       "1  thinking devoting career proving autism caused...  \n",
       "2           whatcausesautism vaccine vaccinate child  \n",
       "3  mean immunize kid something secretly kill year...  \n",
       "4  thanks user catch performing la nuit nyc st av...  "
      ]
     },
     "execution_count": 113,
     "metadata": {},
     "output_type": "execute_result"
    }
   ],
   "source": [
    "df1.head()"
   ]
  },
  {
   "cell_type": "code",
   "execution_count": 114,
   "metadata": {},
   "outputs": [],
   "source": [
    "X3 = df1['lemmatized']\n",
    "y3 = df1['label']"
   ]
  },
  {
   "cell_type": "code",
   "execution_count": 115,
   "metadata": {},
   "outputs": [],
   "source": [
    "X_train3, X_test3, y_train3, y_test3 = train_test_split(X3, y3, test_size=0.2, random_state=42)"
   ]
  },
  {
   "cell_type": "code",
   "execution_count": 116,
   "metadata": {},
   "outputs": [],
   "source": [
    "lsv3 = Pipeline([('vec',TfidfVectorizer()),('clf',LinearSVC())])\n",
    "sv3 = Pipeline([('vec',TfidfVectorizer()),('clf',SVC())])\n",
    "lg3 = Pipeline([('vec',TfidfVectorizer()),('clf',LogisticRegression(max_iter=1000))])\n",
    "mnb3 = Pipeline([('vec',TfidfVectorizer()),('clf',MultinomialNB())])\n",
    "xgb3 = Pipeline([('vec',TfidfVectorizer()),('clf',XGBClassifier())])\n",
    "rf3 = Pipeline([('vec',TfidfVectorizer()),('clf',RandomForestClassifier())])"
   ]
  },
  {
   "cell_type": "code",
   "execution_count": 117,
   "metadata": {},
   "outputs": [
    {
     "data": {
      "text/plain": [
       "GridSearchCV(estimator=Pipeline(steps=[('vec', TfidfVectorizer()),\n",
       "                                       ('clf',\n",
       "                                        LogisticRegression(class_weight='balanced',\n",
       "                                                           max_iter=10000))]),\n",
       "             n_jobs=-1,\n",
       "             param_grid={'clf__C': array([  1.        ,   1.09854114,   1.20679264,   1.32571137,\n",
       "         1.45634848,   1.59985872,   1.75751062,   1.93069773,\n",
       "         2.12095089,   2.32995181,   2.55954792,   2.8117687 ,\n",
       "         3.0888436 ,   3.39322177,   3.72759372,   4.09491506,\n",
       "         4.49843267,   4...2,\n",
       "         6.55128557,   7.19685673,   7.90604321,   8.68511374,\n",
       "         9.54095476,  10.48113134,  11.51395399,  12.64855217,\n",
       "        13.89495494,  15.26417967,  16.76832937,  18.42069969,\n",
       "        20.23589648,  22.22996483,  24.42053095,  26.82695795,\n",
       "        29.47051703,  32.37457543,  35.56480306,  39.06939937,\n",
       "        42.9193426 ,  47.14866363,  51.79474679,  56.89866029,\n",
       "        62.50551925,  68.6648845 ,  75.43120063,  82.86427729,\n",
       "        91.0298178 , 100.        ])})"
      ]
     },
     "execution_count": 117,
     "metadata": {},
     "output_type": "execute_result"
    }
   ],
   "source": [
    "param_grid = {\n",
    "    'clf__C': np.logspace(0, 2)\n",
    "}\n",
    "search3 = GridSearchCV(lg, param_grid, n_jobs=-1)\n",
    "search3.fit(X_train3, y_train3)"
   ]
  },
  {
   "cell_type": "code",
   "execution_count": 118,
   "metadata": {},
   "outputs": [],
   "source": [
    "pred3=search3.best_estimator_.predict(X_test3)"
   ]
  },
  {
   "cell_type": "code",
   "execution_count": 119,
   "metadata": {},
   "outputs": [
    {
     "name": "stdout",
     "output_type": "stream",
     "text": [
      "The root mean square error is 0.746659226153404\n"
     ]
    }
   ],
   "source": [
    "print(f\"The root mean square error is {np.sqrt(mean_squared_error(y_test3,pred3))}\")"
   ]
  },
  {
   "cell_type": "code",
   "execution_count": null,
   "metadata": {},
   "outputs": [],
   "source": []
  },
  {
   "cell_type": "code",
   "execution_count": null,
   "metadata": {},
   "outputs": [],
   "source": []
  },
  {
   "cell_type": "code",
   "execution_count": 120,
   "metadata": {},
   "outputs": [],
   "source": [
    "trained3 = fit_all([lsv3,sv3,lg3,mnb3,xgb3,rf3],X_train3,y_train3)"
   ]
  },
  {
   "cell_type": "code",
   "execution_count": 121,
   "metadata": {},
   "outputs": [],
   "source": [
    "##LinearSV\n",
    "lsvc3_pred= trained3[0].predict(X_test3)\n",
    "##SVC\n",
    "svc3_pred= trained3[1].predict(X_test3)\n",
    "##Logistic\n",
    "lg3_pred= trained3[2].predict(X_test3)\n",
    "##MultinomialNB\n",
    "mnb3_pred= trained3[3].predict(X_test3)\n",
    "##Xgboost\n",
    "xgb3_pred = trained3[4].predict(X_test3)\n",
    "##Random forest\n",
    "rf3_pred = trained3[5].predict(X_test3)"
   ]
  },
  {
   "cell_type": "code",
   "execution_count": 122,
   "metadata": {},
   "outputs": [
    {
     "name": "stdout",
     "output_type": "stream",
     "text": [
      "LinearSV\n",
      "0.6931810730249348\n",
      "\n",
      "\n",
      "\n",
      "SVC\n",
      "0.6844705983459042\n",
      "\n",
      "\n",
      "\n",
      "LOgistc\n",
      "0.6953416426476987\n",
      "\n",
      "\n",
      "\n",
      "Multinomial\n",
      "0.73824115301167\n",
      "\n",
      "\n",
      "\n",
      "Xgboot\n",
      "0.7231873892705818\n",
      "\n",
      "\n",
      "\n",
      "Random forest\n",
      "0.7224956747275377\n"
     ]
    }
   ],
   "source": [
    "print('LinearSV')\n",
    "print(np.sqrt(mean_squared_error(y_test3,lsvc3_pred)))\n",
    "print('\\n\\n')\n",
    "print('SVC')\n",
    "print(np.sqrt(mean_squared_error(y_test3,svc3_pred)))\n",
    "print('\\n\\n')\n",
    "print('LOgistc')\n",
    "print(np.sqrt(mean_squared_error(y_test3,lg3_pred)))\n",
    "print('\\n\\n')\n",
    "print('Multinomial')\n",
    "print(np.sqrt(mean_squared_error(y_test3,mnb3_pred)))\n",
    "print('\\n\\n')\n",
    "print('Xgboot')\n",
    "print(np.sqrt(mean_squared_error(y_test3,xgb3_pred)))\n",
    "print('\\n\\n')\n",
    "print('Random forest')\n",
    "print(np.sqrt(mean_squared_error(y_test3,rf3_pred)))"
   ]
  },
  {
   "cell_type": "code",
   "execution_count": 123,
   "metadata": {},
   "outputs": [
    {
     "data": {
      "text/html": [
       "<div>\n",
       "<style scoped>\n",
       "    .dataframe tbody tr th:only-of-type {\n",
       "        vertical-align: middle;\n",
       "    }\n",
       "\n",
       "    .dataframe tbody tr th {\n",
       "        vertical-align: top;\n",
       "    }\n",
       "\n",
       "    .dataframe thead th {\n",
       "        text-align: right;\n",
       "    }\n",
       "</style>\n",
       "<table border=\"1\" class=\"dataframe\">\n",
       "  <thead>\n",
       "    <tr style=\"text-align: right;\">\n",
       "      <th></th>\n",
       "      <th>tweet_id</th>\n",
       "      <th>safe_text</th>\n",
       "      <th>label</th>\n",
       "      <th>no_punc</th>\n",
       "      <th>lower_case</th>\n",
       "      <th>no_numbers</th>\n",
       "    </tr>\n",
       "  </thead>\n",
       "  <tbody>\n",
       "    <tr>\n",
       "      <th>0</th>\n",
       "      <td>00BHHHP1</td>\n",
       "      <td>&lt;user&gt; &lt;user&gt; ... &amp;amp; 4 a vaccine given 2 he...</td>\n",
       "      <td>-1.0</td>\n",
       "      <td>user user amp 4 a vaccine given 2 healthy peep...</td>\n",
       "      <td>user user amp 4 a vaccine given 2 healthy peep...</td>\n",
       "      <td>user user amp  a vaccine given  healthy peeps ...</td>\n",
       "    </tr>\n",
       "    <tr>\n",
       "      <th>1</th>\n",
       "      <td>00UNMD0E</td>\n",
       "      <td>Students starting school without whooping coug...</td>\n",
       "      <td>0.0</td>\n",
       "      <td>Students starting school without whooping coug...</td>\n",
       "      <td>students starting school without whooping coug...</td>\n",
       "      <td>students starting school without whooping coug...</td>\n",
       "    </tr>\n",
       "    <tr>\n",
       "      <th>2</th>\n",
       "      <td>01AXPTJF</td>\n",
       "      <td>I'm kinda over every ep of &lt;user&gt; being \"rippe...</td>\n",
       "      <td>0.0</td>\n",
       "      <td>I m kinda over every ep of user being ripped f...</td>\n",
       "      <td>i m kinda over every ep of user being ripped f...</td>\n",
       "      <td>i m kinda over every ep of user being ripped f...</td>\n",
       "    </tr>\n",
       "    <tr>\n",
       "      <th>3</th>\n",
       "      <td>01HOEQJW</td>\n",
       "      <td>How many innocent children die for lack of vac...</td>\n",
       "      <td>1.0</td>\n",
       "      <td>How many innocent children die for lack of vac...</td>\n",
       "      <td>how many innocent children die for lack of vac...</td>\n",
       "      <td>how many innocent children die for lack of vac...</td>\n",
       "    </tr>\n",
       "    <tr>\n",
       "      <th>4</th>\n",
       "      <td>01JUKMAO</td>\n",
       "      <td>CDC eyeing bird flu vaccine for humans, though...</td>\n",
       "      <td>0.0</td>\n",
       "      <td>CDC eyeing bird flu vaccine for humans though ...</td>\n",
       "      <td>cdc eyeing bird flu vaccine for humans though ...</td>\n",
       "      <td>cdc eyeing bird flu vaccine for humans though ...</td>\n",
       "    </tr>\n",
       "  </tbody>\n",
       "</table>\n",
       "</div>"
      ],
      "text/plain": [
       "   tweet_id                                          safe_text  label  \\\n",
       "0  00BHHHP1  <user> <user> ... &amp; 4 a vaccine given 2 he...   -1.0   \n",
       "1  00UNMD0E  Students starting school without whooping coug...    0.0   \n",
       "2  01AXPTJF  I'm kinda over every ep of <user> being \"rippe...    0.0   \n",
       "3  01HOEQJW  How many innocent children die for lack of vac...    1.0   \n",
       "4  01JUKMAO  CDC eyeing bird flu vaccine for humans, though...    0.0   \n",
       "\n",
       "                                             no_punc  \\\n",
       "0  user user amp 4 a vaccine given 2 healthy peep...   \n",
       "1  Students starting school without whooping coug...   \n",
       "2  I m kinda over every ep of user being ripped f...   \n",
       "3  How many innocent children die for lack of vac...   \n",
       "4  CDC eyeing bird flu vaccine for humans though ...   \n",
       "\n",
       "                                          lower_case  \\\n",
       "0  user user amp 4 a vaccine given 2 healthy peep...   \n",
       "1  students starting school without whooping coug...   \n",
       "2  i m kinda over every ep of user being ripped f...   \n",
       "3  how many innocent children die for lack of vac...   \n",
       "4  cdc eyeing bird flu vaccine for humans though ...   \n",
       "\n",
       "                                          no_numbers  \n",
       "0  user user amp  a vaccine given  healthy peeps ...  \n",
       "1  students starting school without whooping coug...  \n",
       "2  i m kinda over every ep of user being ripped f...  \n",
       "3  how many innocent children die for lack of vac...  \n",
       "4  cdc eyeing bird flu vaccine for humans though ...  "
      ]
     },
     "execution_count": 123,
     "metadata": {},
     "output_type": "execute_result"
    }
   ],
   "source": [
    "##preparing the test set\n",
    "df2.head()"
   ]
  },
  {
   "cell_type": "code",
   "execution_count": 124,
   "metadata": {},
   "outputs": [],
   "source": [
    "df2['no_stop'] = df2['no_numbers'].apply(remove_stop)"
   ]
  },
  {
   "cell_type": "code",
   "execution_count": 125,
   "metadata": {},
   "outputs": [],
   "source": [
    "df2['lemmatized'] = df2['no_stop'].apply(lemmatise)"
   ]
  },
  {
   "cell_type": "code",
   "execution_count": 126,
   "metadata": {},
   "outputs": [],
   "source": [
    "X_val3 = df2['lemmatized']"
   ]
  },
  {
   "cell_type": "code",
   "execution_count": 127,
   "metadata": {},
   "outputs": [],
   "source": [
    "df2['label']=search3.best_estimator_.predict(X_val3)"
   ]
  },
  {
   "cell_type": "code",
   "execution_count": 128,
   "metadata": {},
   "outputs": [
    {
     "data": {
      "text/html": [
       "<div>\n",
       "<style scoped>\n",
       "    .dataframe tbody tr th:only-of-type {\n",
       "        vertical-align: middle;\n",
       "    }\n",
       "\n",
       "    .dataframe tbody tr th {\n",
       "        vertical-align: top;\n",
       "    }\n",
       "\n",
       "    .dataframe thead th {\n",
       "        text-align: right;\n",
       "    }\n",
       "</style>\n",
       "<table border=\"1\" class=\"dataframe\">\n",
       "  <thead>\n",
       "    <tr style=\"text-align: right;\">\n",
       "      <th></th>\n",
       "      <th>tweet_id</th>\n",
       "      <th>safe_text</th>\n",
       "      <th>label</th>\n",
       "      <th>no_punc</th>\n",
       "      <th>lower_case</th>\n",
       "      <th>no_numbers</th>\n",
       "      <th>no_stop</th>\n",
       "      <th>lemmatized</th>\n",
       "    </tr>\n",
       "  </thead>\n",
       "  <tbody>\n",
       "    <tr>\n",
       "      <th>0</th>\n",
       "      <td>00BHHHP1</td>\n",
       "      <td>&lt;user&gt; &lt;user&gt; ... &amp;amp; 4 a vaccine given 2 he...</td>\n",
       "      <td>-1.0</td>\n",
       "      <td>user user amp 4 a vaccine given 2 healthy peep...</td>\n",
       "      <td>user user amp 4 a vaccine given 2 healthy peep...</td>\n",
       "      <td>user user amp  a vaccine given  healthy peeps ...</td>\n",
       "      <td>user user amp vaccine given healthy peeps fda ...</td>\n",
       "      <td>user user amp vaccine given healthy peep fda t...</td>\n",
       "    </tr>\n",
       "    <tr>\n",
       "      <th>1</th>\n",
       "      <td>00UNMD0E</td>\n",
       "      <td>Students starting school without whooping coug...</td>\n",
       "      <td>1.0</td>\n",
       "      <td>Students starting school without whooping coug...</td>\n",
       "      <td>students starting school without whooping coug...</td>\n",
       "      <td>students starting school without whooping coug...</td>\n",
       "      <td>students starting school without whooping coug...</td>\n",
       "      <td>student starting school without whooping cough...</td>\n",
       "    </tr>\n",
       "    <tr>\n",
       "      <th>2</th>\n",
       "      <td>01AXPTJF</td>\n",
       "      <td>I'm kinda over every ep of &lt;user&gt; being \"rippe...</td>\n",
       "      <td>0.0</td>\n",
       "      <td>I m kinda over every ep of user being ripped f...</td>\n",
       "      <td>i m kinda over every ep of user being ripped f...</td>\n",
       "      <td>i m kinda over every ep of user being ripped f...</td>\n",
       "      <td>kinda every ep user ripped headlines measles l...</td>\n",
       "      <td>kinda every ep user ripped headline measles le...</td>\n",
       "    </tr>\n",
       "    <tr>\n",
       "      <th>3</th>\n",
       "      <td>01HOEQJW</td>\n",
       "      <td>How many innocent children die for lack of vac...</td>\n",
       "      <td>1.0</td>\n",
       "      <td>How many innocent children die for lack of vac...</td>\n",
       "      <td>how many innocent children die for lack of vac...</td>\n",
       "      <td>how many innocent children die for lack of vac...</td>\n",
       "      <td>many innocent children die lack vaccination ye...</td>\n",
       "      <td>many innocent child die lack vaccination year ...</td>\n",
       "    </tr>\n",
       "    <tr>\n",
       "      <th>4</th>\n",
       "      <td>01JUKMAO</td>\n",
       "      <td>CDC eyeing bird flu vaccine for humans, though...</td>\n",
       "      <td>0.0</td>\n",
       "      <td>CDC eyeing bird flu vaccine for humans though ...</td>\n",
       "      <td>cdc eyeing bird flu vaccine for humans though ...</td>\n",
       "      <td>cdc eyeing bird flu vaccine for humans though ...</td>\n",
       "      <td>cdc eyeing bird flu vaccine humans though risk...</td>\n",
       "      <td>cdc eyeing bird flu vaccine human though risk ...</td>\n",
       "    </tr>\n",
       "  </tbody>\n",
       "</table>\n",
       "</div>"
      ],
      "text/plain": [
       "   tweet_id                                          safe_text  label  \\\n",
       "0  00BHHHP1  <user> <user> ... &amp; 4 a vaccine given 2 he...   -1.0   \n",
       "1  00UNMD0E  Students starting school without whooping coug...    1.0   \n",
       "2  01AXPTJF  I'm kinda over every ep of <user> being \"rippe...    0.0   \n",
       "3  01HOEQJW  How many innocent children die for lack of vac...    1.0   \n",
       "4  01JUKMAO  CDC eyeing bird flu vaccine for humans, though...    0.0   \n",
       "\n",
       "                                             no_punc  \\\n",
       "0  user user amp 4 a vaccine given 2 healthy peep...   \n",
       "1  Students starting school without whooping coug...   \n",
       "2  I m kinda over every ep of user being ripped f...   \n",
       "3  How many innocent children die for lack of vac...   \n",
       "4  CDC eyeing bird flu vaccine for humans though ...   \n",
       "\n",
       "                                          lower_case  \\\n",
       "0  user user amp 4 a vaccine given 2 healthy peep...   \n",
       "1  students starting school without whooping coug...   \n",
       "2  i m kinda over every ep of user being ripped f...   \n",
       "3  how many innocent children die for lack of vac...   \n",
       "4  cdc eyeing bird flu vaccine for humans though ...   \n",
       "\n",
       "                                          no_numbers  \\\n",
       "0  user user amp  a vaccine given  healthy peeps ...   \n",
       "1  students starting school without whooping coug...   \n",
       "2  i m kinda over every ep of user being ripped f...   \n",
       "3  how many innocent children die for lack of vac...   \n",
       "4  cdc eyeing bird flu vaccine for humans though ...   \n",
       "\n",
       "                                             no_stop  \\\n",
       "0  user user amp vaccine given healthy peeps fda ...   \n",
       "1  students starting school without whooping coug...   \n",
       "2  kinda every ep user ripped headlines measles l...   \n",
       "3  many innocent children die lack vaccination ye...   \n",
       "4  cdc eyeing bird flu vaccine humans though risk...   \n",
       "\n",
       "                                          lemmatized  \n",
       "0  user user amp vaccine given healthy peep fda t...  \n",
       "1  student starting school without whooping cough...  \n",
       "2  kinda every ep user ripped headline measles le...  \n",
       "3  many innocent child die lack vaccination year ...  \n",
       "4  cdc eyeing bird flu vaccine human though risk ...  "
      ]
     },
     "execution_count": 128,
     "metadata": {},
     "output_type": "execute_result"
    }
   ],
   "source": [
    "df2.head()"
   ]
  },
  {
   "cell_type": "code",
   "execution_count": 129,
   "metadata": {},
   "outputs": [],
   "source": [
    "submission6 = df2[['tweet_id','label']]"
   ]
  },
  {
   "cell_type": "code",
   "execution_count": 130,
   "metadata": {},
   "outputs": [],
   "source": [
    "submission6.to_csv('submission6.csv',index=False)"
   ]
  },
  {
   "cell_type": "code",
   "execution_count": 131,
   "metadata": {},
   "outputs": [],
   "source": [
    "##################################################### Random forest ############################################################\n"
   ]
  },
  {
   "cell_type": "code",
   "execution_count": 132,
   "metadata": {},
   "outputs": [],
   "source": [
    "rfs= Pipeline([('vec',TfidfVectorizer()),('clf',RandomForestClassifier())])"
   ]
  },
  {
   "cell_type": "code",
   "execution_count": 133,
   "metadata": {},
   "outputs": [
    {
     "data": {
      "text/plain": [
       "GridSearchCV(estimator=Pipeline(steps=[('vec', TfidfVectorizer()),\n",
       "                                       ('clf', RandomForestClassifier())]),\n",
       "             n_jobs=-1, param_grid={'clf__n_estimators': range(20, 1000, 20)})"
      ]
     },
     "execution_count": 133,
     "metadata": {},
     "output_type": "execute_result"
    }
   ],
   "source": [
    "param_grid = {\n",
    "    'clf__n_estimators': range(20,1000,20)\n",
    "}\n",
    "searchr1 = GridSearchCV(rfs, param_grid, n_jobs=-1)\n",
    "searchr1.fit(X_train, y_train)"
   ]
  },
  {
   "cell_type": "code",
   "execution_count": 134,
   "metadata": {},
   "outputs": [],
   "source": [
    "predr1 = searchr1.best_estimator_.predict(X_test)"
   ]
  },
  {
   "cell_type": "code",
   "execution_count": 135,
   "metadata": {},
   "outputs": [
    {
     "name": "stdout",
     "output_type": "stream",
     "text": [
      "The root mean square error is 0.726636084983398\n"
     ]
    }
   ],
   "source": [
    "print(f\"The root mean square error is {np.sqrt(mean_squared_error(y_test,predr1))}\")"
   ]
  },
  {
   "cell_type": "code",
   "execution_count": 136,
   "metadata": {},
   "outputs": [],
   "source": [
    "#############################################################################################################################"
   ]
  },
  {
   "cell_type": "code",
   "execution_count": 137,
   "metadata": {},
   "outputs": [],
   "source": [
    "from sklearn.neighbors import KNeighborsClassifier\n",
    "from sklearn.tree import DecisionTreeClassifier"
   ]
  },
  {
   "cell_type": "code",
   "execution_count": 138,
   "metadata": {},
   "outputs": [],
   "source": [
    "knn= Pipeline([('vec',TfidfVectorizer()),('clf',KNeighborsClassifier())])"
   ]
  },
  {
   "cell_type": "code",
   "execution_count": 139,
   "metadata": {},
   "outputs": [
    {
     "data": {
      "text/plain": [
       "Pipeline(steps=[('vec', TfidfVectorizer()), ('clf', KNeighborsClassifier())])"
      ]
     },
     "execution_count": 139,
     "metadata": {},
     "output_type": "execute_result"
    }
   ],
   "source": [
    "knn.fit(X_train,y_train)"
   ]
  },
  {
   "cell_type": "code",
   "execution_count": 140,
   "metadata": {},
   "outputs": [],
   "source": [
    "predKnn = knn.predict(X_test)"
   ]
  },
  {
   "cell_type": "code",
   "execution_count": 141,
   "metadata": {},
   "outputs": [
    {
     "name": "stdout",
     "output_type": "stream",
     "text": [
      "The root mean square error is 0.7249137879775773\n"
     ]
    }
   ],
   "source": [
    "print(f\"The root mean square error is {np.sqrt(mean_squared_error(y_test,predKnn))}\")"
   ]
  },
  {
   "cell_type": "code",
   "execution_count": 142,
   "metadata": {},
   "outputs": [
    {
     "data": {
      "text/plain": [
       "GridSearchCV(estimator=Pipeline(steps=[('vec', TfidfVectorizer()),\n",
       "                                       ('clf', KNeighborsClassifier())]),\n",
       "             n_jobs=-1, param_grid={'clf__n_neighbors': range(1, 20)})"
      ]
     },
     "execution_count": 142,
     "metadata": {},
     "output_type": "execute_result"
    }
   ],
   "source": [
    "param_grid = {\n",
    "    'clf__n_neighbors':range(1,20)\n",
    "}\n",
    "searchknn= GridSearchCV(knn, param_grid, n_jobs=-1)\n",
    "searchknn.fit(X_train, y_train)"
   ]
  },
  {
   "cell_type": "code",
   "execution_count": 143,
   "metadata": {},
   "outputs": [
    {
     "name": "stdout",
     "output_type": "stream",
     "text": [
      "The root mean square error is 0.7039176088151227\n"
     ]
    }
   ],
   "source": [
    "predKnn1 =searchknn.best_estimator_.predict(X_test)\n",
    "print(f\"The root mean square error is {np.sqrt(mean_squared_error(y_test,predKnn1))}\")"
   ]
  },
  {
   "cell_type": "code",
   "execution_count": 144,
   "metadata": {},
   "outputs": [],
   "source": [
    "##decisionTree\n",
    "dt= Pipeline([('vec',TfidfVectorizer()),('clf',DecisionTreeClassifier())])"
   ]
  },
  {
   "cell_type": "code",
   "execution_count": 145,
   "metadata": {},
   "outputs": [
    {
     "data": {
      "text/plain": [
       "Pipeline(steps=[('vec', TfidfVectorizer()), ('clf', DecisionTreeClassifier())])"
      ]
     },
     "execution_count": 145,
     "metadata": {},
     "output_type": "execute_result"
    }
   ],
   "source": [
    "dt.fit(X_train,y_train)"
   ]
  },
  {
   "cell_type": "code",
   "execution_count": 146,
   "metadata": {},
   "outputs": [],
   "source": [
    "preddt = dt.predict(X_test)"
   ]
  },
  {
   "cell_type": "code",
   "execution_count": 147,
   "metadata": {},
   "outputs": [
    {
     "name": "stdout",
     "output_type": "stream",
     "text": [
      "The root mean square error is 0.7861297602813418\n"
     ]
    }
   ],
   "source": [
    "print(f\"The root mean square error is {np.sqrt(mean_squared_error(y_test,preddt))}\")"
   ]
  },
  {
   "cell_type": "code",
   "execution_count": 148,
   "metadata": {},
   "outputs": [],
   "source": [
    "###nueral netwoks\n",
    "from sklearn.neural_network import MLPClassifier"
   ]
  },
  {
   "cell_type": "code",
   "execution_count": 149,
   "metadata": {},
   "outputs": [],
   "source": [
    "nn= Pipeline([('vec',TfidfVectorizer()),('clf',MLPClassifier())])"
   ]
  },
  {
   "cell_type": "code",
   "execution_count": 150,
   "metadata": {},
   "outputs": [
    {
     "data": {
      "text/plain": [
       "Pipeline(steps=[('vec', TfidfVectorizer()), ('clf', MLPClassifier())])"
      ]
     },
     "execution_count": 150,
     "metadata": {},
     "output_type": "execute_result"
    }
   ],
   "source": [
    "nn.fit(X_train2,y_train2)"
   ]
  },
  {
   "cell_type": "code",
   "execution_count": 151,
   "metadata": {},
   "outputs": [],
   "source": [
    "prednn = nn.predict(X_test2)"
   ]
  },
  {
   "cell_type": "code",
   "execution_count": 152,
   "metadata": {},
   "outputs": [
    {
     "name": "stdout",
     "output_type": "stream",
     "text": [
      "The root mean square error is 0.7784600182411425\n"
     ]
    }
   ],
   "source": [
    "print(f\"The root mean square error is {np.sqrt(mean_squared_error(y_test,prednn))}\")"
   ]
  },
  {
   "cell_type": "code",
   "execution_count": null,
   "metadata": {},
   "outputs": [],
   "source": []
  },
  {
   "cell_type": "code",
   "execution_count": null,
   "metadata": {},
   "outputs": [],
   "source": []
  },
  {
   "cell_type": "code",
   "execution_count": null,
   "metadata": {},
   "outputs": [],
   "source": []
  }
 ],
 "metadata": {
  "kernelspec": {
   "display_name": "Python 3",
   "language": "python",
   "name": "python3"
  },
  "language_info": {
   "codemirror_mode": {
    "name": "ipython",
    "version": 3
   },
   "file_extension": ".py",
   "mimetype": "text/x-python",
   "name": "python",
   "nbconvert_exporter": "python",
   "pygments_lexer": "ipython3",
   "version": "3.7.4"
  }
 },
 "nbformat": 4,
 "nbformat_minor": 4
}
